{
 "cells": [
  {
   "cell_type": "code",
   "execution_count": 3,
   "metadata": {
    "collapsed": true,
    "pycharm": {
     "name": "#%%\n"
    }
   },
   "outputs": [
    {
     "name": "stdout",
     "output_type": "stream",
     "text": [
      "5\n",
      "4\n",
      "3\n",
      "2\n",
      "1\n"
     ]
    }
   ],
   "source": [
    "# 2751 수 정렬하기2\n",
    "# N개의 수가 주어졌을 때, 이를 오름차순으로 정렬하는 프로그램을 작성하시오.\n",
    "# 첫째 줄에 수의 개수 N(1 ≤ N ≤ 1,000,000)이 주어진다. 둘째 줄부터 N개의 줄에는 수가 주어진다. 이 수는 절댓값이 1,000,000보다 작거나 같은 정수이다. 수는 중복되지 않는다.\n",
    "\n",
    "M = int(input())\n",
    "num = []\n",
    "\n",
    "for i in range(M):\n",
    "    a = int(input())\n",
    "    num.append(a)\n",
    "\n",
    "# 병합정렬\n",
    "def merge_sort(target):\n",
    "    if len(target) < 2:\n",
    "        return target\n",
    "\n",
    "    mid = len(target) // 2\n",
    "    low_arr = merge_sort(target[:mid])\n",
    "    high_arr = merge_sort(target[mid:])\n",
    "\n",
    "    merge_arr = []\n",
    "\n",
    "    l = h = 0\n",
    "\n",
    "    while l < len(low_arr) and h < len(high_arr):\n",
    "        if low_arr[l] < high_arr[h]:\n",
    "            merge_arr.append(low_arr[l])\n",
    "            l += 1\n",
    "        else:\n",
    "            merge_arr.append(high_arr[h])\n",
    "            h += 1\n",
    "\n",
    "    merge_arr += low_arr[l:]\n",
    "    merge_arr += high_arr[h:]\n",
    "\n",
    "    return merge_arr\n",
    "\n",
    "sort_num = merge_sort(num)\n",
    "for j in sort_num:\n",
    "    print(j)"
   ]
  },
  {
   "cell_type": "code",
   "execution_count": 6,
   "outputs": [
    {
     "name": "stdout",
     "output_type": "stream",
     "text": [
      "1\n",
      "2\n",
      "2\n",
      "3\n",
      "4\n",
      "5\n",
      "5\n",
      "6\n",
      "7\n",
      "8\n"
     ]
    }
   ],
   "source": [
    "# 10989 수 정렬하기3\n",
    "# N개의 수가 주어졌을 때, 이를 오름차순으로 정렬하는 프로그램을 작성하시오.\n",
    "# 첫째 줄에 수의 개수 N(1 ≤ N ≤ 10,000,000)이 주어진다. 둘째 줄부터 N개의 줄에는 수가 주어진다. 이 수는 10,000보다 작거나 같은 자연수이다.\n",
    "\n",
    "import sys\n",
    "\n",
    "N = int(sys.stdin.readline())\n",
    "arr = [0] * 10001\n",
    "\n",
    "for _ in range(N):\n",
    "    arr[int(sys.stdin.readline())] += 1\n",
    "\n",
    "for index, element in enumerate(arr):\n",
    "    if element != 0:\n",
    "        for _ in range(element):\n",
    "            print(index)\n",
    "#\n",
    "# for i in range(N):\n",
    "#     if arr[i] != 0:\n",
    "#         for _ in range(arr[i]):\n",
    "#             print(i)"
   ],
   "metadata": {
    "collapsed": false,
    "pycharm": {
     "name": "#%%\n"
    }
   }
  },
  {
   "cell_type": "code",
   "execution_count": 19,
   "outputs": [
    {
     "name": "stdout",
     "output_type": "stream",
     "text": [
      "3 5\n",
      "5 5\n",
      "5 11\n"
     ]
    }
   ],
   "source": [
    "# 9020 골드바흐의 추측\n",
    "# 1보다 큰 자연수 중에서  1과 자기 자신을 제외한 약수가 없는 자연수를 소수라고 한다. 예를 들어, 5는 1과 5를 제외한 약수가 없기 때문에 소수이다. 하지만, 6은 6 = 2 × 3 이기 때문에 소수가 아니다.\n",
    "# 골드바흐의 추측은 유명한 정수론의 미해결 문제로, 2보다 큰 모든 짝수는 두 소수의 합으로 나타낼 수 있다는 것이다. 이러한 수를 골드바흐 수라고 한다. 또, 짝수를 두 소수의 합으로 나타내는 표현을 그 수의 골드바흐 파티션이라고 한다. 예를 들면, 4 = 2 + 2, 6 = 3 + 3, 8 = 3 + 5, 10 = 5 + 5, 12 = 5 + 7, 14 = 3 + 11, 14 = 7 + 7이다. 10000보다 작거나 같은 모든 짝수 n에 대한 골드바흐 파티션은 존재한다.\n",
    "# 2보다 큰 짝수 n이 주어졌을 때, n의 골드바흐 파티션을 출력하는 프로그램을 작성하시오. 만약 가능한 n의 골드바흐 파티션이 여러 가지인 경우에는 두 소수의 차이가 가장 작은 것을 출력한다.\n",
    "\n",
    "T = int(input())\n",
    "num = []\n",
    "max = 10000\n",
    "\n",
    "for _ in range(T):\n",
    "    num.append(int(input()))\n",
    "\n",
    "prime = [1 for i in range(max + 1)]\n",
    "prime[0] = prime[1] = 0\n",
    "\n",
    "for number, _ in enumerate(prime) :\n",
    "    if prime[number] ==  1 :\n",
    "      for j in range(2*number, int(max ** 0.5), number) :\n",
    "          prime[j] = 0\n",
    "    else : continue\n",
    "\n",
    "prime_arr = [i for i in range(2, max + 1) if prime[i] == 1]\n",
    "\n",
    "for j in num:\n",
    "    goldbach_arr = []\n",
    "\n",
    "    for i in prime_arr:\n",
    "        target = j - i\n",
    "\n",
    "        if target in prime_arr:\n",
    "            if i > target: break\n",
    "            goldbach_arr.append([i, target])\n",
    "\n",
    "    a, b = goldbach_arr[-1]\n",
    "    print('{} {}'.format(a, b))"
   ],
   "metadata": {
    "collapsed": false,
    "pycharm": {
     "name": "#%%\n"
    }
   }
  }
 ],
 "metadata": {
  "kernelspec": {
   "display_name": "Python 3",
   "language": "python",
   "name": "python3"
  },
  "language_info": {
   "codemirror_mode": {
    "name": "ipython",
    "version": 2
   },
   "file_extension": ".py",
   "mimetype": "text/x-python",
   "name": "python",
   "nbconvert_exporter": "python",
   "pygments_lexer": "ipython2",
   "version": "2.7.6"
  }
 },
 "nbformat": 4,
 "nbformat_minor": 0
}