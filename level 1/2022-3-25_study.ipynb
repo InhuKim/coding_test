{
 "cells": [
  {
   "cell_type": "code",
   "execution_count": 2,
   "metadata": {
    "collapsed": true
   },
   "outputs": [
    {
     "name": "stdout",
     "output_type": "stream",
     "text": [
      "2/2\n"
     ]
    }
   ],
   "source": [
    "# 1193\n",
    "# 이와 같이 나열된 분수들을 1/1 → 1/2 → 2/1 → 3/1 → 2/2 → … 과 같은 지그재그 순서로 차례대로 1번, 2번, 3번, 4번, 5번, … 분수라고 하자.\n",
    "# X가 주어졌을 때, X번째 분수를 구하는 프로그램을 작성하시오.\n",
    "\n",
    "N = int(input())\n",
    "\n",
    "tmp = 0\n",
    "max = 0\n",
    "\n",
    "while N > max:\n",
    "    tmp += 1\n",
    "    max += tmp   # 횟수를 tmp에 더하고 max에 더하는 것으로 1부터의 수열의 합산을 넣어서 몇번째 라인인지 파악.\n",
    "\n",
    "gap = max - N   # 수열의 합을 주어진 숫자로 빼면 해당 줄의 순번을 구할 수 있다.\n",
    "\n",
    "if tmp % 2 == 0:\n",
    "    up = tmp - gap\n",
    "    down = gap + 1\n",
    "else:\n",
    "    up = gap + 1\n",
    "    down = tmp - gap\n",
    "\n",
    "print(\"{}/{}\".format(up, down))"
   ]
  }
 ],
 "metadata": {
  "kernelspec": {
   "display_name": "Python 3",
   "language": "python",
   "name": "python3"
  },
  "language_info": {
   "codemirror_mode": {
    "name": "ipython",
    "version": 2
   },
   "file_extension": ".py",
   "mimetype": "text/x-python",
   "name": "python",
   "nbconvert_exporter": "python",
   "pygments_lexer": "ipython2",
   "version": "2.7.6"
  }
 },
 "nbformat": 4,
 "nbformat_minor": 0
}