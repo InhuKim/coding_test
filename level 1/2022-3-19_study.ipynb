{
 "cells": [
  {
   "cell_type": "code",
   "execution_count": 16,
   "metadata": {
    "collapsed": true,
    "pycharm": {
     "name": "#%%\n"
    }
   },
   "outputs": [
    {
     "name": "stdout",
     "output_type": "stream",
     "text": [
      "105\n"
     ]
    }
   ],
   "source": [
    "# 1065\n",
    "# 어떤 양의 정수 X의 각 자리가 등차수열을 이룬다면, 그 수를 한수라고 한다. 등차수열은 연속된 두 개의 수의 차이가 일정한 수열을 말한다. N이 주어졌을 때, 1보다 크거나 같고, N보다 작거나 같은 한수의 개수를 출력하는 프로그램을 작성하시오.\n",
    "\n",
    "N = int(input())\n",
    "cnt = 0\n",
    "\n",
    "# 한수를 파악하기 위해서 주어진 숫자가 등차수열을 판별하는 함수.\n",
    "# 등차를 diff_list에 저장하고 첫번째 등차를 뒤의 나머지 등차과 비교하여 참과 거짓을 구분한다. 거짓이면 반복문을 끝낸다.\n",
    "\n",
    "def common_difference(x):\n",
    "    num = int(x)\n",
    "    diff_list = list()\n",
    "    for i in range(1, len(x)):\n",
    "        diff = int(x[i]) - int(x[i-1])\n",
    "        diff_list.append(diff)\n",
    "\n",
    "    check = 1\n",
    "    check_list = 0\n",
    "    for i in range(0,len(diff_list)):\n",
    "        if i == 0: check_list = diff_list[i]\n",
    "\n",
    "        if check_list != diff_list[i]:\n",
    "            check = 0\n",
    "            break\n",
    "\n",
    "    return check\n",
    "\n",
    "# 100이하의 숫자는 모두 한수로 취급하기 때문에 그대로 출력한다.\n",
    "if N < 100:\n",
    "    print(N)\n",
    "else:\n",
    "    cnt = 99\n",
    "    for i in range(100, N + 1):\n",
    "        num = str(i)\n",
    "        if common_difference(num) == 1:\n",
    "            cnt += 1\n",
    "\n",
    "    print(cnt)"
   ]
  }
 ],
 "metadata": {
  "kernelspec": {
   "display_name": "Python 3",
   "language": "python",
   "name": "python3"
  },
  "language_info": {
   "codemirror_mode": {
    "name": "ipython",
    "version": 2
   },
   "file_extension": ".py",
   "mimetype": "text/x-python",
   "name": "python",
   "nbconvert_exporter": "python",
   "pygments_lexer": "ipython2",
   "version": "2.7.6"
  }
 },
 "nbformat": 4,
 "nbformat_minor": 0
}