{
 "cells": [
  {
   "cell_type": "code",
   "execution_count": 6,
   "metadata": {
    "collapsed": true,
    "pycharm": {
     "name": "#%%\n"
    }
   },
   "outputs": [
    {
     "name": "stdout",
     "output_type": "stream",
     "text": [
      "4000\n",
      "4000\n",
      "4000\n",
      "0\n"
     ]
    }
   ],
   "source": [
    "# 2108 통계학\n",
    "# N개의 수가 주어졌을 때, 네 가지 기본 통계값을 구하는 프로그램을 작성하시오.\n",
    "# 산술평균 : N개의 수들의 합을 N으로 나눈 값\n",
    "# 중앙값 : N개의 수들을 증가하는 순서로 나열했을 경우 그 중앙에 위치하는 값\n",
    "# 최빈값 : N개의 수들 중 가장 많이 나타나는 값\n",
    "# 범위 : N개의 수들 중 최댓값과 최솟값의 차이\n",
    "# 첫째 줄에 수의 개수 N(1 ≤ N ≤ 500,000)이 주어진다. 단, N은 홀수이다. 그 다음 N개의 줄에는 정수들이 주어진다. 입력되는 정수의 절댓값은 4,000을 넘지 않는다.\n",
    "\n",
    "import sys\n",
    "\n",
    "def static_mean(arr):\n",
    "    return round(sum(arr)/N)\n",
    "\n",
    "def static_median(arr):\n",
    "    if len(arr) % 2 != 0:\n",
    "        n = int(len(arr) / 2) + 1\n",
    "        median = arr[n - 1]\n",
    "    elif len(arr) % 2 == 0:\n",
    "        n = int(len(arr) / 2)\n",
    "        median = int(arr[n] + arr[n+1] / 2)\n",
    "\n",
    "    return median\n",
    "\n",
    "def static_mode(arr):\n",
    "    count = dict()\n",
    "\n",
    "    for j in arr:\n",
    "        if j in count:\n",
    "            count[j] += 1\n",
    "        else:\n",
    "            count[j] = 1\n",
    "\n",
    "    mode_arr = sorted(count.items(), key= lambda x : -x[1])\n",
    "\n",
    "    if mode_arr[0][1] == mode_arr[1][1]:\n",
    "        mode = mode_arr[1][0]\n",
    "    else:\n",
    "        mode = mode_arr[0][0]\n",
    "\n",
    "    return mode\n",
    "\n",
    "\n",
    "def static_range(arr):\n",
    "    return max(arr) - min(arr)\n",
    "\n",
    "\n",
    "N = int(input())\n",
    "arr = []\n",
    "\n",
    "for i in range(N):\n",
    "    arr.append(int(input()))\n",
    "\n",
    "if N == 1:\n",
    "    for _ in range(3):\n",
    "        print(arr[0])\n",
    "    print(0)\n",
    "else:\n",
    "    sorted_arr = sorted(arr)\n",
    "    print(static_mean(sorted_arr))\n",
    "    print(static_median(sorted_arr))\n",
    "    print(static_mode(sorted_arr))\n",
    "    print(static_range(sorted_arr))"
   ]
  },
  {
   "cell_type": "code",
   "execution_count": 28,
   "outputs": [
    {
     "name": "stdout",
     "output_type": "stream",
     "text": [
      "4321\n"
     ]
    }
   ],
   "source": [
    "# 1427 소트인사이드\n",
    "# 배열을 정렬하는 것은 쉽다. 수가 주어지면, 그 수의 각 자리수를 내림차순으로 정렬해보자.\n",
    "# 첫째 줄에 정렬하려고 하는 수 N이 주어진다. N은 1,000,000,000보다 작거나 같은 자연수이다.\n",
    "\n",
    "import sys\n",
    "\n",
    "N = str(input())\n",
    "arr = [0] * 10\n",
    "target = ''\n",
    "\n",
    "for i in N:\n",
    "    num = int(i)\n",
    "    arr[num] += 1\n",
    "\n",
    "for index, element in enumerate(arr):\n",
    "    if element != 0:\n",
    "        for _ in range(element):\n",
    "            target += str(index)\n",
    "\n",
    "print(target[::-1])"
   ],
   "metadata": {
    "collapsed": false,
    "pycharm": {
     "name": "#%%\n"
    }
   }
  },
  {
   "cell_type": "code",
   "execution_count": 6,
   "outputs": [
    {
     "name": "stdout",
     "output_type": "stream",
     "text": [
      "1 -1\n",
      "1 1\n",
      "3 4\n"
     ]
    }
   ],
   "source": [
    "# 11650 좌표 정렬하기\n",
    "# 2차원 평면 위의 점 N개가 주어진다. 좌표를 x좌표가 증가하는 순으로, x좌표가 같으면 y좌표가 증가하는 순서로 정렬한 다음 출력하는 프로그램을 작성하시오.\n",
    "# 첫째 줄에 점의 개수 N (1 ≤ N ≤ 100,000)이 주어진다. 둘째 줄부터 N개의 줄에는 i번점의 위치 xi와 yi가 주어진다. (-100,000 ≤ xi, yi ≤ 100,000) 좌표는 항상 정수이고, 위치가 같은 두 점은 없다.\n",
    "\n",
    "# 딕셔너리로 풀기\n",
    "\n",
    "import sys\n",
    "\n",
    "N = int(input())\n",
    "cordinate_list = []\n",
    "\n",
    "for _ in range(N):\n",
    "    x, y = map(int, input().split())\n",
    "    cordinate_list.append([x, y])\n",
    "\n",
    "target_list = sorted(cordinate_list)\n",
    "\n",
    "for i in range(len(target_list)):\n",
    "    print('{} {}'.format(target_list[i][0], target_list[i][1]))\n",
    "\n",
    "\n",
    "# 숫자 범위가 넓어서 계수정렬을 사용해서 dictionary 자료형으로 만들어 정렬을 하려고 했는데 key값이 중복이 되지 않기 때문에 문제가 있다 생각해서\n",
    "# list 자료형으로 해결하려고 했음. 풀다보니 너무 복잡하게 생각해서 풀었다는 것을 알고 기존 코드는 주석처리하고 sorted 함수를 사용해서 간단하게 해결함.\n",
    "    # x_arr[x + constant] += 1\n",
    "    # y_arr[y + constant] += 1\n",
    "\n",
    "# sorted_x = []\n",
    "#\n",
    "# def count_sort(arr):\n",
    "#     sorted_list = []\n",
    "#     for index, element in enumerate(arr):\n",
    "#         if element != 0:\n",
    "#             for _ in range(element):\n",
    "#                 sorted_list.append(index - constant)\n",
    "#     return sorted_list\n",
    "#\n",
    "# sorted_x = count_sort(x_arr)\n",
    "# sorted_y = count_sort(y_arr)\n",
    "\n",
    "# for x_index, x_element, y_index, y_element in enumerate(x_arr, y_arr):\n",
    "#     if x_element != 0:\n",
    "#         for _ in range(x_element):\n",
    "#             cordinate_list.append()\n",
    "\n",
    "# for i in range(N):"
   ],
   "metadata": {
    "collapsed": false,
    "pycharm": {
     "name": "#%%\n"
    }
   }
  }
 ],
 "metadata": {
  "kernelspec": {
   "display_name": "Python 3",
   "language": "python",
   "name": "python3"
  },
  "language_info": {
   "codemirror_mode": {
    "name": "ipython",
    "version": 2
   },
   "file_extension": ".py",
   "mimetype": "text/x-python",
   "name": "python",
   "nbconvert_exporter": "python",
   "pygments_lexer": "ipython2",
   "version": "2.7.6"
  }
 },
 "nbformat": 4,
 "nbformat_minor": 0
}