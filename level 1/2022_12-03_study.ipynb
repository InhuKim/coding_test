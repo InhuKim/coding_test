{
 "cells": [
  {
   "cell_type": "code",
   "execution_count": 5,
   "metadata": {
    "collapsed": true,
    "pycharm": {
     "name": "#%%\n"
    }
   },
   "outputs": [
    {
     "name": "stdout",
     "output_type": "stream",
     "text": [
      "1\n"
     ]
    }
   ],
   "source": [
    "#14425 문자열 집합\n",
    "# 총 N개의 문자열로 이루어진 집합 S가 주어진다.\n",
    "# 입력으로 주어지는 M개의 문자열 중에서 집합 S에 포함되어 있는 것이 총 몇 개인지 구하는 프로그램을 작성하시오.\n",
    "# 첫째 줄에 문자열의 개수 N과 M (1 ≤ N ≤ 10,000, 1 ≤ M ≤ 10,000)이 주어진다.\n",
    "# 다음 N개의 줄에는 집합 S에 포함되어 있는 문자열들이 주어진다.\n",
    "# 다음 M개의 줄에는 검사해야 하는 문자열들이 주어진다.\n",
    "# 입력으로 주어지는 문자열은 알파벳 소문자로만 이루어져 있으며, 길이는 500을 넘지 않는다. 집합 S에 같은 문자열이 여러 번 주어지는 경우는 없다.\n",
    "\n",
    "N, M = map(int, input().split())\n",
    "n_str = []\n",
    "m_str = []\n",
    "count = 0\n",
    "\n",
    "for _ in range(N):\n",
    "    n_str.append(input())\n",
    "\n",
    "for _ in range(M):\n",
    "    string = str(input())\n",
    "\n",
    "    if string in n_str:\n",
    "        count += 1\n",
    "\n",
    "print(count)\n",
    "\n",
    "\n",
    "# 트리 구조를 사용해서 문자열 탐색을 실행.\n",
    "'''\n",
    "각 노드에 하나의 알파벳을 넣어서 연결된 트리 구조로 이해.\n",
    "각 key를 node의 이름으로 설정하고 data는 해당 노드로 내려와서 완성된 단어로 설정하여 없으면 비움.\n",
    "children은 그 밑으로 내려가는 노드들로 해당 노드에 해당하는 key값을 저장하였다.\n",
    "'''\n",
    "\n",
    "# 계속 시간초과가 발생.\n",
    "# 다른 사람들 정답을 확인하니 트리 구조로 그래프를 사용하지 않고 그냥 집합을 사용해서 풀었다.\n",
    "# 그래프를 사용해서 풀면 너무 시간 초과를 해결할 수 없을 것 같아 아래 방식은 패스.\n",
    "\n",
    "# class Node:\n",
    "#     def __init__(self, key, data=None):\n",
    "#         self.key = key\n",
    "#         self.data = data\n",
    "#         self.children = {}\n",
    "#\n",
    "# class Trie:\n",
    "#     def __init__(self):\n",
    "#         self.node = Node(None)\n",
    "#\n",
    "#     def insert(self, string):\n",
    "#         cur_node = self.node\n",
    "#\n",
    "#         for char in string:\n",
    "#             if char not in cur_node.children:\n",
    "#                 cur_node.children[char] = Node(char)\n",
    "#             cur_node = cur_node.children[char]\n",
    "#\n",
    "#         cur_node.data = string\n",
    "#\n",
    "#     def search(self, string):\n",
    "#         cur_node = self.node\n",
    "#\n",
    "#         for char in string:\n",
    "#             if char in cur_node.children:\n",
    "#                 cur_node = cur_node.children[char]\n",
    "#             else:\n",
    "#                 return 0\n",
    "#\n",
    "#         if cur_node.data:\n",
    "#             return 1\n",
    "#         else:\n",
    "#             return 0\n",
    "#\n",
    "# a = Trie()\n",
    "# count = 0\n",
    "#\n",
    "# for n in n_str:\n",
    "#     a.insert(n)\n",
    "#\n",
    "# for m in m_str:\n",
    "#     count += int(a.search(m))"
   ]
  },
  {
   "cell_type": "code",
   "execution_count": 19,
   "outputs": [
    {
     "name": "stdout",
     "output_type": "stream",
     "text": [
      "aa\n",
      "1\n"
     ]
    }
   ],
   "source": [
    "# 1620 나는야 포켓몬 마스터 이다솜\n",
    "'''\n",
    "첫째 줄에는 도감에 수록되어 있는 포켓몬의 개수 N이랑 내가 맞춰야 하는 문제의 개수 M이 주어져. N과 M은 1보다 크거나 같고, 100,000보다 작거나 같은 자연수인데, 자연수가 뭔지는 알지? 모르면 물어봐도 괜찮아. 나는 언제든지 질문에 답해줄 준비가 되어있어.\n",
    "\n",
    "둘째 줄부터 N개의 줄에 포켓몬의 번호가 1번인 포켓몬부터 N번에 해당하는 포켓몬까지 한 줄에 하나씩 입력으로 들어와. 포켓몬의 이름은 모두 영어로만 이루어져있고, 또, 음... 첫 글자만 대문자이고, 나머지 문자는 소문자로만 이루어져 있어. 아참! 일부 포켓몬은 마지막 문자만 대문자일 수도 있어. 포켓몬 이름의 최대 길이는 20, 최소 길이는 2야. 그 다음 줄부터 총 M개의 줄에 내가 맞춰야하는 문제가 입력으로 들어와. 문제가 알파벳으로만 들어오면 포켓몬 번호를 말해야 하고, 숫자로만 들어오면, 포켓몬 번호에 해당하는 문자를 출력해야해. 입력으로 들어오는 숫자는 반드시 1보다 크거나 같고, N보다 작거나 같고, 입력으로 들어오는 문자는 반드시 도감에 있는 포켓몬의 이름만 주어져. 그럼 화이팅!!!\n",
    "'''\n",
    "\n",
    "N, M = map(int, input().split())\n",
    "pokemon_dict = {}\n",
    "pokemon_num = {}\n",
    "\n",
    "for i in range(1, N+1):\n",
    "    a = str(input())\n",
    "    pokemon_dict[a] = i\n",
    "    pokemon_num[i] = a\n",
    "\n",
    "pokemon_list = [i for i in pokemon_dict.keys()]\n",
    "\n",
    "# list를 이용해서 숫자 입력을 처리했더니 출력 형식이 잘못되었습니다.가 발생.\n",
    "# .strip을 이용해서 공백을 제거하지 않으면 key, value 에러가 발생.\n",
    "\n",
    "# for _ in range(M):\n",
    "#     target = input()\n",
    "#\n",
    "#     if target.isdigit():\n",
    "#         print(pokemon_list[int(target)-1])\n",
    "#     else:\n",
    "#         print(pokemon_dict[target])\n",
    "\n",
    "\n",
    "for _ in range(M):\n",
    "    target = input()\n",
    "    if target.isdigit():\n",
    "        print(pokemon_num[int(target)])\n",
    "    else:\n",
    "        print(pokemon_dict[target])"
   ],
   "metadata": {
    "collapsed": false,
    "pycharm": {
     "name": "#%%\n"
    }
   }
  }
 ],
 "metadata": {
  "kernelspec": {
   "display_name": "Python 3",
   "language": "python",
   "name": "python3"
  },
  "language_info": {
   "codemirror_mode": {
    "name": "ipython",
    "version": 2
   },
   "file_extension": ".py",
   "mimetype": "text/x-python",
   "name": "python",
   "nbconvert_exporter": "python",
   "pygments_lexer": "ipython2",
   "version": "2.7.6"
  }
 },
 "nbformat": 4,
 "nbformat_minor": 0
}