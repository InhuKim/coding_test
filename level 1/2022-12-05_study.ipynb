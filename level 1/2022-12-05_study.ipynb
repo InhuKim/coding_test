{
 "cells": [
  {
   "cell_type": "code",
   "execution_count": 4,
   "metadata": {
    "collapsed": true,
    "pycharm": {
     "name": "#%%\n"
    }
   },
   "outputs": [
    {
     "name": "stdout",
     "output_type": "stream",
     "text": [
      "3 0 0 1 2 0 0 2\n"
     ]
    }
   ],
   "source": [
    "# 10816 숫자 카드 2\n",
    "import math\n",
    "\n",
    "'''\n",
    "숫자 카드는 정수 하나가 적혀져 있는 카드이다. 상근이는 숫자 카드 N개를 가지고 있다. 정수 M개가 주어졌을 때, 이 수가 적혀있는 숫자 카드를 상근이가 몇 개 가지고 있는지 구하는 프로그램을 작성하시오.\n",
    "첫째 줄에 상근이가 가지고 있는 숫자 카드의 개수 N(1 ≤ N ≤ 500,000)이 주어진다. 둘째 줄에는 숫자 카드에 적혀있는 정수가 주어진다. 숫자 카드에 적혀있는 수는 -10,000,000보다 크거나 같고, 10,000,000보다 작거나 같다.\n",
    "셋째 줄에는 M(1 ≤ M ≤ 500,000)이 주어진다. 넷째 줄에는 상근이가 몇 개 가지고 있는 숫자 카드인지 구해야 할 M개의 정수가 주어지며, 이 수는 공백으로 구분되어져 있다. 이 수도 -10,000,000보다 크거나 같고, 10,000,000보다 작거나 같다.\n",
    "'''\n",
    "\n",
    "N = int(input())\n",
    "a_list = list(map(str, input().split()))\n",
    "M = int(input())\n",
    "b_list = list(map(str, input().split()))\n",
    "\n",
    "result = []\n",
    "own_card = {card: 0 for card in a_list}\n",
    "\n",
    "for i in a_list:\n",
    "    own_card[i] += 1\n",
    "\n",
    "for j in b_list:\n",
    "    if j in own_card:\n",
    "        result.append(own_card[j])\n",
    "    else:\n",
    "        result.append(0)\n",
    "\n",
    "print(*result)"
   ]
  },
  {
   "cell_type": "code",
   "execution_count": 9,
   "outputs": [
    {
     "name": "stdout",
     "output_type": "stream",
     "text": [
      "2\n",
      "baesangwook\n",
      "ohhenrie\n"
     ]
    },
    {
     "data": {
      "text/plain": "'\\n첫번째 제출에서는 시간초과가 발생했는데 non_hear를 리스트 형태로 구현해서 발생.\\n시간을 절약하기 위한 방법을 찾다가 dictionary 함수에서 in 연산의 시간복잡도가 O(1)이기 때문에 딕셔너리로 변경하여 구현.[1]\\nstrip()메소드를 사용해서 공백을 제거하지 않았을 때 오답이 발생해서 공백 제거를 한 이후에 정답.\\n\\n1. 1764 문제풀이 블로그, https://gudwns1243.tistory.com/56\\n'"
     },
     "execution_count": 9,
     "metadata": {},
     "output_type": "execute_result"
    }
   ],
   "source": [
    "# 1764 듣보잡\n",
    "'''\n",
    "김진영이 듣도 못한 사람의 명단과, 보도 못한 사람의 명단이 주어질 때, 듣도 보도 못한 사람의 명단을 구하는 프로그램을 작성하시오.\n",
    "첫째 줄에 듣도 못한 사람의 수 N, 보도 못한 사람의 수 M이 주어진다. 이어서 둘째 줄부터 N개의 줄에 걸쳐 듣도 못한 사람의 이름과, N+2째 줄부터 보도 못한 사람의 이름이 순서대로 주어진다. 이름은 띄어쓰기 없이 알파벳 소문자로만 이루어지며, 그 길이는 20 이하이다. N, M은 500,000 이하의 자연수이다.\n",
    "듣도 못한 사람의 명단에는 중복되는 이름이 없으며, 보도 못한 사람의 명단도 마찬가지이다.\n",
    "'''\n",
    "\n",
    "N, M = map(int, input().split())\n",
    "non_hear = {}\n",
    "result = []\n",
    "\n",
    "for _ in range(N):\n",
    "    non_hear[str(input().strip())] = 0\n",
    "\n",
    "for _ in range(M):\n",
    "    a = str(input().strip())\n",
    "\n",
    "    if a in non_hear:\n",
    "        result.append(a)\n",
    "\n",
    "print(len(result))\n",
    "result.sort()\n",
    "for i in result:\n",
    "    print(i)\n",
    "\n",
    "\n",
    "'''\n",
    "첫번째 제출에서는 시간초과가 발생했는데 non_hear를 리스트 형태로 구현해서 발생.\n",
    "시간을 절약하기 위한 방법을 찾다가 dictionary 함수에서 in 연산의 시간복잡도가 O(1)이기 때문에 딕셔너리로 변경하여 구현.[1]\n",
    "strip()메소드를 사용해서 공백을 제거하지 않았을 때 오답이 발생해서 공백 제거를 한 이후에 정답.\n",
    "\n",
    "1. 1764 문제풀이 블로그, https://gudwns1243.tistory.com/56\n",
    "'''"
   ],
   "metadata": {
    "collapsed": false,
    "pycharm": {
     "name": "#%%\n"
    }
   }
  },
  {
   "cell_type": "code",
   "execution_count": 2,
   "outputs": [
    {
     "name": "stdout",
     "output_type": "stream",
     "text": [
      "4\n"
     ]
    }
   ],
   "source": [
    "# 1269 대칭 차집합\n",
    "'''\n",
    "자연수를 원소로 갖는 공집합이 아닌 두 집합 A와 B가 있다. 이때, 두 집합의 대칭 차집합의 원소의 개수를 출력하는 프로그램을 작성하시오. 두 집합 A와 B가 있을 때, (A-B)와 (B-A)의 합집합을 A와 B의 대칭 차집합이라고 한다.\n",
    "예를 들어, A = { 1, 2, 4 } 이고, B = { 2, 3, 4, 5, 6 } 라고 할 때,  A-B = { 1 } 이고, B-A = { 3, 5, 6 } 이므로, 대칭 차집합의 원소의 개수는 1 + 3 = 4개이다.\n",
    "첫째 줄에 집합 A의 원소의 개수와 집합 B의 원소의 개수가 빈 칸을 사이에 두고 주어진다. 둘째 줄에는 집합 A의 모든 원소가, 셋째 줄에는 집합 B의 모든 원소가 빈 칸을 사이에 두고 각각 주어진다. 각 집합의 원소의 개수는 200,000을 넘지 않으며, 모든 원소의 값은 100,000,000을 넘지 않는다.\n",
    "'''\n",
    "\n",
    "N, M = map(int, input().split())\n",
    "a_set = set(list(map(int, input().split())))\n",
    "b_set = set(list(map(int, input().split())))\n",
    "\n",
    "first = a_set - b_set\n",
    "second = b_set - a_set\n",
    "\n",
    "difference_set = first | second\n",
    "\n",
    "print(len(difference_set))"
   ],
   "metadata": {
    "collapsed": false,
    "pycharm": {
     "name": "#%%\n"
    }
   }
  },
  {
   "cell_type": "code",
   "execution_count": 42,
   "outputs": [
    {
     "name": "stdout",
     "output_type": "stream",
     "text": [
      "12\n"
     ]
    }
   ],
   "source": [
    "# 11478 서로 다른 부분 문자열의 개수\n",
    "'''\n",
    "문자열 S가 주어졌을 때, S의 서로 다른 부분 문자열의 개수를 구하는 프로그램을 작성하시오.\n",
    "부분 문자열은 S에서 연속된 일부분을 말하며, 길이가 1보다 크거나 같아야 한다.\n",
    "예를 들어, ababc의 부분 문자열은 a, b, a, b, c, ab, ba, ab, bc, aba, bab, abc, abab, babc, ababc가 있고, 서로 다른것의 개수는 12개이다.\n",
    "첫째 줄에 문자열 S가 주어진다. S는 알파벳 소문자로만 이루어져 있고, 길이는 1,000 이하이다.\n",
    "'''\n",
    "import itertools\n",
    "\n",
    "S = str(input())\n",
    "result = set()\n",
    "\n",
    "# while문을 사용하면 시간복잡도가 너무 올라가서 시간 초과 발생.\n",
    "# 너무 복잡하게 생각함.\n",
    "# count = len(S)\n",
    "# cnt = 0\n",
    "# while count > 0:\n",
    "#     for i in range(count + 1):\n",
    "#         result.add(str(S[i:i+cnt]))\n",
    "#\n",
    "#     count -= 1\n",
    "#     cnt += 1\n",
    "\n",
    "# 첫번째 문자부터 차례대로 뒤에 해당하는 문자들을 붙여서 모두 set형태에 추가.\n",
    "for i in range(len(S)):\n",
    "    for j in range(i, len(S)):\n",
    "        result.add(S[i:j+1])\n",
    "\n",
    "print(len(result))"
   ],
   "metadata": {
    "collapsed": false,
    "pycharm": {
     "name": "#%%\n"
    }
   }
  }
 ],
 "metadata": {
  "kernelspec": {
   "display_name": "Python 3",
   "language": "python",
   "name": "python3"
  },
  "language_info": {
   "codemirror_mode": {
    "name": "ipython",
    "version": 2
   },
   "file_extension": ".py",
   "mimetype": "text/x-python",
   "name": "python",
   "nbconvert_exporter": "python",
   "pygments_lexer": "ipython2",
   "version": "2.7.6"
  }
 },
 "nbformat": 4,
 "nbformat_minor": 0
}