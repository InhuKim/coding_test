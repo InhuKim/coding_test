{
 "cells": [
  {
   "cell_type": "code",
   "execution_count": 4,
   "metadata": {
    "collapsed": true,
    "pycharm": {
     "name": "#%%\n"
    }
   },
   "outputs": [
    {
     "name": "stdout",
     "output_type": "stream",
     "text": [
      "65\n"
     ]
    }
   ],
   "source": [
    "# 11654\n",
    "# 알파벳 소문자, 대문자, 숫자 0-9중 하나가 주어졌을 때, 주어진 글자의 아스키 코드값을 출력하는 프로그램을 작성하시오.\n",
    "\n",
    "a = input()\n",
    "\n",
    "print(ord(a))"
   ]
  },
  {
   "cell_type": "code",
   "execution_count": 6,
   "outputs": [
    {
     "name": "stdout",
     "output_type": "stream",
     "text": [
      "15\n"
     ]
    }
   ],
   "source": [
    "# 11720\n",
    "# N개의 숫자가 공백 없이 쓰여있다. 이 숫자를 모두 합해서 출력하는 프로그램을 작성하시오.\n",
    "\n",
    "N = int(input())\n",
    "num = input()\n",
    "result = 0\n",
    "\n",
    "for i in range(N):\n",
    "    result += int(num[i])\n",
    "\n",
    "print(result)"
   ],
   "metadata": {
    "collapsed": false,
    "pycharm": {
     "name": "#%%\n"
    }
   }
  },
  {
   "cell_type": "code",
   "execution_count": 26,
   "outputs": [
    {
     "name": "stdout",
     "output_type": "stream",
     "text": [
      "1 0 -1 -1 2 -1 -1 -1 -1 4 3 -1 -1 7 5 -1 -1 -1 -1 -1 -1 -1 -1 -1 -1 -1 "
     ]
    }
   ],
   "source": [
    "# 10809\n",
    "# 알파벳 소문자로만 이루어진 단어 S가 주어진다. 각각의 알파벳에 대해서, 단어에 포함되어 있는 경우에는 처음 등장하는 위치를, 포함되어 있지 않은 경우에는 -1을 출력하는 프로그램을 작성하시오.\n",
    "# 각각의 알파벳에 대해서, a가 처음 등장하는 위치, b가 처음 등장하는 위치, ... z가 처음 등장하는 위치를 공백으로 구분해서 출력한다.\n",
    "# 만약, 어떤 알파벳이 단어에 포함되어 있지 않다면 -1을 출력한다. 단어의 첫 번째 글자는 0번째 위치이고, 두 번째 글자는 1번째 위치이다.\n",
    "\n",
    "\n",
    "# dictionary 형태로 데이터를 구성하여 문자열로 키를 받으면 해당 value를 변경하여 정보를 조작하는 방식으로 구현.\n",
    "# 처음에는 알파벳에 모두 0을 부여하여서 dictionary 구성.\n",
    "word = input()\n",
    "alphabet_list = 'abcdefghijklmnopqrstuvwxyz'\n",
    "alphabet_dict = {alphabet_list: 0 for alphabet_list in alphabet_list}\n",
    "\n",
    "for i in range(len(word)):\n",
    "\n",
    "    # 알파벳의 중복이 있으면 연산을 진행하지 않고 스킵.\n",
    "    if alphabet_dict[word[i]] != 0:\n",
    "        continue\n",
    "\n",
    "    # 알파벳에 해당하는 value 값을 단어의 index값으로 입력\n",
    "    alphabet_dict[word[i]] = i\n",
    "\n",
    "    # 뒤에서 모든 0값을 -1로 치환하기 때문에 구분을 위해서 첫번째 인덱스는 101로 치환\n",
    "    if i == 0:\n",
    "        alphabet_dict[word[i]] = 101\n",
    "\n",
    "# 0과 101을 0과 -1로 치환하여 결과물 작성.\n",
    "for key, value in alphabet_dict.items():\n",
    "    if value == 0:\n",
    "        alphabet_dict[key] = -1\n",
    "    elif value == 101:\n",
    "        alphabet_dict[key] = 0\n",
    "    else:\n",
    "        continue\n",
    "\n",
    "result = list(alphabet_dict.values())\n",
    "\n",
    "# 출력\n",
    "for k in result:\n",
    "    print(k, end=\" \")\n",
    "\n",
    "\n"
   ],
   "metadata": {
    "collapsed": false,
    "pycharm": {
     "name": "#%%\n"
    }
   }
  },
  {
   "cell_type": "code",
   "execution_count": null,
   "outputs": [],
   "source": [
    "# 10809\n",
    "# 다른 사람들이 푼 정답의 경우 굉장히 간단하게 풀었기 때문에 이를 확인함.\n",
    "\n",
    "S = input()\n",
    "alphabet = 'abcdefghijklmnopqrstuvwxyz'\n",
    "dic = {}\n",
    "for i in range(len(S)):\n",
    "    if S[i] not in dic.keys():\n",
    "        dic[S[i]] = i\n",
    "\n",
    "for j in alphabet:\n",
    "    if (j in S):\n",
    "        print(str(dic[i]), end=\" \")\n",
    "    else:\n",
    "        print(\"-1\", end=\" \")"
   ],
   "metadata": {
    "collapsed": false,
    "pycharm": {
     "name": "#%%\n"
    }
   }
  }
 ],
 "metadata": {
  "kernelspec": {
   "display_name": "Python 3",
   "language": "python",
   "name": "python3"
  },
  "language_info": {
   "codemirror_mode": {
    "name": "ipython",
    "version": 2
   },
   "file_extension": ".py",
   "mimetype": "text/x-python",
   "name": "python",
   "nbconvert_exporter": "python",
   "pygments_lexer": "ipython2",
   "version": "2.7.6"
  }
 },
 "nbformat": 4,
 "nbformat_minor": 0
}