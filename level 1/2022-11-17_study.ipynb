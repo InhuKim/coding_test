{
 "cells": [
  {
   "cell_type": "code",
   "execution_count": 22,
   "metadata": {},
   "outputs": [
    {
     "name": "stdout",
     "output_type": "stream",
     "text": [
      "3\n",
      "5\n",
      "7\n",
      "11\n",
      "13\n"
     ]
    }
   ],
   "source": [
    "#1929 소수구하기\n",
    "# M이상 N이하의 소수를 모두 출력하는 프로그램을 작성하시오.\n",
    "# 첫째 줄에 자연수 M과 N이 빈 칸을 사이에 두고 주어진다. 한 줄에 하나씩, 증가하는 순서대로 소수를 출력한다.\n",
    "\n",
    "M, N = map(int, input().split())\n",
    "\n",
    "def isPrime(num):\n",
    "    if num > 1:\n",
    "        for i in range(2, int(num ** 0.5) + 1):\n",
    "            if num % i == 0:\n",
    "                return False\n",
    "        return True\n",
    "\n",
    "for j in range(M, N+1):\n",
    "    if isPrime(j):\n",
    "        print(j)"
   ]
  },
  {
   "cell_type": "code",
   "execution_count": 34,
   "metadata": {},
   "outputs": [
    {
     "name": "stdout",
     "output_type": "stream",
     "text": [
      "1\n",
      "2\n",
      "3\n",
      "4\n",
      "5\n"
     ]
    }
   ],
   "source": [
    "# 정렬 \n",
    "# 2750 수 정렬하기\n",
    "# N개의 수가 주어졌을 때, 이를 오름차순으로 정렬하는 프로그램을 작성하시오.\n",
    "# 첫째 줄에 수의 개수 N(1 ≤ N ≤ 1,000)이 주어진다. 둘째 줄부터 N개의 줄에는 수가 주어진다. 이 수는 절댓값이 1,000보다 작거나 같은 정수이다. 수는 중복되지 않는다.\n",
    "\n",
    "M = int(input())\n",
    "num = []\n",
    "\n",
    "for i in range(M):\n",
    "    a = int(input())\n",
    "    num.append(a)\n",
    "\n",
    "for j in range(M -1, 0, -1):\n",
    "    for l in range(j):\n",
    "        if num[l] > num[l +1]:\n",
    "            num[l], num[l +1] = num[l+1], num[l]\n",
    "\n",
    "\n",
    "for k in range(M):\n",
    "    print(num[k])"
   ]
  }
 ],
 "metadata": {
  "kernelspec": {
   "display_name": "Python 3.9.7 ('base')",
   "language": "python",
   "name": "python3"
  },
  "language_info": {
   "codemirror_mode": {
    "name": "ipython",
    "version": 3
   },
   "file_extension": ".py",
   "mimetype": "text/x-python",
   "name": "python",
   "nbconvert_exporter": "python",
   "pygments_lexer": "ipython3",
   "version": "3.9.7"
  },
  "orig_nbformat": 4,
  "vscode": {
   "interpreter": {
    "hash": "f46cef1ff12eb510cb1a3dc4d8f85382be00b2b17f42dca37b6d49c28f3b9aa4"
   }
  }
 },
 "nbformat": 4,
 "nbformat_minor": 2
}
