{
 "cells": [
  {
   "cell_type": "code",
   "execution_count": 13,
   "metadata": {
    "collapsed": true
   },
   "outputs": [
    {
     "name": "stdout",
     "output_type": "stream",
     "text": [
      "aaabbbccc\n",
      "hhhhhtttttppppp\n"
     ]
    }
   ],
   "source": [
    "# 2675\n",
    "# 문자열 S를 입력받은 후에, 각 문자를 R번 반복해 새 문자열 P를 만든 후 출력하는 프로그램을 작성하시오. 즉, 첫 번째 문자를 R번 반복하고, 두 번째 문자를 R번 반복하는 식으로 P를 만들면 된다. S에는 QR Code \"alphanumeric\" 문자만 들어있다.\n",
    "# 첫째 줄에 테스트 케이스의 개수 T(1 ≤ T ≤ 1,000)가 주어진다. 각 테스트 케이스는 반복 횟수 R(1 ≤ R ≤ 8), 문자열 S가 공백으로 구분되어 주어진다. S의 길이는 적어도 1이며, 20글자를 넘지 않는다.\n",
    "\n",
    "T = int(input())\n",
    "\n",
    "for i in range(T):\n",
    "    S = list(map(str, input().split()))\n",
    "    R = int(S[0])\n",
    "    result = \"\"\n",
    "\n",
    "    for j in range(len(S[1])):\n",
    "        result += S[1][j] * R\n",
    "    print(result)"
   ]
  },
  {
   "cell_type": "code",
   "execution_count": 16,
   "outputs": [
    {
     "name": "stdout",
     "output_type": "stream",
     "text": [
      "['A', 'C', 'B']\n"
     ]
    }
   ],
   "source": [
    "# 1157\n",
    "# 알파벳 대소문자로 된 단어가 주어지면, 이 단어에서 가장 많이 사용된 알파벳이 무엇인지 알아내는 프로그램을 작성하시오. 단, 대문자와 소문자를 구분하지 않는다.\n",
    "\n",
    "# set 자료형을 사용해서 중복값을 없애고 대소문자를 대문자로 통일\n",
    "S = input().upper()\n",
    "word = list(set(S))\n",
    "result = []\n",
    "\n",
    "# set 자료형에 있는 알파벳을 입력받은 문자열에 넣어서 문자열에 포함된 개수를 세고 result 리스트에 입력\n",
    "for i in word:\n",
    "    count = S.count(i)\n",
    "    result.append(count)\n",
    "\n",
    "# 최대값이 같은 경우가 있으면 ?를 출력하고 아니면 리스트에서 최대값의 인덱스를 통해서 최대값을 출력.\n",
    "if result.count(max(result)) >= 2:\n",
    "    print('?')\n",
    "else:\n",
    "    max_index = result.index(max(result))\n",
    "    print(word)"
   ],
   "metadata": {
    "collapsed": false,
    "pycharm": {
     "name": "#%%\n"
    }
   }
  }
 ],
 "metadata": {
  "kernelspec": {
   "display_name": "Python 3",
   "language": "python",
   "name": "python3"
  },
  "language_info": {
   "codemirror_mode": {
    "name": "ipython",
    "version": 2
   },
   "file_extension": ".py",
   "mimetype": "text/x-python",
   "name": "python",
   "nbconvert_exporter": "python",
   "pygments_lexer": "ipython2",
   "version": "2.7.6"
  }
 },
 "nbformat": 4,
 "nbformat_minor": 0
}