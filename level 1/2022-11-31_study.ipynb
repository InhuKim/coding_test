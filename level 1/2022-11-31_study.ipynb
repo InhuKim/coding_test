{
 "cells": [
  {
   "cell_type": "code",
   "execution_count": 6,
   "metadata": {
    "collapsed": true,
    "pycharm": {
     "name": "#%%\n"
    }
   },
   "outputs": [
    {
     "name": "stdout",
     "output_type": "stream",
     "text": [
      "2 2 1 "
     ]
    }
   ],
   "source": [
    "# 7568 덩치\n",
    "# 우리는 사람의 덩치를 키와 몸무게, 이 두 개의 값으로 표현하여 그 등수를 매겨보려고 한다. 어떤 사람의 몸무게가 x kg이고 키가 y cm라면 이 사람의 덩치는 (x, y)로 표시된다. 두 사람 A 와 B의 덩치가 각각 (x, y), (p, q)라고 할 때 x > p 그리고 y > q 이라면 우리는 A의 덩치가 B의 덩치보다 \"더 크다\"고 말한다. 예를 들어 어떤 A, B 두 사람의 덩치가 각각 (56, 177), (45, 165) 라고 한다면 A의 덩치가 B보다 큰 셈이 된다. 그런데 서로 다른 덩치끼리 크기를 정할 수 없는 경우도 있다. 예를 들어 두 사람 C와 D의 덩치가 각각 (45, 181), (55, 173)이라면 몸무게는 D가 C보다 더 무겁고, 키는 C가 더 크므로, \"덩치\"로만 볼 때 C와 D는 누구도 상대방보다 더 크다고 말할 수 없다.\n",
    "# N명의 집단에서 각 사람의 덩치 등수는 자신보다 더 \"큰 덩치\"의 사람의 수로 정해진다. 만일 자신보다 더 큰 덩치의 사람이 k명이라면 그 사람의 덩치 등수는 k+1이 된다. 이렇게 등수를 결정하면 같은 덩치 등수를 가진 사람은 여러 명도 가능하다. 아래는 5명으로 이루어진 집단에서 각 사람의 덩치와 그 등수가 표시된 표이다.\n",
    "# 위 표에서 C보다 더 큰 덩치의 사람이 없으므로 C는 1등이 된다. 그리고 A, B, D 각각의 덩치보다 큰 사람은 C뿐이므로 이들은 모두 2등이 된다. 그리고 E보다 큰 덩치는 A, B, C, D 이렇게 4명이므로 E의 덩치는 5등이 된다. 위 경우에 3등과 4등은 존재하지 않는다. 여러분은 학생 N명의 몸무게와 키가 담긴 입력을 읽어서 각 사람의 덩치 등수를 계산하여 출력해야 한다.\n",
    "\n",
    "N = int(input())\n",
    "size_list = []\n",
    "\n",
    "for _ in range(N):\n",
    "    size = list(map(int, input().split()))\n",
    "    size_list.append(size)\n",
    "\n",
    "for check in size_list:\n",
    "    rank = 1\n",
    "    for measure in size_list:\n",
    "        if check[0] < measure[0] and check[1] < measure[1]:\n",
    "            rank += 1\n",
    "    print(rank, end=\" \")"
   ]
  },
  {
   "cell_type": "code",
   "execution_count": 81,
   "outputs": [
    {
     "name": "stdout",
     "output_type": "stream",
     "text": [
      "['BWWBWWBW', 'BWWBWBBW', 'WBWWBWBB', 'BWWBWBBW', 'WBWWBWBB', 'BWWBWBBW', 'WBWWBWBB', 'BWWBWBWW']\n",
      "['BWWBWBBW', 'WBWWBWBB', 'BWWBWBBW', 'WBWWBWBB', 'BWWBWBBW', 'WBWWBWBB', 'BWWBWBWW', 'WBWWBWBB']\n",
      "['WBWWBWBB', 'BWWBWBBW', 'WBWWBWBB', 'BWWBWBBW', 'WBWWBWBB', 'BWWBWBWW', 'WBWWBWBB', 'BWWBWBBW']\n",
      "['BWWBWBBW', 'WBWWBWBB', 'BWWBWBBW', 'WBWWBWBB', 'BWWBWBWW', 'WBWWBWBB', 'BWWBWBBW', 'WBWWBWBB']\n",
      "['WBWWBWBB', 'BWWBWBBW', 'WBWWBWBB', 'BWWBWBWW', 'WBWWBWBB', 'BWWBWBBW', 'WBWWBWBB']\n"
     ]
    },
    {
     "ename": "IndexError",
     "evalue": "list index out of range",
     "output_type": "error",
     "traceback": [
      "\u001B[1;31m---------------------------------------------------------------------------\u001B[0m",
      "\u001B[1;31mIndexError\u001B[0m                                Traceback (most recent call last)",
      "\u001B[1;32m<ipython-input-81-317cf8254c1c>\u001B[0m in \u001B[0;36m<module>\u001B[1;34m\u001B[0m\n\u001B[0;32m     36\u001B[0m         \u001B[0mline\u001B[0m \u001B[1;33m=\u001B[0m \u001B[1;33m[\u001B[0m\u001B[0mi\u001B[0m\u001B[1;33m[\u001B[0m\u001B[0mcol\u001B[0m\u001B[1;33m:\u001B[0m\u001B[0mcol\u001B[0m\u001B[1;33m+\u001B[0m\u001B[1;36m8\u001B[0m\u001B[1;33m]\u001B[0m \u001B[1;32mfor\u001B[0m \u001B[0mi\u001B[0m \u001B[1;32min\u001B[0m \u001B[0mboard\u001B[0m\u001B[1;33m[\u001B[0m\u001B[0mrow\u001B[0m\u001B[1;33m:\u001B[0m\u001B[0mrow\u001B[0m\u001B[1;33m+\u001B[0m\u001B[1;36m8\u001B[0m\u001B[1;33m]\u001B[0m\u001B[1;33m]\u001B[0m\u001B[1;33m\u001B[0m\u001B[1;33m\u001B[0m\u001B[0m\n\u001B[0;32m     37\u001B[0m         \u001B[0mprint\u001B[0m\u001B[1;33m(\u001B[0m\u001B[0mline\u001B[0m\u001B[1;33m)\u001B[0m\u001B[1;33m\u001B[0m\u001B[1;33m\u001B[0m\u001B[0m\n\u001B[1;32m---> 38\u001B[1;33m         \u001B[0mrank\u001B[0m\u001B[1;33m.\u001B[0m\u001B[0mappend\u001B[0m\u001B[1;33m(\u001B[0m\u001B[0mboard_filter\u001B[0m\u001B[1;33m(\u001B[0m\u001B[0mline\u001B[0m\u001B[1;33m)\u001B[0m\u001B[1;33m)\u001B[0m\u001B[1;33m\u001B[0m\u001B[1;33m\u001B[0m\u001B[0m\n\u001B[0m\u001B[0;32m     39\u001B[0m \u001B[1;33m\u001B[0m\u001B[0m\n\u001B[0;32m     40\u001B[0m \u001B[0mprint\u001B[0m\u001B[1;33m(\u001B[0m\u001B[0mmin\u001B[0m\u001B[1;33m(\u001B[0m\u001B[0mrank\u001B[0m\u001B[1;33m)\u001B[0m\u001B[1;33m)\u001B[0m\u001B[1;33m\u001B[0m\u001B[1;33m\u001B[0m\u001B[0m\n",
      "\u001B[1;32m<ipython-input-81-317cf8254c1c>\u001B[0m in \u001B[0;36mboard_filter\u001B[1;34m(array)\u001B[0m\n\u001B[0;32m     23\u001B[0m     \u001B[1;32mfor\u001B[0m \u001B[0mi\u001B[0m \u001B[1;32min\u001B[0m \u001B[0mrange\u001B[0m\u001B[1;33m(\u001B[0m\u001B[1;36m8\u001B[0m\u001B[1;33m)\u001B[0m\u001B[1;33m:\u001B[0m\u001B[1;33m\u001B[0m\u001B[1;33m\u001B[0m\u001B[0m\n\u001B[0;32m     24\u001B[0m         \u001B[1;32mfor\u001B[0m \u001B[0mj\u001B[0m \u001B[1;32min\u001B[0m \u001B[0mrange\u001B[0m\u001B[1;33m(\u001B[0m\u001B[1;36m8\u001B[0m\u001B[1;33m)\u001B[0m\u001B[1;33m:\u001B[0m\u001B[1;33m\u001B[0m\u001B[1;33m\u001B[0m\u001B[0m\n\u001B[1;32m---> 25\u001B[1;33m             \u001B[1;32mif\u001B[0m \u001B[0mwhite_board\u001B[0m\u001B[1;33m[\u001B[0m\u001B[0mi\u001B[0m\u001B[1;33m]\u001B[0m\u001B[1;33m[\u001B[0m\u001B[0mj\u001B[0m\u001B[1;33m]\u001B[0m \u001B[1;33m!=\u001B[0m \u001B[0marray\u001B[0m\u001B[1;33m[\u001B[0m\u001B[0mi\u001B[0m\u001B[1;33m]\u001B[0m\u001B[1;33m[\u001B[0m\u001B[0mj\u001B[0m\u001B[1;33m]\u001B[0m\u001B[1;33m:\u001B[0m\u001B[1;33m\u001B[0m\u001B[1;33m\u001B[0m\u001B[0m\n\u001B[0m\u001B[0;32m     26\u001B[0m                 \u001B[0mdraw_W\u001B[0m \u001B[1;33m+=\u001B[0m \u001B[1;36m1\u001B[0m\u001B[1;33m\u001B[0m\u001B[1;33m\u001B[0m\u001B[0m\n\u001B[0;32m     27\u001B[0m             \u001B[1;32mif\u001B[0m \u001B[0mblack_board\u001B[0m\u001B[1;33m[\u001B[0m\u001B[0mi\u001B[0m\u001B[1;33m]\u001B[0m\u001B[1;33m[\u001B[0m\u001B[0mj\u001B[0m\u001B[1;33m]\u001B[0m \u001B[1;33m!=\u001B[0m \u001B[0marray\u001B[0m\u001B[1;33m[\u001B[0m\u001B[0mi\u001B[0m\u001B[1;33m]\u001B[0m\u001B[1;33m[\u001B[0m\u001B[0mj\u001B[0m\u001B[1;33m]\u001B[0m\u001B[1;33m:\u001B[0m\u001B[1;33m\u001B[0m\u001B[1;33m\u001B[0m\u001B[0m\n",
      "\u001B[1;31mIndexError\u001B[0m: list index out of range"
     ]
    }
   ],
   "source": [
    "# 1018 체스판 다시 칠하기\n",
    "# 지민이는 자신의 저택에서 MN개의 단위 정사각형으로 나누어져 있는 M×N 크기의 보드를 찾았다. 어떤 정사각형은 검은색으로 칠해져 있고, 나머지는 흰색으로 칠해져 있다. 지민이는 이 보드를 잘라서 8×8 크기의 체스판으로 만들려고 한다.\n",
    "# 체스판은 검은색과 흰색이 번갈아서 칠해져 있어야 한다. 구체적으로, 각 칸이 검은색과 흰색 중 하나로 색칠되어 있고, 변을 공유하는 두 개의 사각형은 다른 색으로 칠해져 있어야 한다. 따라서 이 정의를 따르면 체스판을 색칠하는 경우는 두 가지뿐이다. 하나는 맨 왼쪽 위 칸이 흰색인 경우, 하나는 검은색인 경우이다.\n",
    "# 보드가 체스판처럼 칠해져 있다는 보장이 없어서, 지민이는 8×8 크기의 체스판으로 잘라낸 후에 몇 개의 정사각형을 다시 칠해야겠다고 생각했다. 당연히 8*8 크기는 아무데서나 골라도 된다. 지민이가 다시 칠해야 하는 정사각형의 최소 개수를 구하는 프로그램을 작성하시오.\n",
    "# 첫째 줄에 N과 M이 주어진다. N과 M은 8보다 크거나 같고, 50보다 작거나 같은 자연수이다. 둘째 줄부터 N개의 줄에는 보드의 각 행의 상태가 주어진다. B는 검은색이며, W는 흰색이다.\n",
    "\n",
    "N, M = map(int, input().split())\n",
    "board = []\n",
    "rank = []\n",
    "\n",
    "for _ in range(N):\n",
    "    board.append(input())\n",
    "\n",
    "\n",
    "# convolution layer 개념에서 착안하여 필터를 8,8 사이즈로 적용하여 브루트포스로 탐색을 시도.\n",
    "# 문자열이 그대로 들어가서 row 단위의 분해가 힘들어 구현이 어려움.\n",
    "\n",
    "# 정답 데이터를 만들어서 비교\n",
    "def board_filter(array):\n",
    "    white_board = ['WBWBWBWB', 'BWBWBWBW'] * 4\n",
    "    black_board = ['BWBWBWBW', 'WBWBWBWB'] * 4\n",
    "\n",
    "    draw_W = 0\n",
    "    draw_B = 0\n",
    "    for i in range(8):\n",
    "        for j in range(8):\n",
    "            if white_board[i][j] != array[i][j]:\n",
    "                draw_W += 1\n",
    "            if black_board[i][j] != array[i][j]:\n",
    "                draw_B += 1\n",
    "\n",
    "    return min(draw_B, draw_W)\n",
    "\n",
    "\n",
    "# 행열에서 8사이즈로 슬라이싱해서 비교 함수에 넣어서 브루트포스 진행\n",
    "for col in range(N -7):\n",
    "    for row in range(M-7):\n",
    "        line = [i[col:col+8] for i in board[row:row+8]]\n",
    "        rank.append(board_filter(line))\n",
    "\n",
    "print(min(rank))\n",
    "\n",
    "# 인덱스 에러가 났는데 단순히 M, N 순서가 거꾸로여서 일어난 버그.\n",
    "# 필터링 방식으로 8X8 공간을 슬라이싱 해서 함수로 확인하여 랭크 리스트에 담고 최솟값 출력."
   ],
   "metadata": {
    "collapsed": false,
    "pycharm": {
     "name": "#%%\n"
    }
   }
  },
  {
   "cell_type": "code",
   "execution_count": 76,
   "outputs": [
    {
     "name": "stdout",
     "output_type": "stream",
     "text": [
      "[8, 4, 7, 4, 0, 4, 7, 4, 8]\n"
     ]
    }
   ],
   "source": [
    "# 필터 함수 과정과 리스트를 8X8 크기로 슬라이싱 연습\n",
    "\n",
    "m, n = 10, 10\n",
    "\n",
    "board = [\n",
    "'BBBBBBBBBB',\n",
    "'BBWBWBWBWB',\n",
    "'BWBWBWBWBB',\n",
    "'BBWBWBWBWB',\n",
    "'BWBWBWBWBB',\n",
    "'BBWBWBWBWB',\n",
    "'BWBWBWBWBB',\n",
    "'BBWBWBWBWB',\n",
    "'BWBWBWBWBB',\n",
    "'BBBBBBBBBB'\n",
    "]\n",
    "\n",
    "def board_filter(array):\n",
    "    white_board = ['WBWBWBWB', 'BWBWBWBW'] * 4\n",
    "    black_board = ['BWBWBWBW', 'WBWBWBWB'] * 4\n",
    "\n",
    "    draw_W = 0\n",
    "    draw_B = 0\n",
    "    for i in range(8):\n",
    "        for j in range(8):\n",
    "            if white_board[i][j] != array[i][j]:\n",
    "                draw_W += 1\n",
    "            if black_board[i][j] != array[i][j]:\n",
    "                draw_B += 1\n",
    "\n",
    "    return min(draw_B, draw_W)\n",
    "\n",
    "\n",
    "rank = []\n",
    "for col in range(n -7):\n",
    "    for row in range(m-7):\n",
    "        line = [i[col:col+8] for i in board[row:row+8]]\n",
    "        print(line)\n",
    "        rank.append(board_filter(line))\n",
    "\n",
    "print(rank)"
   ],
   "metadata": {
    "collapsed": false,
    "pycharm": {
     "name": "#%%\n"
    }
   }
  }
 ],
 "metadata": {
  "kernelspec": {
   "display_name": "Python 3",
   "language": "python",
   "name": "python3"
  },
  "language_info": {
   "codemirror_mode": {
    "name": "ipython",
    "version": 2
   },
   "file_extension": ".py",
   "mimetype": "text/x-python",
   "name": "python",
   "nbconvert_exporter": "python",
   "pygments_lexer": "ipython2",
   "version": "2.7.6"
  }
 },
 "nbformat": 4,
 "nbformat_minor": 0
}