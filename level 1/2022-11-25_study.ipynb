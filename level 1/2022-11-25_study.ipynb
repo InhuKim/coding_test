{
 "cells": [
  {
   "cell_type": "code",
   "execution_count": 2,
   "metadata": {
    "collapsed": true,
    "pycharm": {
     "name": "#%%\n"
    }
   },
   "outputs": [
    {
     "name": "stdout",
     "output_type": "stream",
     "text": [
      "3628800\n"
     ]
    }
   ],
   "source": [
    "# 10872 팩토리얼\n",
    "# 0보다 크거나 같은 정수 N이 주어진다. 이때, N!을 출력하는 프로그램을 작성하시오.\n",
    "# 첫째 줄에 정수 N(0 ≤ N ≤ 12)이 주어진다.\n",
    "\n",
    "N = int(input())\n",
    "a = 1\n",
    "\n",
    "for i in range(1, N +1):\n",
    "    a = a * i\n",
    "\n",
    "print(a)"
   ]
  },
  {
   "cell_type": "code",
   "execution_count": 6,
   "outputs": [
    {
     "name": "stdout",
     "output_type": "stream",
     "text": [
      "55\n"
     ]
    }
   ],
   "source": [
    "# 10870 피보나치 수 5\n",
    "# 피보나치 수는 0과 1로 시작한다. 0번째 피보나치 수는 0이고, 1번째 피보나치 수는 1이다. 그 다음 2번째 부터는 바로 앞 두 피보나치 수의 합이 된다.\n",
    "# 이를 식으로 써보면 Fn = Fn-1 + Fn-2 (n ≥ 2)가 된다.\n",
    "# n=17일때 까지 피보나치 수를 써보면 다음과 같다.\n",
    "# 0, 1, 1, 2, 3, 5, 8, 13, 21, 34, 55, 89, 144, 233, 377, 610, 987, 1597\n",
    "# n이 주어졌을 때, n번째 피보나치 수를 구하는 프로그램을 작성하시오.\n",
    "\n",
    "N = int(input())\n",
    "fibonacci_number = [0, 1, 1]\n",
    "\n",
    "for i in range(2, 21):\n",
    "    fibonacci_number.append(fibonacci_number[i] + fibonacci_number[i -1])\n",
    "\n",
    "print(fibonacci_number[N])"
   ],
   "metadata": {
    "collapsed": false,
    "pycharm": {
     "name": "#%%\n"
    }
   }
  },
  {
   "cell_type": "code",
   "execution_count": 28,
   "outputs": [
    {
     "name": "stdout",
     "output_type": "stream",
     "text": [
      "1 2\n",
      "1 3\n",
      "1 3\n"
     ]
    }
   ],
   "source": [
    "# 25501 재귀의 귀재\n",
    "# 정휘는 후배들이 재귀 함수를 잘 다루는 재귀의 귀재인지 알아보기 위해 재귀 함수와 관련된 문제를 출제하기로 했다.\n",
    "# 팰린드롬이란, 앞에서부터 읽었을 때와 뒤에서부터 읽었을 때가 같은 문자열을 말한다. 팰린드롬의 예시로 AAA, ABBA, ABABA 등이 있고, 팰린드롬이 아닌 문자열의 예시로 ABCA, PALINDROME 등이 있다.\n",
    "# 어떤 문자열이 팰린드롬인지 판별하는 문제는 재귀 함수를 이용해 쉽게 해결할 수 있다. 아래 코드의 isPalindrome 함수는 주어진 문자열이 팰린드롬이면 1, 팰린드롬이 아니면 0을 반환하는 함수다.\n",
    "\n",
    "N = int(input())\n",
    "str_list = []\n",
    "\n",
    "for _ in range(N):\n",
    "    str_list.append(str(input()))\n",
    "\n",
    "def recursion(s, l, r, count):\n",
    "    count += 1\n",
    "    if l >= r: return 1, count\n",
    "    elif s[l] != s[r]: return 0, count\n",
    "    else: return recursion(s, l+1, r-1, count)\n",
    "\n",
    "def isPalindrome(s):\n",
    "    count = 0\n",
    "    return recursion(s, 0, len(s)-1, count)\n",
    "\n",
    "for i in str_list:\n",
    "    first, seconde = isPalindrome(i)\n",
    "    print(\"{} {}\".format(first, seconde))"
   ],
   "metadata": {
    "collapsed": false,
    "pycharm": {
     "name": "#%%\n"
    }
   }
  }
 ],
 "metadata": {
  "kernelspec": {
   "display_name": "Python 3",
   "language": "python",
   "name": "python3"
  },
  "language_info": {
   "codemirror_mode": {
    "name": "ipython",
    "version": 2
   },
   "file_extension": ".py",
   "mimetype": "text/x-python",
   "name": "python",
   "nbconvert_exporter": "python",
   "pygments_lexer": "ipython2",
   "version": "2.7.6"
  }
 },
 "nbformat": 4,
 "nbformat_minor": 0
}