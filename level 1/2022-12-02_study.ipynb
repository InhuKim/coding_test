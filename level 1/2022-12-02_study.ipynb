{
 "cells": [
  {
   "cell_type": "code",
   "execution_count": 3,
   "metadata": {
    "collapsed": true,
    "pycharm": {
     "name": "#%%\n"
    }
   },
   "outputs": [
    {
     "name": "stdout",
     "output_type": "stream",
     "text": [
      "1666\n"
     ]
    }
   ],
   "source": [
    "#1436 영화감독 숌\n",
    "# 666은 종말을 나타내는 숫자라고 한다. 따라서, 많은 블록버스터 영화에서는 666이 들어간 제목을 많이 사용한다. 영화감독 숌은 세상의 종말 이라는 시리즈 영화의 감독이다. 조지 루카스는 스타워즈를 만들 때, 스타워즈 1, 스타워즈 2, 스타워즈 3, 스타워즈 4, 스타워즈 5, 스타워즈 6과 같이 이름을 지었고, 피터 잭슨은 반지의 제왕을 만들 때, 반지의 제왕 1, 반지의 제왕 2, 반지의 제왕 3과 같이 영화 제목을 지었다.\n",
    "# 하지만 숌은 자신이 조지 루카스와 피터 잭슨을 뛰어넘는다는 것을 보여주기 위해서 영화 제목을 좀 다르게 만들기로 했다.\n",
    "# 종말의 숫자란 어떤 수에 6이 적어도 3개이상 연속으로 들어가는 수를 말한다. 제일 작은 종말의 숫자는 666이고, 그 다음으로 큰 수는 1666, 2666, 3666, .... 과 같다.\n",
    "# 따라서, 숌은 첫 번째 영화의 제목은 세상의 종말 666, 두 번째 영화의 제목은 세상의 종말 1666 이렇게 이름을 지을 것이다. 일반화해서 생각하면, N번째 영화의 제목은 세상의 종말 (N번째로 작은 종말의 숫자) 와 같다.\n",
    "# 숌이 만든 N번째 영화의 제목에 들어간 숫자를 출력하는 프로그램을 작성하시오. 숌은 이 시리즈를 항상 차례대로 만들고, 다른 영화는 만들지 않는다.\n",
    "\n",
    "# 첫째 줄에 숫자 N이 주어진다. N은 10,000보다 작거나 같은 자연수이다.\n",
    "\n",
    "N = int(input())\n",
    "measure = 666\n",
    "count = 0\n",
    "\n",
    "while True:\n",
    "    # 666에서 1씩 더해서 그 순서대로 카운팅.\n",
    "    # 카운트와 N이 같아지면 원하는 순서 도달.\n",
    "    if '666' in str(measure):\n",
    "        count += 1\n",
    "    if count == N:\n",
    "        print(measure)\n",
    "        break\n",
    "\n",
    "    measure += 1"
   ]
  },
  {
   "cell_type": "code",
   "execution_count": 10,
   "outputs": [
    {
     "name": "stdout",
     "output_type": "stream",
     "text": [
      "[-10, 2, 3, 6, 10]\n",
      "10\n",
      "1\n",
      "9\n",
      "0\n",
      "-5\n",
      "0\n",
      "2\n",
      "1\n",
      "3\n",
      "1\n",
      "4\n",
      "0\n",
      "5\n",
      "0\n",
      "-10\n",
      "1\n",
      "1 0 0 1 1 0 0 1\n"
     ]
    }
   ],
   "source": [
    "# 10815 숫자 카드\n",
    "# 숫자 카드는 정수 하나가 적혀져 있는 카드이다. 상근이는 숫자 카드 N개를 가지고 있다. 정수 M개가 주어졌을 때, 이 수가 적혀있는 숫자 카드를 상근이가 가지고 있는지 아닌지를 구하는 프로그램을 작성하시오.\n",
    "# 첫째 줄에 상근이가 가지고 있는 숫자 카드의 개수 N(1 ≤ N ≤ 500,000)이 주어진다. 둘째 줄에는 숫자 카드에 적혀있는 정수가 주어진다. 숫자 카드에 적혀있는 수는 -10,000,000보다 크거나 같고, 10,000,000보다 작거나 같다. 두 숫자 카드에 같은 수가 적혀있는 경우는 없다.\n",
    "# 셋째 줄에는 M(1 ≤ M ≤ 500,000)이 주어진다. 넷째 줄에는 상근이가 가지고 있는 숫자 카드인지 아닌지를 구해야 할 M개의 정수가 주어지며, 이 수는 공백으로 구분되어져 있다. 이 수도 -10,000,000보다 크거나 같고, 10,000,000보다 작거나 같다\n",
    "\n",
    "N = int(input())\n",
    "n_card = list(map(int, input().split()))\n",
    "M = int(input())\n",
    "m_card = list(map(int, input().split()))\n",
    "result = []\n",
    "\n",
    "# 이진 탐색으로 시간 초과 해결\n",
    "def binary_search(data, target):\n",
    "    start = 0\n",
    "    end = len(data) - 1\n",
    "\n",
    "    while start <= end:\n",
    "        mid = (start + end) //2\n",
    "\n",
    "        if data[mid] == target: return 1\n",
    "\n",
    "        if data[mid] < target:\n",
    "            start = mid + 1\n",
    "        else:\n",
    "            end = mid -1\n",
    "\n",
    "    return 0\n",
    "\n",
    "sorted_n = sorted(n_card)\n",
    "\n",
    "for num in m_card:\n",
    "    result.append(binary_search(sorted_n, num))\n",
    "\n",
    "print(*result)"
   ],
   "metadata": {
    "collapsed": false,
    "pycharm": {
     "name": "#%%\n"
    }
   }
  }
 ],
 "metadata": {
  "kernelspec": {
   "display_name": "Python 3",
   "language": "python",
   "name": "python3"
  },
  "language_info": {
   "codemirror_mode": {
    "name": "ipython",
    "version": 2
   },
   "file_extension": ".py",
   "mimetype": "text/x-python",
   "name": "python",
   "nbconvert_exporter": "python",
   "pygments_lexer": "ipython2",
   "version": "2.7.6"
  }
 },
 "nbformat": 4,
 "nbformat_minor": 0
}