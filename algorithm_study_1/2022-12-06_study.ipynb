{
 "cells": [
  {
   "cell_type": "code",
   "execution_count": 9,
   "metadata": {
    "collapsed": true,
    "pycharm": {
     "name": "#%%\n"
    }
   },
   "outputs": [
    {
     "name": "stdout",
     "output_type": "stream",
     "text": [
      "601\n",
      "[161, 181]\n",
      "161\n"
     ]
    }
   ],
   "source": [
    "# 1085 직사각형에서 탈출\n",
    "'''\n",
    "한수는 지금 (x, y)에 있다. 직사각형은 각 변이 좌표축에 평행하고, 왼쪽 아래 꼭짓점은 (0, 0), 오른쪽 위 꼭짓점은 (w, h)에 있다. 직사각형의 경계선까지 가는 거리의 최솟값을 구하는 프로그램을 작성하시오.\n",
    "첫째 줄에 x, y, w, h가 주어진다.\n",
    "'''\n",
    "\n",
    "x, y, w, h = map(int, input().split())\n",
    "result = []\n",
    "\n",
    "# 계속 valueError가 떠서 확인해보니 if 조건에서 같은 값인 경우가 설정 되지 않아 if를 거치지 못하고 빈 리스트로 연산된 경우가 있어 valueError 출력.\n",
    "# else문으로 바꾸고서 정답 확인.\n",
    "if x > (w // 2):\n",
    "    result.append(int(w - x))\n",
    "else:\n",
    "    result.append(x)\n",
    "# if x < (w // 2):\n",
    "#     result.append(x)\n",
    "\n",
    "if y > (h // 2):\n",
    "    result.append(int(h - y))\n",
    "# if y < (h // 2):\n",
    "#     result.append(y)\n",
    "else:\n",
    "    result.append(y)\n",
    "\n",
    "print(int(min(result)))"
   ]
  },
  {
   "cell_type": "code",
   "execution_count": 13,
   "outputs": [
    {
     "name": "stdout",
     "output_type": "stream",
     "text": [
      "7 7\n"
     ]
    }
   ],
   "source": [
    "# 3009 네 번째 점\n",
    "'''\n",
    "세 점이 주어졌을 때, 축에 평행한 직사각형을 만들기 위해서 필요한 네 번째 점을 찾는 프로그램을 작성하시오.\n",
    "세 점의 좌표가 한 줄에 하나씩 주어진다. 좌표는 1보다 크거나 같고, 1000보다 작거나 같은 정수이다.\n",
    "직사각형의 네 번째 점의 좌표를 출력한다.\n",
    "'''\n",
    "x_list = []\n",
    "y_list = []\n",
    "\n",
    "for _ in range(3):\n",
    "    x, y = map(int, input().split())\n",
    "    x_list.append(x)\n",
    "    y_list.append(y)\n",
    "\n",
    "result = [x for x in x_list if x_list.count(x) == 1] + [y for y in y_list if y_list.count(y) == 1]\n",
    "\n",
    "print(*result)"
   ],
   "metadata": {
    "collapsed": false,
    "pycharm": {
     "name": "#%%\n"
    }
   }
  },
  {
   "cell_type": "code",
   "execution_count": 23,
   "outputs": [
    {
     "name": "stdout",
     "output_type": "stream",
     "text": [
      "right\n",
      "wrong\n",
      "right\n"
     ]
    }
   ],
   "source": [
    "# 4153 직각삼각형\n",
    "'''\n",
    "과거 이집트인들은 각 변들의 길이가 3, 4, 5인 삼각형이 직각 삼각형인것을 알아냈다. 주어진 세변의 길이로 삼각형이 직각인지 아닌지 구분하시오.\n",
    "입력은 여러개의 테스트케이스로 주어지며 마지막줄에는 0 0 0이 입력된다. 각 테스트케이스는 모두 30,000보다 작은 양의 정수로 주어지며, 각 입력은 변의 길이를 의미한다.\n",
    "각 입력에 대해 직각 삼각형이 맞다면 \"right\", 아니라면 \"wrong\"을 출력한다.\n",
    "'''\n",
    "while True:\n",
    "    triangle = list(map(int, input().split()))\n",
    "\n",
    "    if sum(triangle) == 0: break\n",
    "\n",
    "    hypotenuse = max(triangle)\n",
    "    triangle.remove(hypotenuse)\n",
    "\n",
    "    if triangle[0] ** 2 + triangle[1]** 2 == hypotenuse**2:\n",
    "        print('right')\n",
    "\n",
    "    # 입력값에서 마지막 값이 빗변으로 고정된 것이 아닌지 틀렸습니다가 출력됨.\n",
    "    # if x**2 + y**2 == z**2:\n",
    "    #     print('right')\n",
    "    else:\n",
    "        print('wrong')"
   ],
   "metadata": {
    "collapsed": false,
    "pycharm": {
     "name": "#%%\n"
    }
   }
  }
 ],
 "metadata": {
  "kernelspec": {
   "display_name": "Python 3",
   "language": "python",
   "name": "python3"
  },
  "language_info": {
   "codemirror_mode": {
    "name": "ipython",
    "version": 2
   },
   "file_extension": ".py",
   "mimetype": "text/x-python",
   "name": "python",
   "nbconvert_exporter": "python",
   "pygments_lexer": "ipython2",
   "version": "2.7.6"
  }
 },
 "nbformat": 4,
 "nbformat_minor": 0
}