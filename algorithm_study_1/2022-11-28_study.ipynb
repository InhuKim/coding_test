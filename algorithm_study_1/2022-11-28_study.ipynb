{
 "cells": [
  {
   "cell_type": "code",
   "execution_count": 1,
   "metadata": {
    "collapsed": true,
    "pycharm": {
     "name": "#%%\n"
    }
   },
   "outputs": [
    {
     "name": "stdout",
     "output_type": "stream",
     "text": [
      "-1\n"
     ]
    },
    {
     "data": {
      "text/plain": "[1, 2, 3, 4, 5]"
     },
     "execution_count": 1,
     "metadata": {},
     "output_type": "execute_result"
    }
   ],
   "source": [
    "# 24060 알고리즘 수업 - 병합정렬 1\n",
    "# 오늘도 서준이는 병합 정렬 수업 조교를 하고 있다. 아빠가 수업한 내용을 학생들이 잘 이해했는지 문제를 통해서 확인해보자.\n",
    "# N개의 서로 다른 양의 정수가 저장된 배열 A가 있다. 병합 정렬로 배열 A를 오름차순 정렬할 경우 배열 A에 K 번째 저장되는 수를 구해서 우리 서준이를 도와주자.\n",
    "# 크기가 N인 배열에 대한 병합 정렬 의사 코드는 다음과 같다.\n",
    "\n",
    "N, k = map(int, input().split())\n",
    "array = list(map(int, input().split()))\n",
    "\n",
    "global count\n",
    "count = 0\n",
    "\n",
    "def merge_sort(target):\n",
    "    if len(target) < 2:\n",
    "        return target\n",
    "\n",
    "    mid = int((len(target) +1) // 2)\n",
    "    low_arr = merge_sort(target[:mid])\n",
    "    high_arr = merge_sort(target[mid:])\n",
    "\n",
    "    return merge(low_arr, high_arr)\n",
    "\n",
    "def merge(low, high):\n",
    "    if isinstance(low, int):\n",
    "        print(low)\n",
    "        quit()\n",
    "\n",
    "    if isinstance(high, int):\n",
    "        print(high)\n",
    "        quit()\n",
    "\n",
    "    global count\n",
    "\n",
    "    merge_arr = []\n",
    "    l = h = 0\n",
    "\n",
    "    while l < len(low) and h < len(high):\n",
    "        if low[l] < high[h]:\n",
    "            merge_arr.append(low[l])\n",
    "            count += 1\n",
    "            if count == k: return merge_arr[-1]\n",
    "            l += 1\n",
    "        else:\n",
    "            merge_arr.append(high[h])\n",
    "            count += 1\n",
    "            if count == k: return merge_arr[-1]\n",
    "            h += 1\n",
    "\n",
    "    if l == len(low):\n",
    "        while h < len(high):\n",
    "            merge_arr.append(high[h])\n",
    "            count += 1\n",
    "            if count == k: return merge_arr[-1]\n",
    "            h += 1\n",
    "\n",
    "    if h == len(high):\n",
    "        while l < len(low):\n",
    "            merge_arr.append(low[l])\n",
    "            count += 1\n",
    "            if count == k: return merge_arr[-1]\n",
    "            l += 1\n",
    "\n",
    "    if len(merge_arr) == N and k > count:\n",
    "        print(-1)\n",
    "        quit()\n",
    "\n",
    "    return merge_arr\n",
    "\n",
    "merge_sort(array)"
   ]
  },
  {
   "cell_type": "code",
   "execution_count": 15,
   "outputs": [
    {
     "name": "stdout",
     "output_type": "stream",
     "text": [
      "***************************\n",
      "* ** ** ** ** ** ** ** ** *\n",
      "***************************\n",
      "***   ******   ******   ***\n",
      "* *   * ** *   * ** *   * *\n",
      "***   ******   ******   ***\n",
      "***************************\n",
      "* ** ** ** ** ** ** ** ** *\n",
      "***************************\n",
      "*********         *********\n",
      "* ** ** *         * ** ** *\n",
      "*********         *********\n",
      "***   ***         ***   ***\n",
      "* *   * *         * *   * *\n",
      "***   ***         ***   ***\n",
      "*********         *********\n",
      "* ** ** *         * ** ** *\n",
      "*********         *********\n",
      "***************************\n",
      "* ** ** ** ** ** ** ** ** *\n",
      "***************************\n",
      "***   ******   ******   ***\n",
      "* *   * ** *   * ** *   * *\n",
      "***   ******   ******   ***\n",
      "***************************\n",
      "* ** ** ** ** ** ** ** ** *\n",
      "***************************\n"
     ]
    }
   ],
   "source": [
    "# 2447 별 찍기 10\n",
    "# 재귀적인 패턴으로 별을 찍어 보자. N이 3의 거듭제곱(3, 9, 27, ...)이라고 할 때, 크기 N의 패턴은 N×N 정사각형 모양이다.\n",
    "# 크기 3의 패턴은 가운데에 공백이 있고, 가운데를 제외한 모든 칸에 별이 하나씩 있는 패턴이다.\n",
    "\n",
    "N = int(input())\n",
    "\n",
    "# 별을 찍을 공간을 리스트로 만들기\n",
    "space = [[' ' for _ in range(N)] for _ in range(N)]\n",
    "\n",
    "def star_dot(n):\n",
    "    # 첫번째 위치에 별 찍기\n",
    "    # 앞으로 이 위치에 찍힌 별을 기반으로 빈 리스트 채우기\n",
    "    div = n // 3\n",
    "    if n == 3:\n",
    "        space[1] = ['*', ' ', '*']\n",
    "        space[0][:3] = space[2][:3] = ['*'] * 3\n",
    "        return\n",
    "\n",
    "    # 재귀\n",
    "    star_dot(div)\n",
    "\n",
    "    # 3 단위의 별을 3의 제곱승 단위로 확장하여 복사\n",
    "    # i = [0, 3, 6, ...], j = [0, 3, 6, ...], k는 3단위는 3번, 9단위는 9번 반복하여 3단위 별찍기를 전체로 확장\n",
    "    for i in range(0, n, div):\n",
    "        for j in range(0, n, div):\n",
    "            if i != div or j != div:\n",
    "                for k in range(div):\n",
    "                    space[i+k][j:j+div] = space[k][:div]\n",
    "\n",
    "\n",
    "star_dot(N)\n",
    "\n",
    "for i in range(N):\n",
    "    for j in range(N):\n",
    "        print(space[i][j], end='')\n",
    "    print()\n",
    "\n",
    "\n",
    "# 재귀를 토대로 별찍기를 시도하는데 개념은 숙지가 됐지만 코드로 구현이 힘들어 다른 레퍼런스들을 참고.\n",
    "# 만들다 보니까 아래 레퍼런스를 그대로 복사하는 수준이 되었기 때문에 출처를 첨부하고 주석으로 분석한 내용을 첨부.\n",
    "# https://cotak.tistory.com/38"
   ],
   "metadata": {
    "collapsed": false,
    "pycharm": {
     "name": "#%%\n"
    }
   }
  },
  {
   "cell_type": "code",
   "execution_count": 25,
   "outputs": [
    {
     "name": "stdout",
     "output_type": "stream",
     "text": [
      "7\n",
      "1 3 n\n",
      "1 2\n",
      "3 2 n\n",
      "1 3\n",
      "2 1 n\n",
      "2 3\n",
      "1 3 n\n"
     ]
    }
   ],
   "source": [
    "# 11729 하노이 탑 이동 순서\n",
    "# 세 개의 장대가 있고 첫 번째 장대에는 반경이 서로 다른 n개의 원판이 쌓여 있다. 각 원판은 반경이 큰 순서대로 쌓여있다. 이제 수도승들이 다음 규칙에 따라 첫 번째 장대에서 세 번째 장대로 옮기려 한다.\n",
    "# 한 번에 한 개의 원판만을 다른 탑으로 옮길 수 있다.\n",
    "# 쌓아 놓은 원판은 항상 위의 것이 아래의 것보다 작아야 한다.\n",
    "# 이 작업을 수행하는데 필요한 이동 순서를 출력하는 프로그램을 작성하라. 단, 이동 횟수는 최소가 되어야 한다.\n",
    "\n",
    "N = int(input())\n",
    "\n",
    "def hanoi_tower(n, source, target, aux):\n",
    "    # 1인 경우 종료\n",
    "    if n == 1:\n",
    "        print(source, target, \"if\")\n",
    "        return\n",
    "    # 1번 재귀\n",
    "    hanoi_tower(n-1, source, aux, target)\n",
    "    print(source, target, 'process')\n",
    "    # 2번 재귀\n",
    "    hanoi_tower(n-1, aux, target, source)\n",
    "\n",
    "\n",
    "'''\n",
    "n = 3 인 경우.\n",
    "n = 1이 될 때까지 재귀가 돌아서 제일 밖에 n=3 함수가 위치하고 n= 2, n =1이 각자 1, 2번 재귀에 걸쳐 작동.\n",
    "1번 재귀에서 n =2 위치한 과정.\n",
    "재귀로 n =1이 되면 if print문 (1, 3) 출력되고 None이 리턴되어 1번 재귀가 종료.\n",
    "그 아래 process가 (1, 2)가 출력.\n",
    "현재 n=2 함수 안이기 때문에 2번 재귀로 이어져 n = 1이 작동.\n",
    "그래서 if print (3, 2) 가 출력, 이후 None이 리턴되어 1번 재귀 n=2를 벗어나 제일 밖의 n=3 에서 print문이 실행되어 1 -> 3 이 출력.\n",
    "\n",
    "그 다음에 2번 재귀 n=2 경우가 실행.\n",
    "2번 재귀에서 n=2 항목이 실행되어 위의 과정이 반복.\n",
    "if print(2, 1) 출력, 1번 재귀가 끝나고 밖의 process (2, 3) 출력.\n",
    "2번 재귀 n=1로 들어가서 if print(1, 3) 출력.\n",
    "완료.\n",
    "'''\n",
    "\n",
    "print(2**N -1)\n",
    "hanoi_tower(N, 1, 3, 2)\n",
    "\n",
    "# 하노이 탑 알고리즘은 아래 레퍼런스를 참고하여 공부하였다.\n",
    "# https://brunch.co.kr/@younggiseo/139\n",
    "# python tutor를 통해서 재귀가 이루어지는 과정을 분석하여 주석으로 이해한 내용을 첨부.\n",
    "# 백준에 제출할 때는 주석과 프린트문의 문자열을 삭제하고 올려서 정답."
   ],
   "metadata": {
    "collapsed": false,
    "pycharm": {
     "name": "#%%\n"
    }
   }
  }
 ],
 "metadata": {
  "kernelspec": {
   "display_name": "Python 3",
   "language": "python",
   "name": "python3"
  },
  "language_info": {
   "codemirror_mode": {
    "name": "ipython",
    "version": 2
   },
   "file_extension": ".py",
   "mimetype": "text/x-python",
   "name": "python",
   "nbconvert_exporter": "python",
   "pygments_lexer": "ipython2",
   "version": "2.7.6"
  }
 },
 "nbformat": 4,
 "nbformat_minor": 0
}