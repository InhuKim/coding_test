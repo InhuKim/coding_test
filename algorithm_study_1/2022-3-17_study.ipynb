{
 "cells": [
  {
   "cell_type": "code",
   "execution_count": 1,
   "metadata": {
    "collapsed": true
   },
   "outputs": [
    {
     "name": "stdout",
     "output_type": "stream",
     "text": [
      "35 7\n"
     ]
    }
   ],
   "source": [
    "# 10818\n",
    "# N개의 정수가 주어진다. 이때, 최솟값과 최댓값을 구하는 프로그램을 작성하시오.\n",
    "\n",
    "n = int(input())\n",
    "a = list(map(int, input().split()))\n",
    "\n",
    "print(min(a), max(a))"
   ]
  },
  {
   "cell_type": "code",
   "execution_count": 14,
   "outputs": [
    {
     "name": "stdout",
     "output_type": "stream",
     "text": [
      "99\n",
      "[45, 78, 84, 99, 65, 98, 35, 15, 25]\n",
      "4\n"
     ]
    }
   ],
   "source": [
    "# 2562\n",
    "# 9개의 서로 다른 자연수가 주어질 때, 이들 중 최댓값을 찾고 그 최댓값이 몇 번째 수인지를 구하는 프로그램을 작성하시오.\n",
    "\n",
    "a = []\n",
    "\n",
    "for i in range(9):\n",
    "    a.append(int(input()))\n",
    "\n",
    "max_a = max(a)\n",
    "\n",
    "for i in range(9):\n",
    "    if a[i] == max_a:\n",
    "        index = i + 1\n",
    "\n",
    "print(max_a)\n",
    "print(index)"
   ],
   "metadata": {
    "collapsed": false,
    "pycharm": {
     "name": "#%%\n"
    }
   }
  },
  {
   "cell_type": "code",
   "execution_count": 20,
   "outputs": [
    {
     "name": "stdout",
     "output_type": "stream",
     "text": [
      "3\n",
      "1\n",
      "0\n",
      "2\n",
      "0\n",
      "0\n",
      "0\n",
      "2\n",
      "0\n",
      "0\n"
     ]
    }
   ],
   "source": [
    "# 2577\n",
    "# 세 개의 자연수 A, B, C가 주어질 때 A × B × C를 계산한 결과에 0부터 9까지 각각의 숫자가 몇 번씩 쓰였는지를 구하는 프로그램을 작성하시오.\n",
    "\n",
    "a = int(input())\n",
    "b = int(input())\n",
    "c = int(input())\n",
    "\n",
    "num = str(a * b * c)\n",
    "zero, one, two, three, four, five, six, seven, eight, nine = [0, 0,0,0,0,0,0,0,0,0]\n",
    "\n",
    "for i in range(len(num)):\n",
    "    if num[i] == '0':\n",
    "        zero +=1\n",
    "    elif num[i] == '1':\n",
    "        one += 1\n",
    "    elif num[i] == '2':\n",
    "        two += 1\n",
    "    elif num[i] == '3':\n",
    "        three += 1\n",
    "    elif num[i] == '4':\n",
    "        four += 1\n",
    "    elif num[i] == '5':\n",
    "        five += 1\n",
    "    elif num[i] == '6':\n",
    "        six += 1\n",
    "    elif num[i] == '7':\n",
    "        seven += 1\n",
    "    elif num[i] == '8':\n",
    "        eight += 1\n",
    "    elif num[i] == '9':\n",
    "        nine += 1\n",
    "\n",
    "result = [zero ,one, two, three, four, five, six, seven, eight, nine]\n",
    "\n",
    "for i in result:\n",
    "    print(i)"
   ],
   "metadata": {
    "collapsed": false,
    "pycharm": {
     "name": "#%%\n"
    }
   }
  },
  {
   "cell_type": "code",
   "execution_count": 21,
   "outputs": [
    {
     "name": "stdout",
     "output_type": "stream",
     "text": [
      "10\n"
     ]
    }
   ],
   "source": [
    "# 3052\n",
    "# 두 자연수 A와 B가 있을 때, A%B는 A를 B로 나눈 나머지 이다. 예를 들어, 7, 14, 27, 38을 3으로 나눈 나머지는 1, 2, 0, 2이다.\n",
    "# 수 10개를 입력받은 뒤, 이를 42로 나눈 나머지를 구한다. 그 다음 서로 다른 값이 몇 개 있는지 출력하는 프로그램을 작성하시오.\n",
    "\n",
    "A = []\n",
    "for i in range(10):\n",
    "    A.append(int(input()))\n",
    "\n",
    "result = []\n",
    "for j in A:\n",
    "    result.append(j % 42)\n",
    "\n",
    "set_result = set(result)\n",
    "print(len(set_result))"
   ],
   "metadata": {
    "collapsed": false,
    "pycharm": {
     "name": "#%%\n"
    }
   }
  },
  {
   "cell_type": "code",
   "execution_count": 23,
   "outputs": [
    {
     "name": "stdout",
     "output_type": "stream",
     "text": [
      "66.66666666666667\n"
     ]
    }
   ],
   "source": [
    "# 1546\n",
    "# 세준이는 기말고사를 망쳤다. 세준이는 점수를 조작해서 집에 가져가기로 했다. 일단 세준이는 자기 점수 중에 최댓값을 골랐다. 이 값을 M이라고 한다. 그리고 나서 모든 점수를 점수/M*100으로 고쳤다.\n",
    "# 예를 들어, 세준이의 최고점이 70이고, 수학점수가 50이었으면 수학점수는 50/70*100이 되어 71.43점이 된다.\n",
    "# 세준이의 성적을 위의 방법대로 새로 계산했을 때, 새로운 평균을 구하는 프로그램을 작성하시오.\n",
    "\n",
    "N = int(input())\n",
    "score = list(map(int, input().split()))\n",
    "\n",
    "max_s = max(score)\n",
    "\n",
    "for i in range(len(score)):\n",
    "    score[i] = score[i] / max_s * 100\n",
    "\n",
    "result = sum(score) / len(score)\n",
    "print(result)"
   ],
   "metadata": {
    "collapsed": false,
    "pycharm": {
     "name": "#%%\n"
    }
   }
  },
  {
   "cell_type": "code",
   "execution_count": 25,
   "outputs": [
    {
     "name": "stdout",
     "output_type": "stream",
     "text": [
      "4.0\n",
      "6.0\n",
      "7.0\n"
     ]
    }
   ],
   "source": [
    "# 8958\n",
    "# \"OOXXOXXOOO\"와 같은 OX퀴즈의 결과가 있다. O는 문제를 맞은 것이고, X는 문제를 틀린 것이다. 문제를 맞은 경우 그 문제의 점수는 그 문제까지 연속된 O의 개수가 된다. 예를 들어, 10번 문제의 점수는 3이 된다.\n",
    "# OX퀴즈의 결과가 주어졌을 때, 점수를 구하는 프로그램을 작성하시오.\n",
    "\n",
    "N = int(input())\n",
    "\n",
    "for i in range(N):\n",
    "    t_score = 0\n",
    "    quiz = input()\n",
    "    quiz += 'X'\n",
    "    cnt = 0\n",
    "    score = 0\n",
    "    for j in range(len(quiz)):\n",
    "        if quiz[j] == 'O':\n",
    "           cnt += 1\n",
    "        elif quiz[j] == 'X':\n",
    "            t_score += (score + cnt) * (score + cnt + 1) /2\n",
    "            cnt = 0\n",
    "    print(int(t_score))"
   ],
   "metadata": {
    "collapsed": false,
    "pycharm": {
     "name": "#%%\n"
    }
   }
  },
  {
   "cell_type": "code",
   "execution_count": 36,
   "outputs": [
    {
     "name": "stdout",
     "output_type": "stream",
     "text": [
      "60.000%\n",
      "57.143%\n"
     ]
    }
   ],
   "source": [
    "# 4344\n",
    "# 대학생 새내기들의 90%는 자신이 반에서 평균은 넘는다고 생각한다. 당신은 그들에게 슬픈 진실을 알려줘야 한다.\n",
    "# 첫째 줄에는 테스트 케이스의 개수 C가 주어진다.\n",
    "# 둘째 줄부터 각 테스트 케이스마다 학생의 수 N(1 ≤ N ≤ 1000, N은 정수)이 첫 수로 주어지고, 이어서 N명의 점수가 주어진다. 점수는 0보다 크거나 같고, 100보다 작거나 같은 정수이다.\n",
    "\n",
    "N = int(input())\n",
    "\n",
    "for _ in range(N):\n",
    "    a = list(map(int, input().split()))\n",
    "    mean = sum(a[1:]) / a[0]\n",
    "    avg = list(filter(lambda a: a>mean, a[1:]))\n",
    "    rate = len(avg)/a[0] * 100\n",
    "    print(format(rate, '.3f')+ '%')\n",
    "\n",
    "    # print('{:.3%}'.format(len(avg) / a[0]))\n",
    "\n",
    "# 예제 입력에서 모두 정답이 나오지만 이상하게 오답으로 처리됨. 이유를 모르겠음."
   ],
   "metadata": {
    "collapsed": false,
    "pycharm": {
     "name": "#%%\n"
    }
   }
  },
  {
   "cell_type": "markdown",
   "source": [
    " - 위의 예제에서 filter 함수에서 문제가 일어난 것이 맞았음.\n",
    " - 안에 람다 함수 선언을 잘못 했었기 떄문에 변수 추출에서 문제 발생."
   ],
   "metadata": {
    "collapsed": false,
    "pycharm": {
     "name": "#%% md\n"
    }
   }
  },
  {
   "cell_type": "code",
   "execution_count": 37,
   "outputs": [
    {
     "name": "stdout",
     "output_type": "stream",
     "text": [
      "40.000%\n",
      "57.143%\n"
     ]
    }
   ],
   "source": [
    "#4344\n",
    "# for 문으로 cnt를 늘려 평균 이상값을 추출하는 것과 filter 함수를 사용해서 평균 이상값을 list형태로 추출하여 list의 크기를 구한 것은 같은 결과를 나타내지만 백준에서는 다르다고 판단.\n",
    "# 어떤 방식으로 이게 틀린건지 나오지 않음.\n",
    "\n",
    "N = int(input())\n",
    "\n",
    "for _ in range(N):\n",
    "    num = list(map(int, input().split()))\n",
    "    mean = sum(num[1:]) / num[0]\n",
    "    cnt = 0\n",
    "    for i in num[1:]:\n",
    "        if i > mean:\n",
    "            cnt += 1\n",
    "    rate = cnt/num[0] * 100\n",
    "    print(format(rate, '.3f')+ '%')"
   ],
   "metadata": {
    "collapsed": false,
    "pycharm": {
     "name": "#%%\n"
    }
   }
  }
 ],
 "metadata": {
  "kernelspec": {
   "display_name": "Python 3",
   "language": "python",
   "name": "python3"
  },
  "language_info": {
   "codemirror_mode": {
    "name": "ipython",
    "version": 2
   },
   "file_extension": ".py",
   "mimetype": "text/x-python",
   "name": "python",
   "nbconvert_exporter": "python",
   "pygments_lexer": "ipython2",
   "version": "2.7.6"
  }
 },
 "nbformat": 4,
 "nbformat_minor": 0
}