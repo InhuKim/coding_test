{
 "cells": [
  {
   "cell_type": "code",
   "execution_count": 29,
   "outputs": [],
   "source": [
    "# 4948 베르트랑 공준\n",
    "# 베르트랑 공준은 임의의 자연수 n에 대하여, n보다 크고, 2n보다 작거나 같은 소수는 적어도 하나 존재한다는 내용을 담고 있다.\n",
    "# 이 명제는 조제프 베르트랑이 1845년에 추측했고, 파프누티 체비쇼프가 1850년에 증명했다.\n",
    "# 예를 들어, 10보다 크고, 20보다 작거나 같은 소수는 4개가 있다. (11, 13, 17, 19) 또, 14보다 크고, 28보다 작거나 같은 소수는 3개가 있다. (17,19, 23)\n",
    "# 자연수 n이 주어졌을 때, n보다 크고, 2n보다 작거나 같은 소수의 개수를 구하는 프로그램을 작성하시오.\n",
    "\n",
    "\n",
    "while True:\n",
    "    N = int(input())\n",
    "\n",
    "    if N == 0: break\n",
    "\n",
    "    # 입력값의 2배 범위까지 1로 채워진 배열 생성.\n",
    "    # 최대값으로 배열을 생성할 경우 시간 초과 발생.\n",
    "    # 0, 1은 0으로 변경.\n",
    "    prime = [1 for i in range(2*N+1)]\n",
    "    prime[0] = prime[1] = 0\n",
    "\n",
    "    # 배열의 인덱스를 받아서 해당 변수가 1이면 그 배수들을 모두 제거.\n",
    "    # 에라스토테네스의 체 구현\n",
    "    for number, _ in enumerate(prime) :\n",
    "        if prime[number] ==  1 :\n",
    "          for j in range(2*number, 2*N+1, number) :\n",
    "              prime[j] = 0\n",
    "        else : continue\n",
    "\n",
    "    # 문제에서 지정한 범위의 소수를 합쳐서 출력\n",
    "    print(sum(prime[N +1 : 2*N +1]))\n",
    "\n",
    "\n",
    "    # 해당 문제는 에라스토테네스의 체 알고리즘을 공부하면서 풀이를 보면서 작성하고 보니 아래 소스코드와 동일한 형태가 되었다.\n",
    "    # 에라스토테네스의 체 구현에서 for문을 N의 값 범위로 구현하였더니 예제와는 동일하게 출력되지만 오답으로 나왔다.\n",
    "    # 인덱스 번호를 소수로 판별할 대상으로 잡았기 때문에 enumerate 함수를 써서 명확히 매칭 하지 않아 오답이 나온 것으로 이해했다.\n",
    "    # 소스코드 출처 : https://everyday-image-processing.tistory.com/396"
   ],
   "metadata": {
    "collapsed": false,
    "pycharm": {
     "name": "#%%\n"
    }
   }
  },
  {
   "cell_type": "code",
   "execution_count": 36,
   "outputs": [
    {
     "name": "stdout",
     "output_type": "stream",
     "text": [
      "98\n"
     ]
    }
   ],
   "source": [
    "# 25305 커트라인\n",
    "# 2022 연세대학교 미래캠퍼스 슬기로운 코딩생활에 N명의 학생들이 응시했다.\n",
    "# 이들 중 점수가 가장 높은 k명은 상을 받을 것이다. 이 때, 상을 받는 커트라인이 몇 점인지 구하라.\n",
    "# 커트라인이란 상을 받는 사람들 중 점수가 가장 가장 낮은 사람의 점수를 말한다.\n",
    "\n",
    "# 첫째 줄에는 응시자의 수 N과 상을 받는 사람의 수 k가 공백을 사이에 두고 주어진다.\n",
    "# 둘째 줄에는 각 학생의 점수 x가 공백을 사이에 두고 주어진다.\n",
    "\n",
    "N, k = map(int, input().split())\n",
    "score = list(map(int, input().split()))\n",
    "\n",
    "for j in range(N -1, 0, -1):\n",
    "    for l in range(j):\n",
    "        if score[l] < score[l +1]:\n",
    "            score[l], score[l +1] = score[l+1], score[l]\n",
    "\n",
    "print(score[k -1])"
   ],
   "metadata": {
    "collapsed": false,
    "pycharm": {
     "name": "#%%\n"
    }
   }
  }
 ],
 "metadata": {
  "kernelspec": {
   "display_name": "Python 3",
   "language": "python",
   "name": "python3"
  },
  "language_info": {
   "codemirror_mode": {
    "name": "ipython",
    "version": 2
   },
   "file_extension": ".py",
   "mimetype": "text/x-python",
   "name": "python",
   "nbconvert_exporter": "python",
   "pygments_lexer": "ipython2",
   "version": "2.7.6"
  }
 },
 "nbformat": 4,
 "nbformat_minor": 0
}