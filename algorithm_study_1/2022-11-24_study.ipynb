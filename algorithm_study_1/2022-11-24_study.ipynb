{
 "cells": [
  {
   "cell_type": "code",
   "execution_count": 13,
   "metadata": {
    "collapsed": true,
    "pycharm": {
     "name": "#%%\n"
    }
   },
   "outputs": [
    {
     "name": "stdout",
     "output_type": "stream",
     "text": [
      "1 -1\n",
      "2 1\n",
      "0 4\n"
     ]
    }
   ],
   "source": [
    "# 11651 좌표 정렬하기 2\n",
    "# 2차원 평면 위의 점 N개가 주어진다. 좌표를 y좌표가 증가하는 순으로, y좌표가 같으면 x좌표가 증가하는 순서로 정렬한 다음 출력하는 프로그램을 작성하시오.\n",
    "\n",
    "N = int(input())\n",
    "cordinate_list = []\n",
    "\n",
    "for _ in range(N):\n",
    "    x, y = map(int, input().split())\n",
    "    cordinate_list.append([x, y])\n",
    "\n",
    "target_list = sorted(cordinate_list, key=lambda x: (x[1], x[0]))\n",
    "\n",
    "for i in range(len(target_list)):\n",
    "    print('{} {}'.format(target_list[i][0], target_list[i][1]))"
   ]
  },
  {
   "cell_type": "code",
   "execution_count": 21,
   "outputs": [
    {
     "name": "stdout",
     "output_type": "stream",
     "text": [
      "['i', 'im', 'it', 'no', 'but', 'more', 'wait', 'wont', 'yours', 'cannot', 'hesitate']\n"
     ]
    }
   ],
   "source": [
    "# 1181 단어 정렬\n",
    "# 알파벳 소문자로 이루어진 N개의 단어가 들어오면 아래와 같은 조건에 따라 정렬하는 프로그램을 작성하시오.\n",
    "# 길이가 짧은 것부터 ; 길이가 같으면 사전 순으로\n",
    "# 첫째 줄에 단어의 개수 N이 주어진다. (1 ≤ N ≤ 20,000) 둘째 줄부터 N개의 줄에 걸쳐 알파벳 소문자로 이루어진 단어가 한 줄에 하나씩 주어진다. 주어지는 문자열의 길이는 50을 넘지 않는다.\n",
    "\n",
    "N = int(input())\n",
    "word_list = {}\n",
    "\n",
    "for _ in range(N):\n",
    "    a = str(input())\n",
    "    word_list[a] = len(a)\n",
    "\n",
    "sorted_word = sorted(word_list, key= lambda x: (len(x), x))\n",
    "\n",
    "for i in sorted_word:\n",
    "    print(i)"
   ],
   "metadata": {
    "collapsed": false,
    "pycharm": {
     "name": "#%%\n"
    }
   }
  },
  {
   "cell_type": "code",
   "execution_count": 11,
   "outputs": [
    {
     "name": "stdout",
     "output_type": "stream",
     "text": [
      "('20', 'su')\n",
      "20 su\n",
      "21 aa\n",
      "21 dd\n"
     ]
    }
   ],
   "source": [
    "# 10814 나이순 정렬\n",
    "# 온라인 저지에 가입한 사람들의 나이와 이름이 가입한 순서대로 주어진다. 이때, 회원들을 나이가 증가하는 순으로, 나이가 같으면 먼저 가입한 사람이 앞에 오는 순서로 정렬하는 프로그램을 작성하시오.\n",
    "# 첫째 줄에 온라인 저지 회원의 수 N이 주어진다. (1 ≤ N ≤ 100,000)\n",
    "# 둘째 줄부터 N개의 줄에는 각 회원의 나이와 이름이 공백으로 구분되어 주어진다. 나이는 1보다 크거나 같으며, 200보다 작거나 같은 정수이고, 이름은 알파벳 대소문자로 이루어져 있고, 길이가 100보다 작거나 같은 문자열이다. 입력은 가입한 순서로 주어진다.\n",
    "\n",
    "N = int(input())\n",
    "person_list = []\n",
    "\n",
    "for i in range(N):\n",
    "    a, b = map(str, input().split())\n",
    "    a = int(a)      # 출력에서 나이가 str 형태로 있으면 오답 처리 되었다.\n",
    "    person_list.append((a, b))\n",
    "\n",
    "sorted_person = sorted(person_list, key= lambda x: x[0:][0])\n",
    "\n",
    "for i in range(len(sorted_person)):\n",
    "    print('{} {}'.format(sorted_person[i][0], sorted_person[i][1]))"
   ],
   "metadata": {
    "collapsed": false,
    "pycharm": {
     "name": "#%%\n"
    }
   }
  },
  {
   "cell_type": "code",
   "execution_count": 17,
   "outputs": [
    {
     "name": "stdout",
     "output_type": "stream",
     "text": [
      "[-10, -9, 2, 4]\n",
      "{'-10': 0, '-9': 1, '2': 2, '4': 3}\n",
      "2 3 0 3 1\n"
     ]
    }
   ],
   "source": [
    "# 18870 좌표압축\n",
    "# 수직선 위에 N개의 좌표 X1, X2, ..., XN이 있다. 이 좌표에 좌표 압축을 적용하려고 한다.\n",
    "# Xi를 좌표 압축한 결과 X'i의 값은 Xi > Xj를 만족하는 서로 다른 좌표의 개수와 같아야 한다.\n",
    "# X1, X2, ..., XN에 좌표 압축을 적용한 결과 X'1, X'2, ..., X'N를 출력해보자.\n",
    "\n",
    "# word2vec 개념과 비슷한 일종의 임베딩으로 이해함.\n",
    "\n",
    "N = int(input())\n",
    "cordinate_point = list(map(int, input().split()))\n",
    "embedding_dict = {}\n",
    "output = []\n",
    "\n",
    "sorted_cordi = sorted(list(set(cordinate_point)))\n",
    "# sorted_cordi = sorted(cordinate_point)\n",
    "\n",
    "for index, element in enumerate(sorted_cordi):\n",
    "    # 중복값을 제거하지 않고서 인덱스로 부여하여 좌표압축이 제대로 이루어지지 않음.\n",
    "    # if str(element) in embedding_dict: continue\n",
    "\n",
    "    embedding_dict[str(element)] = index\n",
    "\n",
    "print(sorted_cordi)\n",
    "print(embedding_dict)\n",
    "\n",
    "for target in cordinate_point:\n",
    "    output.append(embedding_dict[str(target)])\n",
    "\n",
    "print(*output)"
   ],
   "metadata": {
    "collapsed": false,
    "pycharm": {
     "name": "#%%\n"
    }
   }
  },
  {
   "cell_type": "code",
   "execution_count": null,
   "outputs": [],
   "source": [],
   "metadata": {
    "collapsed": false,
    "pycharm": {
     "name": "#%%\n"
    }
   }
  }
 ],
 "metadata": {
  "kernelspec": {
   "display_name": "Python 3",
   "language": "python",
   "name": "python3"
  },
  "language_info": {
   "codemirror_mode": {
    "name": "ipython",
    "version": 2
   },
   "file_extension": ".py",
   "mimetype": "text/x-python",
   "name": "python",
   "nbconvert_exporter": "python",
   "pygments_lexer": "ipython2",
   "version": "2.7.6"
  }
 },
 "nbformat": 4,
 "nbformat_minor": 0
}