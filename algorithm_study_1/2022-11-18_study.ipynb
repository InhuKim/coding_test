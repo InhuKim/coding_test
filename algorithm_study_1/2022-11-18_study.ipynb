{
 "cells": [
  {
   "cell_type": "code",
   "execution_count": 2,
   "metadata": {
    "collapsed": true,
    "pycharm": {
     "name": "#%%\n"
    }
   },
   "outputs": [
    {
     "name": "stdout",
     "output_type": "stream",
     "text": [
      "-1\n"
     ]
    }
   ],
   "source": [
    "# 2839 설탕 배달\n",
    "#상근이는 요즘 설탕공장에서 설탕을 배달하고 있다. 상근이는 지금 사탕가게에 설탕을 정확하게 N킬로그램을 배달해야 한다. 설탕공장에서 만드는 설탕은 봉지에 담겨져 있다. 봉지는 3킬로그램 봉지와 5킬로그램 봉지가 있다.\n",
    "# 상근이는 귀찮기 때문에, 최대한 적은 봉지를 들고 가려고 한다. 예를 들어, 18킬로그램 설탕을 배달해야 할 때, 3킬로그램 봉지 6개를 가져가도 되지만, 5킬로그램 3개와 3킬로그램 1개를 배달하면, 더 적은 개수의 봉지를 배달할 수 있다.\n",
    "# 상근이가 설탕을 정확하게 N킬로그램 배달해야 할 때, 봉지 몇 개를 가져가면 되는지 그 수를 구하는 프로그램을 작성하시오.\n",
    "\n",
    "N = int(input())\n",
    "cnt = 0\n",
    "\n",
    "while N >= 0:\n",
    "\n",
    "    if N % 5 == 0:\n",
    "        cnt += N // 5\n",
    "        print(cnt)\n",
    "        break\n",
    "\n",
    "    N -= 3\n",
    "    cnt += 1\n",
    "\n",
    "    if N == 0:\n",
    "        print(cnt)\n",
    "        break\n",
    "    elif 3 > N > 0:\n",
    "        print(-1)\n",
    "        break"
   ]
  },
  {
   "cell_type": "code",
   "execution_count": 12,
   "outputs": [
    {
     "name": "stdout",
     "output_type": "stream",
     "text": [
      "34\n",
      "30\n",
      "[10, 30, 30, 40, 60]\n",
      "3\n"
     ]
    }
   ],
   "source": [
    "# 2587 대표값2\n",
    "# 어떤 수들이 있을 때, 그 수들을 대표하는 값으로 가장 흔하게 쓰이는 것은 평균이다. 평균은 주어진 모든 수의 합을 수의 개수로 나눈 것이다. 예를 들어 10, 40, 30, 60, 30의 평균은 (10 + 40 + 30 + 60 + 30) / 5 = 170 / 5 = 34가 된다.\n",
    "# 평균 이외의 또 다른 대표값으로 중앙값이라는 것이 있다. 중앙값은 주어진 수를 크기 순서대로 늘어 놓았을 때 가장 중앙에 놓인 값이다. 예를 들어 10, 40, 30, 60, 30의 경우,\n",
    "# 크기 순서대로 늘어 놓으면 10 30 30 40 60 이 되고 따라서 중앙값은 30이 된다.\n",
    "# 다섯 개의 자연수가 주어질 때 이들의 평균과 중앙값을 구하는 프로그램을 작성하시오.\n",
    "\n",
    "M = 5\n",
    "num = []\n",
    "\n",
    "for i in range(M):\n",
    "    a = int(input())\n",
    "    num.append(a)\n",
    "\n",
    "for j in range(M -1, 0, -1):\n",
    "    for l in range(j):\n",
    "        if num[l] > num[l +1]:\n",
    "            num[l], num[l +1] = num[l+1], num[l]\n",
    "\n",
    "if len(num) % 2 != 0:\n",
    "    N = int(len(num) / 2) + 1\n",
    "    median = num[N - 1]\n",
    "elif len(num) % 2 == 0:\n",
    "    N = int(len(num) / 2)\n",
    "    median = num[N] + num[N+1] / 2\n",
    "\n",
    "mean = int(sum(num) / 5)\n",
    "\n",
    "print(mean)\n",
    "print(median)"
   ],
   "metadata": {
    "collapsed": false,
    "pycharm": {
     "name": "#%%\n"
    }
   }
  }
 ],
 "metadata": {
  "kernelspec": {
   "display_name": "Python 3",
   "language": "python",
   "name": "python3"
  },
  "language_info": {
   "codemirror_mode": {
    "name": "ipython",
    "version": 2
   },
   "file_extension": ".py",
   "mimetype": "text/x-python",
   "name": "python",
   "nbconvert_exporter": "python",
   "pygments_lexer": "ipython2",
   "version": "2.7.6"
  }
 },
 "nbformat": 4,
 "nbformat_minor": 0
}