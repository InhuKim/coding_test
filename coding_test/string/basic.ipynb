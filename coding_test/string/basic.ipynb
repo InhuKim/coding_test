{
 "cells": [
  {
   "cell_type": "markdown",
   "metadata": {},
   "source": [
    "# 너의 평점은 - 실버5"
   ]
  },
  {
   "cell_type": "code",
   "execution_count": 21,
   "metadata": {},
   "outputs": [
    {
     "name": "stdout",
     "output_type": "stream",
     "text": [
      "0.0\n"
     ]
    }
   ],
   "source": [
    "import sys\n",
    "\n",
    "sys.stdin = open(\"/study/coding_test/input.txt\", 'r')\n",
    "result_score = 0\n",
    "result_credit = 0\n",
    "\n",
    "grade_dict = {\n",
    "    'A+' : 4.5,\n",
    "    'A0' : 4.0,\n",
    "    'B+' : 3.5,\n",
    "    'B0' : 3.0,\n",
    "    'C+' : 2.5,\n",
    "    'C0' : 2.0,\n",
    "    'D+' : 1.5,\n",
    "    'D0' : 1.0,\n",
    "    'F' : 0.0\n",
    "}\n",
    "\n",
    "for _ in range(20):\n",
    "    name, credit, grade = list(map(str, sys.stdin.readline().split()))\n",
    "\n",
    "    if grade != 'P':\n",
    "        result_score += (grade_dict[grade] * float(credit))\n",
    "        result_credit += float(credit)\n",
    "\n",
    "print(result_score / result_credit)"
   ]
  },
  {
   "cell_type": "markdown",
   "metadata": {},
   "source": [
    "# 30 - 실버4"
   ]
  },
  {
   "cell_type": "code",
   "execution_count": 46,
   "metadata": {},
   "outputs": [
    {
     "name": "stdout",
     "output_type": "stream",
     "text": [
      "88755420\n"
     ]
    }
   ],
   "source": [
    "import sys\n",
    "from itertools import permutations\n",
    "\n",
    "sys.stdin = open(\"/study/coding_test/input.txt\", 'r')\n",
    "\n",
    "number = str(sys.stdin.readline())\n",
    "num_len = len(number)\n",
    "\n",
    "num_idx = permutations([i for i in range(num_len)], num_len)\n",
    "num_list = []\n",
    "\n",
    "for j in num_idx:\n",
    "    result = \"\"\n",
    "    for k in j:\n",
    "        result += number[k]\n",
    "    try:\n",
    "        num_list.append(int(int(result) / 30))\n",
    "    except:\n",
    "        continue\n",
    "\n",
    "print(max(num_list) * 30)\n",
    "\n",
    "# -1 사례 처리 안됨. 시간 초과"
   ]
  },
  {
   "cell_type": "code",
   "execution_count": 55,
   "metadata": {},
   "outputs": [
    {
     "name": "stdout",
     "output_type": "stream",
     "text": [
      "30\n"
     ]
    }
   ],
   "source": [
    "import sys\n",
    "\n",
    "sys.stdin = open(\"/study/coding_test/input.txt\", 'r')\n",
    "\n",
    "number = str(sys.stdin.readline())\n",
    "\n",
    "# 3의 배수법\n",
    "# 자리수의 합이 3의 배수이며 30이기 때문에 0이 문자열에 없으면 -1\n",
    "\n",
    "if '0' not in number:\n",
    "    print(-1)\n",
    "\n",
    "else:\n",
    "    total = sum([int(number[i]) for i in range(len(number))])\n",
    "\n",
    "    if total % 3 != 0:\n",
    "        print(-1)\n",
    "    else:\n",
    "        result = \"\".join(sorted(number, reverse=True))\n",
    "        print(result)"
   ]
  },
  {
   "cell_type": "markdown",
   "metadata": {},
   "source": [
    "# 접미사 배열 - 실버4"
   ]
  },
  {
   "cell_type": "code",
   "execution_count": 64,
   "metadata": {},
   "outputs": [
    {
     "name": "stdout",
     "output_type": "stream",
     "text": [
      "aekjoon\n",
      "baekjoon\n",
      "ekjoon\n",
      "joon\n",
      "kjoon\n",
      "n\n",
      "on\n",
      "oon\n"
     ]
    }
   ],
   "source": [
    "import sys\n",
    "\n",
    "sys.stdin = open(\"/study/coding_test/input.txt\", 'r')\n",
    "\n",
    "string = sys.stdin.readline()\n",
    "str_len = len(string)\n",
    "str_list = []\n",
    "\n",
    "for i in range(1, str_len+1):\n",
    "    str_list.append(string[(str_len - i):])\n",
    "\n",
    "for value in sorted(str_list):\n",
    "    print(value)"
   ]
  },
  {
   "cell_type": "markdown",
   "metadata": {},
   "source": [
    "# 단어 뒤집기2 - 실버3"
   ]
  },
  {
   "cell_type": "code",
   "execution_count": 162,
   "metadata": {},
   "outputs": [
    {
     "name": "stdout",
     "output_type": "stream",
     "text": [
      "noojkeab enilno egduj\n"
     ]
    }
   ],
   "source": [
    "import sys\n",
    "import re\n",
    "\n",
    "sys.stdin = open(\"/study/coding_test/input.txt\", 'r')\n",
    "\n",
    "string = sys.stdin.readline()\n",
    "p = re.compile('<[a-zA-Z0-9 ]+>|[a-zA-Z0-9 ]+')\n",
    "match_list = p.findall(string)\n",
    "result = \"\"\n",
    "\n",
    "for value in match_list:\n",
    "    if value[0] == '<':\n",
    "        result += value\n",
    "\n",
    "    else:\n",
    "        temp_result = \"\"\n",
    "        for i in [j for j in value.split()]:\n",
    "            temp_result += i[::-1] + \" \"\n",
    "        result += temp_result.strip()\n",
    "\n",
    "print(result.strip())"
   ]
  },
  {
   "cell_type": "code",
   "execution_count": null,
   "metadata": {},
   "outputs": [],
   "source": []
  }
 ],
 "metadata": {
  "kernelspec": {
   "display_name": "Python 3",
   "language": "python",
   "name": "python3"
  },
  "language_info": {
   "codemirror_mode": {
    "name": "ipython",
    "version": 3
   },
   "file_extension": ".py",
   "mimetype": "text/x-python",
   "name": "python",
   "nbconvert_exporter": "python",
   "pygments_lexer": "ipython3",
   "version": "3.10.11"
  }
 },
 "nbformat": 4,
 "nbformat_minor": 2
}
