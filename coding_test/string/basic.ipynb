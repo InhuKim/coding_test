{
 "cells": [
  {
   "cell_type": "markdown",
   "metadata": {},
   "source": [
    "# 너의 평점은 - 실버5"
   ]
  },
  {
   "cell_type": "code",
   "execution_count": 21,
   "metadata": {},
   "outputs": [
    {
     "name": "stdout",
     "output_type": "stream",
     "text": [
      "0.0\n"
     ]
    }
   ],
   "source": [
    "import sys\n",
    "\n",
    "sys.stdin = open(\"/study/coding_test/input.txt\", 'r')\n",
    "result_score = 0\n",
    "result_credit = 0\n",
    "\n",
    "grade_dict = {\n",
    "    'A+' : 4.5,\n",
    "    'A0' : 4.0,\n",
    "    'B+' : 3.5,\n",
    "    'B0' : 3.0,\n",
    "    'C+' : 2.5,\n",
    "    'C0' : 2.0,\n",
    "    'D+' : 1.5,\n",
    "    'D0' : 1.0,\n",
    "    'F' : 0.0\n",
    "}\n",
    "\n",
    "for _ in range(20):\n",
    "    name, credit, grade = list(map(str, sys.stdin.readline().split()))\n",
    "\n",
    "    if grade != 'P':\n",
    "        result_score += (grade_dict[grade] * float(credit))\n",
    "        result_credit += float(credit)\n",
    "\n",
    "print(result_score / result_credit)"
   ]
  },
  {
   "cell_type": "code",
   "execution_count": null,
   "metadata": {},
   "outputs": [],
   "source": []
  }
 ],
 "metadata": {
  "kernelspec": {
   "display_name": "Python 3",
   "language": "python",
   "name": "python3"
  },
  "language_info": {
   "codemirror_mode": {
    "name": "ipython",
    "version": 3
   },
   "file_extension": ".py",
   "mimetype": "text/x-python",
   "name": "python",
   "nbconvert_exporter": "python",
   "pygments_lexer": "ipython3",
   "version": "3.10.11"
  }
 },
 "nbformat": 4,
 "nbformat_minor": 2
}
