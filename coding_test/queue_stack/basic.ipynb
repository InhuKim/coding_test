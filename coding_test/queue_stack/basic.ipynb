{
 "cells": [
  {
   "cell_type": "markdown",
   "metadata": {},
   "source": [
    "# 도키도키 간식드리미 - 12789"
   ]
  },
  {
   "cell_type": "code",
   "execution_count": 35,
   "metadata": {},
   "outputs": [
    {
     "name": "stdout",
     "output_type": "stream",
     "text": [
      "Nice\n"
     ]
    }
   ],
   "source": [
    "import sys\n",
    "\n",
    "sys.stdin = open(\"/study/coding_test/input.txt\", 'r')\n",
    "\n",
    "N = int(sys.stdin.readline())\n",
    "\n",
    "num_list = list(map(int, sys.stdin.readline().split(\" \")))\n",
    "\n",
    "stack = []\n",
    "target = 1\n",
    "\n",
    "while num_list:\n",
    "    if num_list[0] == target:\n",
    "        num_list.pop(0)\n",
    "        target += 1 \n",
    "    else:\n",
    "        stack.append(num_list.pop(0))\n",
    "\n",
    "    while stack:\n",
    "        if stack[-1] == target:\n",
    "            stack.pop()\n",
    "            target += 1\n",
    "        else:\n",
    "            break \n",
    "\n",
    "if stack:\n",
    "    print(\"Sad\")\n",
    "elif not stack:\n",
    "    print(\"Nice\")\n"
   ]
  },
  {
   "cell_type": "markdown",
   "metadata": {},
   "source": [
    "# 스택2 - 28278"
   ]
  },
  {
   "cell_type": "code",
   "execution_count": 37,
   "metadata": {},
   "outputs": [
    {
     "name": "stdout",
     "output_type": "stream",
     "text": [
      "1\n",
      "2\n",
      "5\n",
      "3\n",
      "3\n",
      "-1\n",
      "-1\n"
     ]
    }
   ],
   "source": [
    "import sys\n",
    "\n",
    "sys.stdin = open(\"/study/coding_test/input.txt\", 'r')\n",
    "\n",
    "N = int(sys.stdin.readline())\n",
    "stack = []\n",
    "\n",
    "for _ in range(N):\n",
    "    arg = list(map(int, sys.stdin.readline().split()))\n",
    "\n",
    "    if arg[0] == 1 :\n",
    "        stack.append(arg[1])\n",
    "\n",
    "    elif arg[0] == 2:\n",
    "        if stack:\n",
    "            print(stack.pop())\n",
    "        else:\n",
    "            print(-1)\n",
    "    elif arg[0] == 3:\n",
    "        print(len(stack))\n",
    "    elif arg[0] == 4:\n",
    "        if stack:\n",
    "            print(0)\n",
    "        else:\n",
    "            print(1)\n",
    "    elif arg[0] == 5:\n",
    "        if stack:\n",
    "            print(stack[-1])\n",
    "        else:\n",
    "            print(-1)"
   ]
  },
  {
   "cell_type": "markdown",
   "metadata": {},
   "source": [
    "# 덱 - 28279"
   ]
  },
  {
   "cell_type": "code",
   "execution_count": 39,
   "metadata": {},
   "outputs": [
    {
     "name": "stdout",
     "output_type": "stream",
     "text": [
      "1\n",
      "8\n",
      "3\n",
      "8\n",
      "3\n",
      "5\n",
      "3\n"
     ]
    }
   ],
   "source": [
    "import sys\n",
    "from collections import deque\n",
    "\n",
    "sys.stdin = open(\"/study/coding_test/input.txt\", 'r')\n",
    "\n",
    "N = int(sys.stdin.readline())\n",
    "num_deque = deque()\n",
    "\n",
    "for _ in range(N):\n",
    "    arg = list(map(int, sys.stdin.readline().split()))\n",
    "\n",
    "    if arg[0] == 1 :\n",
    "        num_deque.appendleft(arg[1])\n",
    "    elif arg[0] == 2:\n",
    "        num_deque.append(arg[1])\n",
    "\n",
    "    elif arg[0] == 3:\n",
    "        if num_deque:\n",
    "            print(num_deque.popleft())\n",
    "        else:\n",
    "            print(-1)\n",
    "    elif arg[0] == 4:\n",
    "        if num_deque:\n",
    "            print(num_deque.pop())\n",
    "        else:\n",
    "            print(-1)\n",
    "\n",
    "    elif arg[0] == 5:\n",
    "        print(len(num_deque))\n",
    "    elif arg[0] == 6:\n",
    "        if num_deque:\n",
    "            print(0)\n",
    "        else:\n",
    "            print(1)\n",
    "    elif arg[0] == 7:\n",
    "        if num_deque:\n",
    "            print(num_deque[0])\n",
    "        else:\n",
    "            print(-1)\n",
    "    elif arg[0] == 8:\n",
    "        if num_deque:\n",
    "            print(num_deque[-1])\n",
    "        else:\n",
    "            print(-1)"
   ]
  },
  {
   "cell_type": "markdown",
   "metadata": {},
   "source": [
    "# 풍선 터뜨리기 - 2346"
   ]
  },
  {
   "cell_type": "code",
   "execution_count": 81,
   "metadata": {},
   "outputs": [
    {
     "name": "stdout",
     "output_type": "stream",
     "text": [
      "1 4 5 3 2\n"
     ]
    }
   ],
   "source": [
    "import sys\n",
    "from collections import deque\n",
    "\n",
    "sys.stdin = open(\"/study/coding_test/input.txt\", 'r')\n",
    "\n",
    "N = int(sys.stdin.readline())\n",
    "num_deque = deque(enumerate(map(int, sys.stdin.readline().split(\" \"))))\n",
    "result = []\n",
    "\n",
    "while num_deque:\n",
    "    idx, value = num_deque.popleft()\n",
    "    if value > 0:\n",
    "        num_deque.rotate(-(value -1))\n",
    "    elif value < 0:\n",
    "        num_deque.rotate(-value)\n",
    "    result.append(idx + 1)\n",
    "\n",
    "print(*result)\n"
   ]
  },
  {
   "cell_type": "code",
   "execution_count": 76,
   "metadata": {},
   "outputs": [
    {
     "data": {
      "text/plain": [
       "[3, -3, -1, 2, 1]"
      ]
     },
     "execution_count": 76,
     "metadata": {},
     "output_type": "execute_result"
    }
   ],
   "source": []
  },
  {
   "cell_type": "code",
   "execution_count": null,
   "metadata": {},
   "outputs": [],
   "source": []
  }
 ],
 "metadata": {
  "kernelspec": {
   "display_name": "Python 3",
   "language": "python",
   "name": "python3"
  },
  "language_info": {
   "codemirror_mode": {
    "name": "ipython",
    "version": 3
   },
   "file_extension": ".py",
   "mimetype": "text/x-python",
   "name": "python",
   "nbconvert_exporter": "python",
   "pygments_lexer": "ipython3",
   "version": "3.10.11"
  }
 },
 "nbformat": 4,
 "nbformat_minor": 2
}
