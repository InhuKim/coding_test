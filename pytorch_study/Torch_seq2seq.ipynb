{
 "cells": [
  {
   "cell_type": "markdown",
   "source": [
    "# LSTM 예제"
   ],
   "metadata": {
    "collapsed": false,
    "pycharm": {
     "name": "#%% md\n"
    }
   }
  },
  {
   "cell_type": "code",
   "execution_count": 63,
   "outputs": [],
   "source": [
    "import numpy as np\n",
    "import os\n",
    "import matplotlib.pyplot as plt\n",
    "import pandas as pd\n",
    "import torch\n",
    "import torch.nn as nn\n",
    "from torch.autograd import Variable\n",
    "from sklearn.preprocessing import MinMaxScaler"
   ],
   "metadata": {
    "collapsed": false,
    "pycharm": {
     "name": "#%%\n"
    }
   }
  },
  {
   "cell_type": "code",
   "execution_count": 64,
   "outputs": [],
   "source": [
    "time_series = pd.DataFrame()\n",
    "target_label = pd.DataFrame()"
   ],
   "metadata": {
    "collapsed": false,
    "pycharm": {
     "name": "#%%\n"
    }
   }
  },
  {
   "cell_type": "code",
   "execution_count": 65,
   "outputs": [],
   "source": [
    "path = './../open/meta_data/train'\n",
    "count = 0\n",
    "row = pd.DataFrame()\n",
    "\n",
    "for i in range(75):\n",
    "    if i + 1 < 10:\n",
    "        i_str = '0' + str(i +1)\n",
    "    elif i + 1 > 10:\n",
    "        i_str = str(i +1)\n",
    "    elif i + 1 == 10:\n",
    "        i_str = str(i + 1)\n",
    "\n",
    "    file_list = os.listdir(path + '/CASE' + i_str)\n",
    "    file_list_py = [file for file in file_list if file.endswith('.csv')]\n",
    "\n",
    "    for l in file_list_py:\n",
    "        data = pd.read_csv(path + '/CASE' + i_str + '/' + l)\n",
    "        time_series = pd.concat([time_series, data])"
   ],
   "metadata": {
    "collapsed": false,
    "pycharm": {
     "name": "#%%\n"
    }
   }
  },
  {
   "cell_type": "code",
   "execution_count": 66,
   "outputs": [],
   "source": [
    "path = './../open/meta_data/target'\n",
    "count2 = 0\n",
    "\n",
    "for j in range(75):\n",
    "    if j + 1 < 10:\n",
    "        j_str = '0' + str(j +1)\n",
    "    elif j + 1 > 10:\n",
    "        j_str = str(j +1)\n",
    "    elif j + 1 == 10:\n",
    "        j_str = str(j + 1)\n",
    "\n",
    "    file_list = os.listdir(path + '/CASE' + j_str)\n",
    "    file_list_py = [file for file in file_list if file.endswith('.csv')]\n",
    "\n",
    "    for k in file_list_py:\n",
    "        target = pd.read_csv(path + '/CASE' + j_str + '/' + k)\n",
    "        target_label = pd.concat([target_label, target])"
   ],
   "metadata": {
    "collapsed": false,
    "pycharm": {
     "name": "#%%\n"
    }
   }
  },
  {
   "cell_type": "code",
   "execution_count": 68,
   "outputs": [
    {
     "name": "stdout",
     "output_type": "stream",
     "text": [
      "1292\n",
      "1860480\n"
     ]
    }
   ],
   "source": [
    "print(len(target_label))\n",
    "print(len(time_series))"
   ],
   "metadata": {
    "collapsed": false,
    "pycharm": {
     "name": "#%%\n"
    }
   }
  },
  {
   "cell_type": "code",
   "execution_count": 101,
   "outputs": [],
   "source": [
    "target_dataset = target_label.to_numpy()\n",
    "target_dataset = target_dataset[:, 1]"
   ],
   "metadata": {
    "collapsed": false,
    "pycharm": {
     "name": "#%%\n"
    }
   }
  },
  {
   "cell_type": "code",
   "execution_count": 97,
   "outputs": [],
   "source": [
    "time_dataset = time_series.to_numpy()\n",
    "time_dataset = time_dataset[:, 1:]"
   ],
   "metadata": {
    "collapsed": false,
    "pycharm": {
     "name": "#%%\n"
    }
   }
  },
  {
   "cell_type": "code",
   "execution_count": 104,
   "outputs": [],
   "source": [
    "def sliding_windows(data, target):\n",
    "    x = []\n",
    "    y = []\n",
    "\n",
    "    for i in range(len(target)):\n",
    "        _x = data[(i * 1440): ((i + 1) * 1440)]\n",
    "        _y = target[i]\n",
    "        x.append(_x)\n",
    "        y.append(_y)\n",
    "\n",
    "    return np.array(x),np.array(y)\n",
    "\n",
    "sc = MinMaxScaler()\n",
    "training_data = sc.fit_transform(time_dataset)\n",
    "target_data = sc.fit_transform(target_dataset.reshape(-1, 1))\n",
    "\n",
    "\n",
    "x, y = sliding_windows(training_data, target_data)\n",
    "\n",
    "train_size = int(len(y) * 0.7)\n",
    "test_size = len(y) - train_size\n",
    "\n",
    "dataX = Variable(torch.Tensor(np.array(x)))\n",
    "dataY = Variable(torch.Tensor(np.array(y)))\n",
    "\n",
    "trainX = Variable(torch.Tensor(np.array(x[0:train_size])))\n",
    "trainY = Variable(torch.Tensor(np.array(y[0:train_size])))\n",
    "\n",
    "testX = Variable(torch.Tensor(np.array(x[train_size:len(x)])))\n",
    "testY = Variable(torch.Tensor(np.array(y[train_size:len(y)])))"
   ],
   "metadata": {
    "collapsed": false,
    "pycharm": {
     "name": "#%%\n"
    }
   }
  },
  {
   "cell_type": "code",
   "execution_count": 109,
   "outputs": [
    {
     "data": {
      "text/plain": "torch.Size([388, 1])"
     },
     "execution_count": 109,
     "metadata": {},
     "output_type": "execute_result"
    }
   ],
   "source": [
    "testY.size()"
   ],
   "metadata": {
    "collapsed": false,
    "pycharm": {
     "name": "#%%\n"
    }
   }
  },
  {
   "cell_type": "code",
   "execution_count": null,
   "outputs": [],
   "source": [
    "class LSTM(nn.Module):\n",
    "\n",
    "    def __init__(self, num_classes, input_size, hidden_size, num_layers):\n",
    "        super(LSTM, self).__init__()\n",
    "\n",
    "        self.num_classes = num_classes\n",
    "        self.num_layers = num_layers\n",
    "        self.input_size = input_size\n",
    "        self.hidden_size = hidden_size\n",
    "        self.seq_length = seq_length\n",
    "\n",
    "        self.lstm = nn.LSTM(input_size=input_size, hidden_size=hidden_size,\n",
    "                            num_layers=num_layers, batch_first=True)\n",
    "\n",
    "        self.fc = nn.Linear(hidden_size, num_classes)\n",
    "\n",
    "    def forward(self, x):\n",
    "        h_0 = Variable(torch.zeros(\n",
    "            self.num_layers, x.size(0), self.hidden_size))\n",
    "\n",
    "        c_0 = Variable(torch.zeros(\n",
    "            self.num_layers, x.size(0), self.hidden_size))\n",
    "\n",
    "        # Propagate input through LSTM\n",
    "        ula, (h_out, _) = self.lstm(x, (h_0, c_0))\n",
    "\n",
    "        h_out = h_out.view(-1, self.hidden_size)\n",
    "\n",
    "        out = self.fc(h_out)\n",
    "\n",
    "        return out"
   ],
   "metadata": {
    "collapsed": false,
    "pycharm": {
     "name": "#%%\n"
    }
   }
  }
 ],
 "metadata": {
  "kernelspec": {
   "display_name": "Python 3",
   "language": "python",
   "name": "python3"
  },
  "language_info": {
   "codemirror_mode": {
    "name": "ipython",
    "version": 2
   },
   "file_extension": ".py",
   "mimetype": "text/x-python",
   "name": "python",
   "nbconvert_exporter": "python",
   "pygments_lexer": "ipython2",
   "version": "2.7.6"
  }
 },
 "nbformat": 4,
 "nbformat_minor": 0
}