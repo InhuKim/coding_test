{
 "cells": [
  {
   "cell_type": "markdown",
   "source": [
    "### 1004 어린왕자\n",
    "\n",
    "---\n",
    "\n",
    "어린 왕자는 소혹성 B-664에서 자신이 사랑하는 한 송이 장미를 위해 살아간다. 어느 날 장미가 위험에 빠지게 된 것을 알게 된 어린 왕자는, 장미를 구하기 위해 은하수를 따라 긴 여행을 하기 시작했다. 하지만 어린 왕자의 우주선은 그렇게 좋지 않아서 행성계 간의 이동을 최대한 피해서 여행해야 한다. 아래의 그림은 어린 왕자가 펼쳐본 은하수 지도의 일부이다.\n",
    "빨간 실선은 어린 왕자가 출발점에서 도착점까지 도달하는데 있어서 필요한 행성계 진입/이탈 횟수를 최소화하는 경로이며, 원은 행성계의 경계를 의미한다. 이러한 경로는 여러 개 존재할 수 있지만 적어도 3번의 행성계 진입/이탈이 필요하다는 것을 알 수 있다.\n",
    "위와 같은 은하수 지도, 출발점, 도착점이 주어졌을 때 어린 왕자에게 필요한 최소의 행성계 진입/이탈 횟수를 구하는 프로그램을 작성해 보자. 행성계의 경계가 맞닿거나 서로 교차하는 경우는 없다. 또한, 출발점이나 도착점이 행성계 경계에 걸쳐진 경우 역시 입력으로 주어지지 않는다.\n",
    "\n",
    "---\n",
    "\n",
    "입력\n",
    "입력의 첫 줄에는 테스트 케이스의 개수 T가 주어진다. 그 다음 줄부터 각각의 테스트케이스에 대해 첫째 줄에 출발점 (x1, y1)과 도착점 (x2, y2)이 주어진다. 두 번째 줄에는 행성계의 개수 n이 주어지며, 세 번째 줄부터 n줄에 걸쳐 행성계의 중점과 반지름 (cx, cy, r)이 주어진다.\n",
    "\n",
    "출력\n",
    "각 테스트 케이스에 대해 어린 왕자가 거쳐야 할 최소의 행성계 진입/이탈 횟수를 출력한다."
   ],
   "metadata": {
    "collapsed": false,
    "pycharm": {
     "name": "#%% md\n"
    }
   }
  },
  {
   "cell_type": "code",
   "execution_count": 7,
   "outputs": [
    {
     "name": "stdout",
     "output_type": "stream",
     "text": [
      "3\n"
     ]
    }
   ],
   "source": [
    "import math\n",
    "\n",
    "T = int(input())\n",
    "\n",
    "for _ in range(T):\n",
    "    x1, y1, x2, y2 = map(int, input().split())\n",
    "\n",
    "    N = int(input())\n",
    "    count = 0\n",
    "\n",
    "    # 원의 중점과 출발, 도착 지점의 거리를 계산해서 거리가 반지름을 넘어 원 밖으로 나가면 카운트.\n",
    "    for _ in range(N):\n",
    "        cx, cy, cr = map(int, input().split())\n",
    "        dist1 = math.sqrt((x1 - cx)**2 + (y1 - cy) **2)\n",
    "        dist2 = math.sqrt((x2 - cx)**2 + (y2 - cy) **2)\n",
    "\n",
    "        if dist1 > cr and dist2 < cr:\n",
    "            count += 1\n",
    "        if dist2 > cr and dist1 < cr:\n",
    "            count += 1\n",
    "\n",
    "    print(count)"
   ],
   "metadata": {
    "collapsed": false,
    "pycharm": {
     "name": "#%%\n"
    }
   }
  },
  {
   "cell_type": "markdown",
   "source": [
    "### 1037 약수\n",
    "\n",
    "---\n",
    "\n",
    "양수 A가 N의 진짜 약수가 되려면, N이 A의 배수이고, A가 1과 N이 아니어야 한다. 어떤 수 N의 진짜 약수가 모두 주어질 때, N을 구하는 프로그램을 작성하시오.\n",
    "\n",
    "---\n",
    "\n",
    "입력\n",
    "첫째 줄에 N의 진짜 약수의 개수가 주어진다. 이 개수는 50보다 작거나 같은 자연수이다. 둘째 줄에는 N의 진짜 약수가 주어진다. 1,000,000보다 작거나 같고, 2보다 크거나 같은 자연수이고, 중복되지 않는다.\n",
    "\n",
    "출력\n",
    "첫째 줄에 N을 출력한다. N은 항상 32비트 부호있는 정수로 표현할 수 있다."
   ],
   "metadata": {
    "collapsed": false,
    "pycharm": {
     "name": "#%% md\n"
    }
   }
  },
  {
   "cell_type": "code",
   "execution_count": 2,
   "outputs": [
    {
     "name": "stdout",
     "output_type": "stream",
     "text": [
      "185192\n"
     ]
    }
   ],
   "source": [
    "import math\n",
    "\n",
    "N = int(input())\n",
    "num_list = list(map(int, input().split()))\n",
    "\n",
    "# 23% 쯤에서 계속 오답이 발생하는데 이유를 명확히 파악하지 못했음.\n",
    "# 소수에 약수의 가장 큰 값을 곱해서 배수를 만들어 모든 약수가 해당하면 정답이라고 생각했는데 계속 오답 발생.\n",
    "# 소수가 아닌 1 ~ 20까지의 수를 넣었더니 같은 위치에서 오답이 발생하는 것을 보고 배수를 구해서 약수를 넣는 방식으로는 다른 약수가 더 발생하여 오답이 된다고 추측.\n",
    "\n",
    "# prime = []\n",
    "# a = [0, 0] + [1] * 99\n",
    "#\n",
    "# for i in range(2, 101):\n",
    "#     if a[i]:\n",
    "#         prime.append(i)\n",
    "#         for j in range(2*i, 101, i):\n",
    "#             a[j] = 0\n",
    "#\n",
    "# max_list = [max(num_list)* i for i in prime]\n",
    "# result = 0\n",
    "#\n",
    "# for multiple in max_list:\n",
    "#     count = 0\n",
    "#\n",
    "#     for num in num_list:\n",
    "#         if multiple % num == 0:\n",
    "#             count += 1\n",
    "#         elif multiple % num != 0:\n",
    "#             break\n",
    "#\n",
    "#         if count == len(num_list):\n",
    "#             result = multiple\n",
    "#\n",
    "#     if result != 0:\n",
    "#         break\n",
    "#\n",
    "# print(result)\n",
    "\n",
    "max_num = max(num_list)\n",
    "min_num = min(num_list)\n",
    "\n",
    "print(max_num * min_num)\n",
    "\n",
    "# 정답을 찾아보니 주어진 약수의 가장 큰 값과 작은 값을 곱하면 진짜 숫자가 나온다고 알려줬는데 무슨 원리로 그렇게 나오는지 알려주지는 않아 명확하게 이해되지는 않았다.\n",
    "# 예제나 다른 예시를 생각해보면 귀납적으로는 이해가 가지만 연역적으로는 이 둘의 곱이 진짜 수라는 명확한 이해가 가지 않았다.\n",
    "# 수학에 대한 기본이 약해서 약수의 개념을 몰라서 해당 문제를 이해 못한 것으로 보인다. 알고리즘 공부가 좀 더 진행되면 수학적 사고가 늘어나서 이해할 수 있지 않을까 예상한다.\n",
    "# https://hwiyong.tistory.com/353"
   ],
   "metadata": {
    "collapsed": false,
    "pycharm": {
     "name": "#%%\n"
    }
   }
  }
 ],
 "metadata": {
  "kernelspec": {
   "display_name": "Python 3",
   "language": "python",
   "name": "python3"
  },
  "language_info": {
   "codemirror_mode": {
    "name": "ipython",
    "version": 2
   },
   "file_extension": ".py",
   "mimetype": "text/x-python",
   "name": "python",
   "nbconvert_exporter": "python",
   "pygments_lexer": "ipython2",
   "version": "2.7.6"
  }
 },
 "nbformat": 4,
 "nbformat_minor": 0
}