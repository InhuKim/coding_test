{
 "cells": [
  {
   "cell_type": "markdown",
   "source": [
    "# 11051 이항 계수 2\n",
    "\n",
    "---\n",
    "\n",
    "자연수 N과 정수 K가 주어졌을 때 이항 계수를 10,007로 나눈 나머지를 구하는 프로그램을 작성하시요.\n",
    "\n",
    "---\n",
    "\n",
    "입력\n",
    "첫째 줄에 N과 K가 주어진다.(1 <= N <= 1,000 , 0 <= K <= N)\n",
    "\n",
    "출력\n",
    "이항계수를 10,007로 나눈 나머지를 출력한다."
   ],
   "metadata": {
    "collapsed": false,
    "pycharm": {
     "name": "#%% md\n"
    }
   }
  },
  {
   "cell_type": "code",
   "execution_count": 1,
   "outputs": [
    {
     "name": "stdout",
     "output_type": "stream",
     "text": [
      "10\n"
     ]
    }
   ],
   "source": [
    "from math import factorial\n",
    "\n",
    "n, k = map(int, input().split())\n",
    "\n",
    "result = factorial(n) // (factorial(k) * factorial(n-k))\n",
    "print(result % 10007)\n",
    "\n",
    "# 나누기를 하고 int로 형변환을 해서 오답이 발생.\n",
    "# 몫만 구하도록 설정하고서 정답"
   ],
   "metadata": {
    "collapsed": false,
    "pycharm": {
     "name": "#%%\n"
    }
   }
  },
  {
   "cell_type": "code",
   "execution_count": 3,
   "outputs": [
    {
     "name": "stdout",
     "output_type": "stream",
     "text": [
      "10\n"
     ]
    }
   ],
   "source": [
    "# 이항계수를 다르게 푸는 방법.\n",
    "# 이항계수에 대해서 공부하니 다른 많은 방법론이 존재하는 것을 확인했고 해당 문제는 대부분 파스칼의 삼각형을 사용하여 풀어 해당 방법을 사용해 봄.\n",
    "\n",
    "n, k = map(int, input().split())\n",
    "\n",
    "pascal = []\n",
    "pascal.append([1, 0])\n",
    "\n",
    "for i in range(1, n+1):\n",
    "    pascal.append([])\n",
    "    pascal[i] = [0] * (i + 2)\n",
    "    pascal[i][0] = 1\n",
    "\n",
    "    for j in range(1, i+1):\n",
    "        pascal[i][j] = (pascal[i-1][j] + pascal[i-1][j-1])\n",
    "\n",
    "print(pascal[n][k] % 10007)"
   ],
   "metadata": {
    "collapsed": false,
    "pycharm": {
     "name": "#%%\n"
    }
   }
  }
 ],
 "metadata": {
  "kernelspec": {
   "display_name": "Python 3",
   "language": "python",
   "name": "python3"
  },
  "language_info": {
   "codemirror_mode": {
    "name": "ipython",
    "version": 2
   },
   "file_extension": ".py",
   "mimetype": "text/x-python",
   "name": "python",
   "nbconvert_exporter": "python",
   "pygments_lexer": "ipython2",
   "version": "2.7.6"
  }
 },
 "nbformat": 4,
 "nbformat_minor": 0
}