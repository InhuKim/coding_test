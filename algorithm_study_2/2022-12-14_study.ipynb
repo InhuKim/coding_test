{
 "cells": [
  {
   "cell_type": "markdown",
   "source": [
    "### 3036 링\n",
    "\n",
    "---\n",
    "\n",
    "상근이는 창고에서 링 N개를 발견했다. 상근이는 각각의 링이 앞에 있는 링과 뒤에 있는 링과 접하도록 바닥에 내려놓았다.\n",
    "상근이는 첫 번째 링을 돌리기 시작했고, 나머지 링도 같이 돌아간다는 사실을 발견했다. 나머지 링은 첫 번째 링 보다 빠르게 돌아가기도 했고, 느리게 돌아가기도 했다. 이렇게 링을 돌리다 보니 첫 번째 링을 한 바퀴 돌리면, 나머지 링은 몇 바퀴 도는지 궁금해졌다.\n",
    "링의 반지름이 주어진다. 이때, 첫 번째 링을 한 바퀴 돌리면, 나머지 링은 몇 바퀴 돌아가는지 구하는 프로그램을 작성하시오.\n",
    "\n",
    "---\n",
    "\n",
    "입력\n",
    "첫째 줄에 링의 개수 N이 주어진다. (3 ≤ N ≤ 100)\n",
    "다음 줄에는 링의 반지름이 상근이가 바닥에 놓은 순서대로 주어진다. 반지름은 1과 1000를 포함하는 사이의 자연수이다.\n",
    "\n",
    "출력\n",
    "출력은 총 N-1줄을 해야 한다. 첫 번째 링을 제외한 각각의 링에 대해서, 첫 번째 링을 한 바퀴 돌리면 그 링은 몇 바퀴 도는지 기약 분수 형태 A/B로 출력한다."
   ],
   "metadata": {
    "collapsed": false,
    "pycharm": {
     "name": "#%% md\n"
    }
   }
  },
  {
   "cell_type": "code",
   "execution_count": 1,
   "outputs": [
    {
     "name": "stdout",
     "output_type": "stream",
     "text": [
      "2 / 1\n",
      "4 / 1\n"
     ]
    }
   ],
   "source": [
    "import math\n",
    "\n",
    "N = int(input())\n",
    "circle = list(map(int, input().split()))\n",
    "\n",
    "first = circle[0]\n",
    "\n",
    "for i in range(1, N):\n",
    "    other = circle[i]\n",
    "    gcd = math.gcd(first, other)\n",
    "    print('{} / {}'.format(first//gcd, other//gcd))\n",
    "\n",
    "# 원의 회전과 기약 분수의 관계에 대한 개념이 약해서 해당 개념을 따로 알아봄.\n",
    "# 결국 원의 회전비에 대한 개념인데 나머지는 약분되고 반지름끼리 만들어주면 됨.\n",
    "# 여기서 기약분수를 분자와 분모에 최대공약수로 나눠준다는 개념을 알고 나서야 품."
   ],
   "metadata": {
    "collapsed": false,
    "pycharm": {
     "name": "#%%\n"
    }
   }
  },
  {
   "cell_type": "markdown",
   "source": [
    "### 15650 N과 M (2)\n",
    "\n",
    "---\n",
    "\n",
    "자연수 N과 M이 주어졌을 때, 아래 조건을 만족하는 길이가 M인 수열을 모두 구하는 프로그램을 작성하시오.\n",
    "\n",
    "1부터 N까지 자연수 중에서 중복 없이 M개를 고른 수열\n",
    "고른 수열은 오름차순이어야 한다.\n",
    "\n",
    "---\n",
    "\n",
    "입력\n",
    "첫째 줄에 자연수 N과 M이 주어진다. (1 ≤ M ≤ N ≤ 8)\n",
    "\n",
    "출력\n",
    "한 줄에 하나씩 문제의 조건을 만족하는 수열을 출력한다. 중복되는 수열을 여러 번 출력하면 안되며, 각 수열은 공백으로 구분해서 출력해야 한다.\n",
    "수열은 사전 순으로 증가하는 순서로 출력해야 한다."
   ],
   "metadata": {
    "collapsed": false,
    "pycharm": {
     "name": "#%% md\n"
    }
   }
  },
  {
   "cell_type": "code",
   "execution_count": 19,
   "outputs": [
    {
     "name": "stdout",
     "output_type": "stream",
     "text": [
      "1 2\n",
      "1 3\n",
      "1 4\n",
      "2 3\n",
      "2 4\n",
      "3 4\n"
     ]
    }
   ],
   "source": [
    "n, m = map(int, input().split())\n",
    "num = [i for i in range(1, n + 1)]\n",
    "sequence = []\n",
    "\n",
    "def backtracking():\n",
    "    # m 사이즈의 배열이 작성되면 출력\n",
    "    # false 리턴으로 상황을 종료.\n",
    "    if len(sequence) == m:\n",
    "        if sequence == sorted(sequence):\n",
    "            print(*sequence)\n",
    "        return\n",
    "\n",
    "    # pop 메소드로 마지막 저장 정보를 날려 이전 정보로 돌림.\n",
    "    for i in range(1, n +1):\n",
    "        if i not in sequence:\n",
    "            sequence.append(i)\n",
    "            backtracking()\n",
    "            sequence.pop()\n",
    "\n",
    "backtracking()\n",
    "\n",
    "\n",
    "# 이전에 푼 문제에서 리스트가 사전 순으로 증가하는 경우인데 이는 오름차순 정렬과 같기 때문에 sorted된 상태와 동일할 경우 출력하기만 하면 됨."
   ],
   "metadata": {
    "collapsed": false,
    "pycharm": {
     "name": "#%%\n"
    }
   }
  }
 ],
 "metadata": {
  "kernelspec": {
   "display_name": "Python 3",
   "language": "python",
   "name": "python3"
  },
  "language_info": {
   "codemirror_mode": {
    "name": "ipython",
    "version": 2
   },
   "file_extension": ".py",
   "mimetype": "text/x-python",
   "name": "python",
   "nbconvert_exporter": "python",
   "pygments_lexer": "ipython2",
   "version": "2.7.6"
  }
 },
 "nbformat": 4,
 "nbformat_minor": 0
}