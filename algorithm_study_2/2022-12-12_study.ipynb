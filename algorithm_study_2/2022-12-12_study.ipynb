{
 "cells": [
  {
   "cell_type": "markdown",
   "source": [
    "### 2609 최대공약수와 최소공배수\n",
    "\n",
    "---\n",
    "\n",
    "두 개의 자연수를 입력받아 최대 공약수와 최소 공배수를 출력하는 프로그램을 작성하시오.\n",
    "\n",
    "---\n",
    "\n",
    "입력\n",
    "첫째 줄에는 두 개의 자연수가 주어진다. 이 둘은 10,000이하의 자연수이며 사이에 한 칸의 공백이 주어진다.\n",
    "\n",
    "출력\n",
    "첫째 줄에는 입력으로 주어진 두 수의 최대공약수를, 둘째 줄에는 입력으로 주어진 두 수의 최소 공배수를 출력한다.\n"
   ],
   "metadata": {
    "collapsed": false,
    "pycharm": {
     "name": "#%% md\n"
    }
   }
  },
  {
   "cell_type": "code",
   "execution_count": 1,
   "outputs": [
    {
     "name": "stdout",
     "output_type": "stream",
     "text": [
      "6\n",
      "72.0\n"
     ]
    }
   ],
   "source": [
    "def gcd(a, b):\n",
    "    while b != 0:\n",
    "        r = a % b\n",
    "        a = b\n",
    "        b = r\n",
    "    return a\n",
    "\n",
    "def lcm(a, b):\n",
    "    return (a * b) / gcd(a, b)\n",
    "\n",
    "A, B = map(int, input().split())\n",
    "\n",
    "print(gcd(A, B))\n",
    "print(lcm(A, B))\n",
    "\n",
    "# 알고리즘 분류에 유클리드 호제법을 참고하여 풀이.\n",
    "# https://namu.wiki/w/%EC%9C%A0%ED%81%B4%EB%A6%AC%EB%93%9C%20%ED%98%B8%EC%A0%9C%EB%B2%95"
   ],
   "metadata": {
    "collapsed": false,
    "pycharm": {
     "name": "#%%\n"
    }
   }
  },
  {
   "cell_type": "markdown",
   "source": [
    "### 1934 최소공배수\n",
    "\n",
    "---\n",
    "\n",
    "두 자연수 A와 B에 대해서, A의 배수이면서 B의 배수인 자연수를 A와 B의 공배수라고 한다. 이런 공배수 중에서 가장 작은 수를 최소공배수라고 한다. 예를 들어, 6과 15의 공배수는 30, 60, 90등이 있으며, 최소 공배수는 30이다.\n",
    "\n",
    "두 자연수 A와 B가 주어졌을 때, A와 B의 최소공배수를 구하는 프로그램을 작성하시오.\n",
    "\n",
    "---\n",
    "\n",
    "입력\n",
    "첫째 줄에 테스트 케이스의 개수 T(1 ≤ T ≤ 1,000)가 주어진다. 둘째 줄부터 T개의 줄에 걸쳐서 A와 B가 주어진다. (1 ≤ A, B ≤ 45,000)\n",
    "\n",
    "출력\n",
    "첫째 줄부터 T개의 줄에 A와 B의 최소공배수를 입력받은 순서대로 한 줄에 하나씩 출력한다.\n"
   ],
   "metadata": {
    "collapsed": false,
    "pycharm": {
     "name": "#%% md\n"
    }
   }
  },
  {
   "cell_type": "code",
   "execution_count": 2,
   "outputs": [
    {
     "name": "stdout",
     "output_type": "stream",
     "text": [
      "45000.0\n",
      "30.0\n",
      "221.0\n"
     ]
    }
   ],
   "source": [
    "T = int(input())\n",
    "\n",
    "def gcd(a, b):\n",
    "    while b != 0:\n",
    "        r = a % b\n",
    "        a = b\n",
    "        b = r\n",
    "    return a\n",
    "\n",
    "def lcm(a, b):\n",
    "    return (a * b) / gcd(a, b)\n",
    "\n",
    "for _ in range(T):\n",
    "    A, B = map(int, input().split())\n",
    "    print(int(lcm(A, B)))"
   ],
   "metadata": {
    "collapsed": false,
    "pycharm": {
     "name": "#%%\n"
    }
   }
  },
  {
   "cell_type": "markdown",
   "source": [
    "### 2981 검문\n",
    "\n",
    "---\n",
    "\n",
    "트럭을 타고 이동하던 상근이는 경찰의 검문을 받게 되었다. 경찰은 상근이가 운반하던 화물을 하나하나 모두 확인할 것이기 때문에, 검문하는데 엄청나게 오랜 시간이 걸린다.\n",
    "\n",
    "상근이는 시간을 때우기 위해서 수학 게임을 하기로 했다.\n",
    "\n",
    "먼저 근처에 보이는 숫자 N개를 종이에 적는다. 그 다음, 종이에 적은 수를 M으로 나누었을 때, 나머지가 모두 같게 되는 M을 모두 찾으려고 한다. M은 1보다 커야 한다.\n",
    "\n",
    "N개의 수가 주어졌을 때, 가능한 M을 모두 찾는 프로그램을 작성하시오.\n",
    "\n",
    "---\n",
    "\n",
    "입력\n",
    "첫째 줄에 종이에 적은 수의 개수 N이 주어진다. (2 ≤ N ≤ 100)\n",
    "다음 줄부터 N개 줄에는 종이에 적은 수가 하나씩 주어진다. 이 수는 모두 1보다 크거나 같고, 1,000,000,000보다 작거나 같은 자연수이다. 같은 수가 두 번 이상 주어지지 않는다.\n",
    "항상 M이 하나 이상 존재하는 경우만 입력으로 주어진다.\n",
    "\n",
    "출력\n",
    "첫째 줄에 가능한 M을 공백으로 구분하여 모두 출력한다. 이때, M은 증가하는 순서이어야 한다.\n"
   ],
   "metadata": {
    "collapsed": false,
    "pycharm": {
     "name": "#%% md\n"
    }
   }
  },
  {
   "cell_type": "code",
   "execution_count": 9,
   "outputs": [
    {
     "name": "stdout",
     "output_type": "stream",
     "text": [
      "3\n"
     ]
    }
   ],
   "source": [
    "import math\n",
    "\n",
    "N = int(input())\n",
    "num = sorted([int(input()) for _ in range(N)])\n",
    "\n",
    "# 예제에서는 정답에 맞았지만 시간초과 발생.\n",
    "# 최솟값이 클 경우 for문이 더욱 깊어져서 시간 초과 발생으로 추측.\n",
    "# 유클리드 호제법을 활용하면 시간 초과를 해결할 수 있을 것 같음.\n",
    "# def divider(num):\n",
    "#\n",
    "#     M = []\n",
    "#     result = []\n",
    "#\n",
    "#     for i in range(2, min(num)+1):\n",
    "#         count = 0\n",
    "#         # print()\n",
    "#         # print(num[0] % i)\n",
    "#         M.append((num[0] % i))\n",
    "#\n",
    "#         for j in range(1, len(num)):\n",
    "#             # print(num[j] % i)\n",
    "#             if num[j] % i not in M:\n",
    "#                 break\n",
    "#             count += 1\n",
    "#\n",
    "#             if count == len(num) - 1:\n",
    "#                 # print(i)\n",
    "#                 result.append(i)\n",
    "#\n",
    "#     return result\n",
    "\n",
    "'''\n",
    "A = M * a + R\n",
    "B = M * b + R\n",
    "C = M * c + R\n",
    "\n",
    "B - A = M(b-a)\n",
    "C- B = M(c-b)\n",
    "위 식의 개념을 사용해서 주어진 리스트의 공약수 구함.\n",
    "두 수 사이의 차가 가지는 공약수들이 M인데 차의 최대공약수가 M이 된다.\n",
    "'''\n",
    "\n",
    "new_num = []\n",
    "result = []\n",
    "\n",
    "# 리스트의 두 수의 차를 리스트로 저장\n",
    "for i in range(1, N):\n",
    "    new_num.append(num[i] - num[i - 1])\n",
    "\n",
    "# 첫번째 차를 저장하고 리스트 전체를 순회하며 모든 차들의 공통된 최대공약수를 탐색.\n",
    "prev = new_num[0]\n",
    "for i in range(1, len(new_num)):\n",
    "    prev = math.gcd(prev, new_num[i])\n",
    "\n",
    "# 연산 속도 향상을 위해서 몫과 나머지를 구하는 것으로 제곱근 수치만큼 for문 순회.\n",
    "for i in range(2, int(math.sqrt(prev)) + 1):\n",
    "    if prev % i == 0:\n",
    "        result.append(i)\n",
    "        result.append(prev//i)\n",
    "\n",
    "result.append(prev)\n",
    "result = sorted(list(set(result)))\n",
    "\n",
    "print(*result)"
   ],
   "metadata": {
    "collapsed": false,
    "pycharm": {
     "name": "#%%\n"
    }
   }
  }
 ],
 "metadata": {
  "kernelspec": {
   "display_name": "Python 3",
   "language": "python",
   "name": "python3"
  },
  "language_info": {
   "codemirror_mode": {
    "name": "ipython",
    "version": 2
   },
   "file_extension": ".py",
   "mimetype": "text/x-python",
   "name": "python",
   "nbconvert_exporter": "python",
   "pygments_lexer": "ipython2",
   "version": "2.7.6"
  }
 },
 "nbformat": 4,
 "nbformat_minor": 0
}