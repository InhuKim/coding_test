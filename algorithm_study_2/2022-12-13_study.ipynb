{
 "cells": [
  {
   "cell_type": "markdown",
   "source": [
    "### 11050 이항 계수 1\n",
    "\n",
    "---\n",
    "\n",
    "자연수 N과 정수 K가 주어졌을 때 이항 계수 (N K)를 구하는 프로그램을 작성하시오.\n",
    "\n",
    "---\n",
    "\n",
    "입력\n",
    "첫째 줄에 N과 K가 주어진다.\n",
    "\n",
    "출력\n",
    "이항계수를 출력한다."
   ],
   "metadata": {
    "collapsed": false,
    "pycharm": {
     "name": "#%% md\n"
    }
   }
  },
  {
   "cell_type": "code",
   "execution_count": 1,
   "outputs": [
    {
     "name": "stdout",
     "output_type": "stream",
     "text": [
      "10\n"
     ]
    }
   ],
   "source": [
    "from math import factorial\n",
    "\n",
    "n, k = map(int, input().split())\n",
    "\n",
    "result = factorial(n) / (factorial(k) * factorial(n-k))\n",
    "print(int(result))\n",
    "\n",
    "# 이항계수에 관한 내용은 위키를 참고해서 구현.\n",
    "# https://ko.wikipedia.org/wiki/%EC%9D%B4%ED%95%AD_%EA%B3%84%EC%88%98"
   ],
   "metadata": {
    "collapsed": false,
    "pycharm": {
     "name": "#%%\n"
    }
   }
  },
  {
   "cell_type": "markdown",
   "source": [
    "### 15649 N과 M (1)\n",
    "\n",
    "---\n",
    "\n",
    "자연수 N과 M이 주어졌을 때, 아래 조건을 만족하는 길이가 M인 수열을 모두 구하는 프로그램을 작성하시오.\n",
    "1부터 N까지 자연수 중에서 중복 없이 M개를 고른 수열\n",
    "\n",
    "---\n",
    "\n",
    "입력\n",
    "첫째 줄에 자연수 N과 M이 주어진다. (1 ≤ M ≤ N ≤ 8)\n",
    "\n",
    "출력\n",
    "한 줄에 하나씩 문제의 조건을 만족하는 수열을 출력한다. 중복되는 수열을 여러 번 출력하면 안되며, 각 수열은 공백으로 구분해서 출력해야 한다.\n",
    "수열은 사전 순으로 증가하는 순서로 출력해야 한다."
   ],
   "metadata": {
    "collapsed": false,
    "pycharm": {
     "name": "#%% md\n"
    }
   }
  },
  {
   "cell_type": "code",
   "execution_count": 4,
   "outputs": [
    {
     "name": "stdout",
     "output_type": "stream",
     "text": [
      "1 2\n",
      "1 3\n",
      "1 4\n",
      "2 1\n",
      "2 3\n",
      "2 4\n",
      "3 1\n",
      "3 2\n",
      "3 4\n",
      "4 1\n",
      "4 2\n",
      "4 3\n"
     ]
    }
   ],
   "source": [
    "n, m = map(int, input().split())\n",
    "num = [i for i in range(1, n + 1)]\n",
    "sequence = []\n",
    "\n",
    "def backtracking():\n",
    "    # m 사이즈의 배열이 작성되면 출력\n",
    "    # false 리턴으로 상황을 종료.\n",
    "    if len(sequence) == m:\n",
    "        print(*sequence)\n",
    "        return\n",
    "\n",
    "    # pop 메소드로 마지막 저장 정보를 날려 이전 정보로 돌림.\n",
    "    for i in range(1, n +1):\n",
    "        if i not in sequence:\n",
    "            sequence.append(i)\n",
    "            backtracking()\n",
    "            sequence.pop()\n",
    "\n",
    "backtracking()\n",
    "\n",
    "# 백트래킹 관련 알로리즘을 공부하는데 대부분 15649 문제를 예시로 들고 있어서 예시로 본 코드 들과 동일한 형태가 되버림.\n",
    "# https://veggie-garden.tistory.com/24"
   ],
   "metadata": {
    "collapsed": false,
    "pycharm": {
     "name": "#%%\n"
    }
   }
  }
 ],
 "metadata": {
  "kernelspec": {
   "display_name": "Python 3",
   "language": "python",
   "name": "python3"
  },
  "language_info": {
   "codemirror_mode": {
    "name": "ipython",
    "version": 2
   },
   "file_extension": ".py",
   "mimetype": "text/x-python",
   "name": "python",
   "nbconvert_exporter": "python",
   "pygments_lexer": "ipython2",
   "version": "2.7.6"
  }
 },
 "nbformat": 4,
 "nbformat_minor": 0
}