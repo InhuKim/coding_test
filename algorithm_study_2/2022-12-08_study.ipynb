{
 "cells": [
  {
   "cell_type": "markdown",
   "source": [
    "### 1002 터렛\n",
    "\n",
    "---\n",
    "\n",
    "조규현과 백승환은 터렛에 근무하는 직원이다. 하지만 워낙 존재감이 없어서 인구수는 차지하지 않는다. 다음은 조규현과 백승환의 사진이다.\n",
    "이석원은 조규현과 백승환에게 상대편 마린(류재명)의 위치를 계산하라는 명령을 내렸다. 조규현과 백승환은 각각 자신의 터렛 위치에서 현재 적까지의 거리를 계산했다.\n",
    "조규현의 좌표 (x1, y1)와 백승환의 좌표 (x2, y2)가 주어지고, 조규현이 계산한 류재명과의 거리 r1과 백승환이 계산한 류재명과의 거리 r2가 주어졌을 때, 류재명이 있을 수 있는 좌표의 수를 출력하는 프로그램을 작성하시오.\n",
    "\n",
    "---\n",
    "\n",
    "입력\n",
    " 첫째 줄에 테스트 케이스의 개수 T가 주어진다. 각 테스트 케이스는 다음과 같이 이루어져 있다.\n",
    "한 줄에 x1, y1, r1, x2, y2, r2가 주어진다. x1, y1, x2, y2는 -10,000보다 크거나 같고, 10,000보다 작거나 같은 정수이고, r1, r2는 10,000보다 작거나 같은 자연수이다.\n",
    "\n",
    "출력\n",
    "각 테스트 케이스마다 류재명이 있을 수 있는 위치의 수를 출력한다. 만약 류재명이 있을 수 있는 위치의 개수가 무한대일 경우에는 -1을 출력한다."
   ],
   "metadata": {
    "collapsed": false,
    "pycharm": {
     "name": "#%% md\n"
    }
   }
  },
  {
   "cell_type": "code",
   "execution_count": 17,
   "outputs": [
    {
     "name": "stdout",
     "output_type": "stream",
     "text": [
      "2\n",
      "1\n",
      "0\n"
     ]
    }
   ],
   "source": [
    "import math\n",
    "\n",
    "T = int(input())\n",
    "\n",
    "for _ in range(T):\n",
    "    x1, y1, r1, x2, y2, r2 = map(int, input().split())\n",
    "\n",
    "    # 두 원의 관계를 통해서 교점의 개수가 정답. 원이 완전히 겹치는 경우 위치의 개수가 무한대가 됨.\n",
    "    # 중심점 사이의 거리가 0이면 교점이 없거나 완전히 겹치는 경우.\n",
    "    # 0이 아니면 각 좌표의 r값에 따라서 교점이 존재.\n",
    "    dist = math.sqrt((x1 - x2)**2 + (y1 - y2)**2)\n",
    "\n",
    "    # 동심원으로 반지름이 같은 경우, 무한히 겹침.\n",
    "    if dist == 0 and r1 == r2: print( -1)\n",
    "\n",
    "    # 내접이나 외접으로 교점이 하나\n",
    "    elif abs(r1 - r2) == dist or abs(r1 + r2) == dist: print(1)\n",
    "\n",
    "    # 두 원의 거리가 외접보다는 작아 서로 다른 교점.\n",
    "    elif abs(r1 - r2) < dist < (r1 + r2): print(2)\n",
    "\n",
    "    else: print(0)\n",
    "\n",
    "\n",
    "# 처음에는 선분의 개념에서만 문제를 풀려고 해서 해결이 힘들었는데 구글링으로 이 문제를 원을 사용해서 푼다는 것을 알고서는 원의 관계를 파악하여 해결."
   ],
   "metadata": {
    "collapsed": false,
    "pycharm": {
     "name": "#%%\n"
    }
   }
  },
  {
   "cell_type": "markdown",
   "source": [],
   "metadata": {
    "collapsed": false,
    "pycharm": {
     "name": "#%% md\n"
    }
   }
  },
  {
   "cell_type": "markdown",
   "source": [
    "### 5086 배수와 약수\n",
    "\n",
    "---\n",
    "\n",
    "4 × 3 = 12이다.\n",
    "\n",
    "이 식을 통해 다음과 같은 사실을 알 수 있다.\n",
    "\n",
    "3은 12의 약수이고, 12는 3의 배수이다.\n",
    "\n",
    "4도 12의 약수이고, 12는 4의 배수이다.\n",
    "\n",
    "두 수가 주어졌을 때, 다음 3가지 중 어떤 관계인지 구하는 프로그램을 작성하시오.\n",
    "\n",
    "첫 번째 숫자가 두 번째 숫자의 약수이다.\n",
    "첫 번째 숫자가 두 번째 숫자의 배수이다.\n",
    "첫 번째 숫자가 두 번째 숫자의 약수와 배수 모두 아니다.\n",
    "\n",
    "---\n",
    "\n",
    "입력\n",
    "입력은 여러 테스트 케이스로 이루어져 있다. 각 테스트 케이스는 10,000이 넘지않는 두 자연수로 이루어져 있다. 마지막 줄에는 0이 2개 주어진다. 두 수가 같은 경우는 없다.\n",
    "\n",
    "출력\n",
    "각 테스트 케이스마다 첫 번째 숫자가 두 번째 숫자의 약수라면 factor를, 배수라면 multiple을, 둘 다 아니라면 neither를 출력한다.\n"
   ],
   "metadata": {
    "collapsed": false,
    "pycharm": {
     "name": "#%% md\n"
    }
   }
  },
  {
   "cell_type": "code",
   "execution_count": 1,
   "outputs": [
    {
     "name": "stdout",
     "output_type": "stream",
     "text": [
      "factor\n",
      "multiple\n",
      "neither\n"
     ]
    }
   ],
   "source": [
    "while True:\n",
    "    a, b = map(int, input().split())\n",
    "\n",
    "    if a == 0 & b == 0: break\n",
    "\n",
    "    if b % a == 0: print('factor')\n",
    "\n",
    "    elif a % b == 0: print('multiple')\n",
    "\n",
    "    else: print('neither')"
   ],
   "metadata": {
    "collapsed": false,
    "pycharm": {
     "name": "#%%\n"
    }
   }
  }
 ],
 "metadata": {
  "kernelspec": {
   "display_name": "Python 3",
   "language": "python",
   "name": "python3"
  },
  "language_info": {
   "codemirror_mode": {
    "name": "ipython",
    "version": 2
   },
   "file_extension": ".py",
   "mimetype": "text/x-python",
   "name": "python",
   "nbconvert_exporter": "python",
   "pygments_lexer": "ipython2",
   "version": "2.7.6"
  }
 },
 "nbformat": 4,
 "nbformat_minor": 0
}