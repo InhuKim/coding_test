{
 "cells": [
  {
   "cell_type": "markdown",
   "source": [
    "### 2477 참외밭\n",
    "\n",
    "----\n",
    "\n",
    "시골에 있는 태양이의 삼촌 댁에는 커다란 참외밭이 있다. 문득 태양이는 이 밭에서 자라는 참외가 도대체 몇 개나 되는지 궁금해졌다. 어떻게 알아낼 수 있는지 골똘히 생각하다가 드디어 좋은 아이디어가 떠올랐다. 유레카! 1m2의 넓이에 자라는 참외 개수를 헤아린 다음, 참외밭의 넓이를 구하면 비례식을 이용하여 참외의 총개수를 구할 수 있다.\n",
    "\n",
    "1m2의 넓이에 자라는 참외의 개수는 헤아렸고, 이제 참외밭의 넓이만 구하면 된다. 참외밭은 ㄱ-자 모양이거나 ㄱ-자를 90도, 180도, 270도 회전한 모양(┏, ┗, ┛ 모양)의 육각형이다. 다행히도 밭의 경계(육각형의 변)는 모두 동서 방향이거나 남북 방향이었다. 밭의 한 모퉁이에서 출발하여 밭의 둘레를 돌면서 밭경계 길이를 모두 측정하였다.\n",
    "\n",
    "예를 들어 참외밭이 위 그림과 같은 모양이라고 하자. 그림에서 오른쪽은 동쪽, 왼쪽은 서쪽, 아래쪽은 남쪽, 위쪽은 북쪽이다. 이 그림의 왼쪽위 꼭짓점에서 출발하여, 반시계방향으로 남쪽으로 30m, 동쪽으로 60m, 남쪽으로 20m, 동쪽으로 100m, 북쪽으로 50m, 서쪽으로 160m 이동하면 다시 출발점으로 되돌아가게 된다.\n",
    "\n",
    "위 그림의 참외밭  면적은 6800m2이다. 만약 1m2의 넓이에 자라는 참외의 개수가 7이라면, 이 밭에서 자라는 참외의 개수는 47600으로 계산된다.\n",
    "1m2의 넓이에 자라는 참외의 개수와, 참외밭을 이루는 육각형의 임의의 한 꼭짓점에서 출발하여 반시계방향으로 둘레를 돌면서 지나는 변의 방향과 길이가 순서대로 주어진다. 이 참외밭에서 자라는 참외의 수를 구하는 프로그램을 작성하시오.\n",
    "\n",
    "-----\n",
    "\n",
    "<br><br>\n",
    "\n",
    "입력 : 첫 번째 줄에 1m2의 넓이에 자라는 참외의 개수를 나타내는 양의 정수 K (1 ≤ K ≤ 20)가 주어진다. 참외밭을 나타내는 육각형의 임의의 한 꼭짓점에서 출발하여 반시계방향으로 둘레를 돌면서 지나는 변의 방향과 길이 (1 이상 500 이하의 정수) 가 둘째 줄부터 일곱 번째 줄까지 한 줄에 하나씩 순서대로 주어진다. 변의 방향에서 동쪽은 1, 서쪽은 2, 남쪽은 3, 북쪽은 4로 나타낸다.\n",
    "\n",
    "출력 : 첫째 줄에 입력으로 주어진 밭에서 자라는 참외의 수를 출력한다."
   ],
   "metadata": {
    "collapsed": false,
    "pycharm": {
     "name": "#%% md\n"
    }
   }
  },
  {
   "cell_type": "code",
   "execution_count": 51,
   "outputs": [
    {
     "name": "stdout",
     "output_type": "stream",
     "text": [
      "[50, 160, 30, 60, 20, 100]\n",
      "[4, 2, 3, 1, 3, 1]\n",
      "\n",
      "1\n",
      "[[4, 50], [2, 160]]\n",
      "160\n",
      "47600\n"
     ]
    }
   ],
   "source": [
    "K = int(input())\n",
    "cardinal_points = []\n",
    "\n",
    "for _ in range(6):\n",
    "    a, b = map(int, input().split())\n",
    "    cardinal_points.append([a, b])\n",
    "\n",
    "\n",
    "# 길이와 방향을 따로 빼서 리스트로 만들고 가장 긴 변은 방향에서 하나씩만 있어 방향으로 긴 변을 잡아 긴 가로, 세로 구함.\n",
    "length_line = [x[1] for x in cardinal_points]\n",
    "direction_line = [x[0] for x in cardinal_points]\n",
    "bigger_line_index = [x for x in direction_line if direction_line.count(x) == 1]\n",
    "bigger_line = [x for x in cardinal_points if x[0] in bigger_line_index]\n",
    "\n",
    "# 첫번째 원소의 크기를 비교하기 때문에 1, 2 방향이 가로변 3, 4 방향이 세로변\n",
    "b_width = min(bigger_line)[1]\n",
    "b_height = max(bigger_line)[1]\n",
    "\n",
    "big_squ = b_width * b_height\n",
    "\n",
    "# 가장 긴 변의 양옆을 빼주면 안의 작은 빈 사각형의 가로, 세로가 됨.\n",
    "# 인덱스에서 %6을 사용해서 인덱스 범위를 넘어가지 않도록 조정.\n",
    "s_width = abs(length_line[(length_line.index(b_width) - 1) % 6] - length_line[(length_line.index(b_width) + 1) % 6])\n",
    "s_height = abs(length_line[(length_line.index(b_height) - 1) % 6] - length_line[(length_line.index(b_height) + 1) % 6])\n",
    "\n",
    "small_squ = s_width * s_height\n",
    "\n",
    "total_area = big_squ - small_squ\n",
    "\n",
    "print(length_line)\n",
    "print(direction_line)\n",
    "print()\n",
    "print(length_line.index(b_width))\n",
    "print(bigger_line)\n",
    "print(b_width)\n",
    "print(total_area * K)"
   ],
   "metadata": {
    "collapsed": false,
    "pycharm": {
     "name": "#%%\n"
    }
   }
  },
  {
   "cell_type": "markdown",
   "source": [
    "### 3053 택시 기하학\n",
    "\n",
    "---\n",
    "\n",
    "19세기 독일 수학자 헤르만 민코프스키는 비유클리드 기하학 중 택시 기하학을 고안했다.\n",
    "\n",
    "택시 기하학에서 두 점 T1(x1,y1), T2(x2,y2) 사이의 거리는 다음과 같이 구할 수 있다.\n",
    "\n",
    "D(T1,T2) = |x1-x2| + |y1-y2|\n",
    "\n",
    "두 점 사이의 거리를 제외한 나머지 정의는 유클리드 기하학에서의 정의와 같다.\n",
    "\n",
    "따라서 택시 기하학에서 원의 정의는 유클리드 기하학에서 원의 정의와 같다.\n",
    "\n",
    "원: 평면 상의 어떤 점에서 거리가 일정한 점들의 집합\n",
    "\n",
    "반지름 R이 주어졌을 때, 유클리드 기하학에서 원의 넓이와, 택시 기하학에서 원의 넓이를 구하는 프로그램을 작성하시오.\n",
    "\n",
    "---\n",
    "\n",
    "입력 : 첫째 줄에 반지름 R이 주어진다. R은 10,000보다 작거나 같은 자연수이다.\n",
    "\n",
    "출력 : 첫째 줄에는 유클리드 기하학에서 반지름이 R인 원의 넓이를, 둘째 줄에는 택시 기하학에서 반지름이 R인 원의 넓이를 출력한다. 정답과의 오차는 0.0001까지 허용한다."
   ],
   "metadata": {
    "collapsed": false,
    "pycharm": {
     "name": "#%% md\n"
    }
   }
  },
  {
   "cell_type": "code",
   "execution_count": 57,
   "outputs": [
    {
     "name": "stdout",
     "output_type": "stream",
     "text": [
      "3.141592653589793\n",
      "2\n"
     ]
    }
   ],
   "source": [
    "import math\n",
    "\n",
    "R = int(input())\n",
    "\n",
    "# 택시 기하학에서는 원이 원형이 아닌 마름모꼴로 나오며 양 대각선 길이 * 1/2이기 때문에\n",
    "# 정사각형 모양이어서 반지름에 4를 곱해 두 대각선을 구하고 1/2를 곱하면 원의 넓이.\n",
    "print(R**2 * math.pi)\n",
    "print(R**2 * 2)"
   ],
   "metadata": {
    "collapsed": false,
    "pycharm": {
     "name": "#%%\n"
    }
   }
  }
 ],
 "metadata": {
  "kernelspec": {
   "display_name": "Python 3",
   "language": "python",
   "name": "python3"
  },
  "language_info": {
   "codemirror_mode": {
    "name": "ipython",
    "version": 2
   },
   "file_extension": ".py",
   "mimetype": "text/x-python",
   "name": "python",
   "nbconvert_exporter": "python",
   "pygments_lexer": "ipython2",
   "version": "2.7.6"
  }
 },
 "nbformat": 4,
 "nbformat_minor": 0
}