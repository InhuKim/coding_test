{
 "cells": [
  {
   "cell_type": "code",
   "execution_count": 4,
   "metadata": {
    "collapsed": true
   },
   "outputs": [
    {
     "name": "stdout",
     "output_type": "stream",
     "text": [
      "강한친구 대한육군\n",
      "강한친구 대한육군\n",
      "\\    /\\\n",
      " )  ( ')\n",
      "(  /  )\n",
      " \\(__)|\n",
      "|\\_/|\n",
      "|q p|   /}\n",
      "( 0 )\"\"\"\\\n",
      "|\"^\"`    |\n",
      "||_/=\\\\__| \n",
      "4\n"
     ]
    }
   ],
   "source": [
    "# 백준 1단계 입출력과 사칙연산 2~11번 문제 성공\n",
    "# 예제 출력, 입력 값 사칙연산\n",
    "\n",
    "# 10718번\n",
    "\n",
    "print('강한친구 대한육군')\n",
    "print('강한친구 대한육군')\n",
    "\n",
    "# 10171번\n",
    "\n",
    "print(\"\"\"\\\\    /\\\\\n",
    " )  ( ')\n",
    "(  /  )\n",
    " \\\\(__)|\"\"\")\n",
    "\n",
    "# 10172번\n",
    "\n",
    "print('''|\\\\_/|\n",
    "|q p|   /}\n",
    "( 0 )\"\"\"\\\\\n",
    "|\"^\"`    |\n",
    "||_/=\\\\\\\\__| ''')\n",
    "\n",
    "# 1000번\n",
    "\n",
    "a , b = map(int, input().split())\n",
    "print(a+b)"
   ]
  },
  {
   "cell_type": "code",
   "execution_count": 2,
   "outputs": [
    {
     "name": "stdout",
     "output_type": "stream",
     "text": [
      "-1\n"
     ]
    }
   ],
   "source": [
    "# 1001번\n",
    "\n",
    "a , b = map(int, input().split())\n",
    "print(a-b)"
   ],
   "metadata": {
    "collapsed": false,
    "pycharm": {
     "name": "#%%\n"
    }
   }
  },
  {
   "cell_type": "code",
   "execution_count": null,
   "outputs": [],
   "source": [
    "# 10998번\n",
    "\n",
    "a , b = map(int, input().split())\n",
    "print(a * b)"
   ],
   "metadata": {
    "collapsed": false,
    "pycharm": {
     "name": "#%%\n"
    }
   }
  },
  {
   "cell_type": "code",
   "execution_count": null,
   "outputs": [],
   "source": [
    "# 1008번\n",
    "\n",
    "a , b = map(int, input().split())\n",
    "print(a / b)"
   ],
   "metadata": {
    "collapsed": false,
    "pycharm": {
     "name": "#%%\n"
    }
   }
  },
  {
   "cell_type": "code",
   "execution_count": null,
   "outputs": [],
   "source": [
    "# 10869번\n",
    "\n",
    "a , b = map(int, input().split())\n",
    "print(a + b)\n",
    "print(a - b)\n",
    "print(a * b)\n",
    "print(int(a / b))\n",
    "print(a % b)"
   ],
   "metadata": {
    "collapsed": false,
    "pycharm": {
     "name": "#%%\n"
    }
   }
  },
  {
   "cell_type": "code",
   "execution_count": null,
   "outputs": [],
   "source": [
    "# 10926 번\n",
    "\n",
    "a = input()\n",
    "b = '??!'\n",
    "print(a + b)"
   ],
   "metadata": {
    "collapsed": false,
    "pycharm": {
     "name": "#%%\n"
    }
   }
  },
  {
   "cell_type": "code",
   "execution_count": 5,
   "outputs": [
    {
     "name": "stdout",
     "output_type": "stream",
     "text": [
      "1513\n"
     ]
    }
   ],
   "source": [
    "# 18108 번\n",
    "\n",
    "a = int(input())\n",
    "b = a - 543\n",
    "print(b)"
   ],
   "metadata": {
    "collapsed": false,
    "pycharm": {
     "name": "#%%\n"
    }
   }
  },
  {
   "cell_type": "markdown",
   "source": [
    " - 입출력과 사칙연산에 관련된 간단한 문제 풀이\n",
    " - 해당 단계의 간단한 문제들은 정답만을 기재하는 것으로 지나감."
   ],
   "metadata": {
    "collapsed": false,
    "pycharm": {
     "name": "#%% md\n"
    }
   }
  },
  {
   "cell_type": "code",
   "execution_count": null,
   "outputs": [],
   "source": [],
   "metadata": {
    "collapsed": false,
    "pycharm": {
     "name": "#%%\n"
    }
   }
  }
 ],
 "metadata": {
  "kernelspec": {
   "display_name": "Python 3",
   "language": "python",
   "name": "python3"
  },
  "language_info": {
   "codemirror_mode": {
    "name": "ipython",
    "version": 2
   },
   "file_extension": ".py",
   "mimetype": "text/x-python",
   "name": "python",
   "nbconvert_exporter": "python",
   "pygments_lexer": "ipython2",
   "version": "2.7.6"
  }
 },
 "nbformat": 4,
 "nbformat_minor": 0
}