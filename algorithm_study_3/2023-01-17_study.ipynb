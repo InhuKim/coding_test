{
 "cells": [
  {
   "attachments": {},
   "cell_type": "markdown",
   "metadata": {},
   "source": [
    "# 24416 알고리즘 수업 - 피보나치 수1\n",
    "\n",
    "---\n",
    "\n",
    "오늘도 서준이는 동적 프로그래밍 수업 조교를 하고 있다. 아빠가 수업한 내용을 학생들이 잘 이해했는지 문제를 통해서 확인해보자.\n",
    "\n",
    "오늘은 n의 피보나치 수를 재귀호출과 동적 프로그래밍으로 구하는 알고리즘을 배웠다. 재귀호출에 비해 동적 프로그래밍이 얼마나 빠른지 확인해 보자. 아래 의사 코드를 이용하여 n의 피보나치 수를 구할 경우 코드1 코드2 실행 횟수를 출력하자.\n",
    "\n",
    "피보나치 수 재귀호출 의사 코드는 다음과 같다.\n",
    "\n",
    "---\n",
    "\n",
    "입력\n",
    "\n",
    "첫째 줄에 n(5 ≤ n ≤ 40)이 주어진다.\n",
    "\n",
    "출력\n",
    "\n",
    "코드1 코드2 실행 횟수를 한 줄에 출력한다.\n",
    "\n"
   ]
  },
  {
   "cell_type": "code",
   "execution_count": null,
   "metadata": {},
   "outputs": [],
   "source": [
    "n = int(input())\n",
    "result = []\n",
    "cnt_f = 0\n",
    "cnt_F = 0\n",
    "\n",
    "def fib(n):\n",
    "    global cnt_f\n",
    "    if n == 1 or n ==2:\n",
    "        cnt_f += 1\n",
    "        return 1\n",
    "    else:\n",
    "        return (fib(n-1) + fib(n-2))\n",
    "\n",
    "def fibonacci(n):\n",
    "    global cnt_F\n",
    "    F = [0 for _ in range(n)]\n",
    "    F[0], F[1] = 1, 1\n",
    "\n",
    "    for i in range(2, n):\n",
    "        cnt_F += 1\n",
    "        F[i] = F[i-1] + F[i-2]\n",
    "    \n",
    "    return F[n-1]\n",
    "\n",
    "fib(n)\n",
    "fibonacci(n)\n",
    "\n",
    "result.append(cnt_f)\n",
    "result.append(cnt_F)\n",
    "\n",
    "print(*result, sep=' ')"
   ]
  },
  {
   "attachments": {},
   "cell_type": "markdown",
   "metadata": {},
   "source": [
    "# 9184 신나는 함수 실행\n",
    "\n",
    "---\n",
    "\n",
    "재귀 호출만 생각하면 신이 난다! 아닌가요?\n",
    "\n",
    "다음과 같은 재귀함수 w(a, b, c)가 있다.\n",
    "\n",
    "위의 함수를 구현하는 것은 매우 쉽다. 하지만, 그대로 구현하면 값을 구하는데 매우 오랜 시간이 걸린다. (예를 들면, a=15, b=15, c=15)\n",
    "\n",
    "a, b, c가 주어졌을 때, w(a, b, c)를 출력하는 프로그램을 작성하시오.\n",
    "\n",
    "---\n",
    "\n",
    "입력\n",
    "\n",
    "입력은 세 정수 a, b, c로 이루어져 있으며, 한 줄에 하나씩 주어진다. 입력의 마지막은 -1 -1 -1로 나타내며, 세 정수가 모두 -1인 경우는 입력의 마지막을 제외하면 없다.\n",
    "\n",
    "출력\n",
    "\n",
    "입력으로 주어진 각각의 a, b, c에 대해서, w(a, b, c)를 출력한다.\n",
    "\n"
   ]
  },
  {
   "cell_type": "code",
   "execution_count": 5,
   "metadata": {},
   "outputs": [
    {
     "name": "stdout",
     "output_type": "stream",
     "text": [
      "w(1, 1, 1) = 2\n",
      "w(2, 2, 2) = 4\n",
      "w(10, 4, 6) = 523\n",
      "w(50, 50, 50) = 1048576\n",
      "w(-1, 7, 18) = 1\n"
     ]
    }
   ],
   "source": [
    "# 문제에서 주어진 의사코드\n",
    "def recusive(a, b, c):\n",
    "    if a <= 0 or b <= 0 or c <= 0:\n",
    "        return 1\n",
    "    if a > 20 or b > 20 or c > 20:\n",
    "        return recusive(20, 20, 20)\n",
    "    \n",
    "    if a < b and b < c:\n",
    "        return recusive(a, b, c-1) + recusive(a, b-1, c-1) - recusive(a, b-1, c)\n",
    "\n",
    "    else:\n",
    "        return recusive(a-1, b, c) + recusive(a-1, b-1, c) + recusive(a-1, b, c-1) - recusive(a-1, b-1, c-1)\n",
    "\n",
    "dp = [[[0]* 21 for _ in range(21)] for _ in range(21)]\n",
    "\n",
    "def dynamic(a, b, c):\n",
    "\n",
    "    if a <= 0 or b <= 0 or c <= 0:\n",
    "        return 1\n",
    "    if a > 20 or b > 20 or c > 20:\n",
    "        return dynamic(20, 20, 20)\n",
    "    if dp[a][b][c]:\n",
    "        return dp[a][b][c]\n",
    "\n",
    "    if a < b < c:\n",
    "        dp[a][b][c] = dynamic(a, b, c-1) + dynamic(a, b-1, c-1) - dynamic(a, b-1, c)\n",
    "        return dp[a][b][c]\n",
    "    else:\n",
    "        dp[a][b][c] = dynamic(a-1, b, c) + dynamic(a-1, b-1, c) + dynamic(a-1, b, c-1) - dynamic(a-1, b-1, c-1)\n",
    "        return dp[a][b][c]\n",
    "\n",
    "\n",
    "while True:\n",
    "    a, b, c = map(int, input().split())\n",
    "\n",
    "    if a == -1 and b == -1 and c == -1: break\n",
    "\n",
    "    print(\"w({}, {}, {}) = {}\".format(a, b, c, dynamic(a, b, c)))\n",
    "\n",
    "# 동적 프로그래밍도 재귀를 사용할 수 있다는 생각을 못해서 오랜 시간이 걸렸고 결국 풀이를 확인하고서 해결."
   ]
  }
 ],
 "metadata": {
  "kernelspec": {
   "display_name": "base",
   "language": "python",
   "name": "python3"
  },
  "language_info": {
   "codemirror_mode": {
    "name": "ipython",
    "version": 3
   },
   "file_extension": ".py",
   "mimetype": "text/x-python",
   "name": "python",
   "nbconvert_exporter": "python",
   "pygments_lexer": "ipython3",
   "version": "3.9.7"
  },
  "orig_nbformat": 4,
  "vscode": {
   "interpreter": {
    "hash": "f46cef1ff12eb510cb1a3dc4d8f85382be00b2b17f42dca37b6d49c28f3b9aa4"
   }
  }
 },
 "nbformat": 4,
 "nbformat_minor": 2
}
