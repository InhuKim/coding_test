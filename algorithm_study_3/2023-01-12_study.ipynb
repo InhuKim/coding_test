{
 "cells": [
  {
   "attachments": {},
   "cell_type": "markdown",
   "metadata": {},
   "source": [
    "# 24480 알고리즘 수업 - 깊이 우선 탐색 2\n",
    "\n",
    "---\n",
    "오늘도 서준이는 깊이 우선 탐색(DFS) 수업 조교를 하고 있다. 아빠가 수업한 내용을 학생들이 잘 이해했는지 문제를 통해서 확인해보자.\n",
    "\n",
    "N개의 정점과 M개의 간선으로 구성된 무방향 그래프(undirected graph)가 주어진다. 정점 번호는 1번부터 N번이고 모든 간선의 가중치는 1이다. 정점 R에서 시작하여 깊이 우선 탐색으로 노드를 방문할 경우 노드의 방문 순서를 출력하자.\n",
    "\n",
    "깊이 우선 탐색 의사 코드는 다음과 같다. 인접 정점은 내림차순으로 방문한다.\n",
    "\n",
    "---\n",
    "\n",
    "입력\n",
    "첫째 줄에 정점의 수 N (5 ≤ N ≤ 100,000), 간선의 수 M (1 ≤ M ≤ 200,000), 시작 정점 R (1 ≤ R ≤ N)이 주어진다.\n",
    "\n",
    "다음 M개 줄에 간선 정보 u v가 주어지며 정점 u와 정점 v의 가중치 1인 양방향 간선을 나타낸다. (1 ≤ u < v ≤ N, u ≠ v) 모든 간선의 (u, v) 쌍의 값은 서로 다르다.\n",
    "\n",
    "출력\n",
    "첫째 줄부터 N개의 줄에 정수를 한 개씩 출력한다. i번째 줄에는 정점 i의 방문 순서를 출력한다. 시작 정점의 방문 순서는 1이다. 시작 정점에서 방문할 수 없는 경우 0을 출력한다.\n",
    "\n"
   ]
  },
  {
   "cell_type": "code",
   "execution_count": 1,
   "metadata": {},
   "outputs": [
    {
     "name": "stdout",
     "output_type": "stream",
     "text": [
      "1\n",
      "4\n",
      "3\n",
      "2\n",
      "0\n"
     ]
    }
   ],
   "source": [
    "N, M, R = map(int, input().split())\n",
    "graph = [[] for _ in range(N+1)]\n",
    "path = []\n",
    "visited = [0] * (N + 1)\n",
    "\n",
    "for _ in range(M):\n",
    "    u, v = map(int, input().split())\n",
    "    graph[u].append(v)\n",
    "    graph[v].append(u)\n",
    "\n",
    "for i in range(1, len(graph)):\n",
    "    graph[i].sort(reverse=True)\n",
    "\n",
    "def dfs(v):\n",
    "    visited[v] = 1\n",
    "    path.append(v)\n",
    "    for i in graph[v]:\n",
    "        if visited[i] == 0:\n",
    "            dfs(i)\n",
    "    return\n",
    "\n",
    "dfs(R)\n",
    "\n",
    "for idx, node in enumerate(path):\n",
    "    visited[node] = idx + 1\n",
    "\n",
    "print(*visited[1:], sep='\\n')"
   ]
  },
  {
   "attachments": {},
   "cell_type": "markdown",
   "metadata": {},
   "source": [
    "# 24444 알고리즘 수업 - 너비 우선 탐색 1\n",
    "\n",
    "---\n",
    "\n",
    "오늘도 서준이는 너비 우선 탐색(BFS) 수업 조교를 하고 있다. 아빠가 수업한 내용을 학생들이 잘 이해했는지 문제를 통해서 확인해보자.\n",
    "\n",
    "N개의 정점과 M개의 간선으로 구성된 무방향 그래프(undirected graph)가 주어진다. 정점 번호는 1번부터 N번이고 모든 간선의 가중치는 1이다. 정점 R에서 시작하여 너비 우선 탐색으로 노드를 방문할 경우 노드의 방문 순서를 출력하자.\n",
    "\n",
    "너비 우선 탐색 의사 코드는 다음과 같다. 인접 정점은 오름차순으로 방문한다.\n",
    "\n",
    "---\n",
    "\n",
    "입력\n",
    "첫째 줄에 정점의 수 N (5 ≤ N ≤ 100,000), 간선의 수 M (1 ≤ M ≤ 200,000), 시작 정점 R (1 ≤ R ≤ N)이 주어진다.\n",
    "다음 M개 줄에 간선 정보 u v가 주어지며 정점 u와 정점 v의 가중치 1인 양방향 간선을 나타낸다. (1 ≤ u < v ≤ N, u ≠ v) 모든 간선의 (u, v) 쌍의 값은 서로 다르다.\n",
    "\n",
    "출력\n",
    "첫째 줄부터 N개의 줄에 정수를 한 개씩 출력한다. i번째 줄에는 정점 i의 방문 순서를 출력한다. 시작 정점의 방문 순서는 1이다. 시작 정점에서 방문할 수 없는 경우 0을 출력한다.\n",
    "\n"
   ]
  },
  {
   "cell_type": "code",
   "execution_count": 8,
   "metadata": {},
   "outputs": [
    {
     "name": "stdout",
     "output_type": "stream",
     "text": [
      "1\n",
      "2\n",
      "4\n",
      "3\n",
      "0\n"
     ]
    }
   ],
   "source": [
    "from collections import deque\n",
    "\n",
    "N, M, R = map(int, input().split())\n",
    "graph = [[] for _ in range(N+1)]\n",
    "path = []\n",
    "visited = [0] * (N + 1)\n",
    "\n",
    "for _ in range(M):\n",
    "    u, v = map(int, input().split())\n",
    "    graph[u].append(v)\n",
    "    graph[v].append(u)\n",
    "\n",
    "for i in range(1, len(graph)):\n",
    "    graph[i].sort(reverse=False)\n",
    "\n",
    "def bfs(v):\n",
    "    queue = deque([v])\n",
    "    visited[v] = 1\n",
    "\n",
    "    while queue:\n",
    "        a = queue.popleft()\n",
    "        path.append(a)\n",
    "\n",
    "        for i in graph[a]:\n",
    "            if visited[i] == 0:\n",
    "                queue.append(i)\n",
    "                visited[i] = 1\n",
    "\n",
    "bfs(R)\n",
    "\n",
    "for idx, node in enumerate(path):\n",
    "    visited[node] = idx + 1\n",
    "\n",
    "print(*visited[1:], sep='\\n')\n",
    "\n",
    "# 24445 문제는 내림차순으로만 바뀌어서 sort(reverse=True)로 바꾸기만 하면 정답."
   ]
  },
  {
   "attachments": {},
   "cell_type": "markdown",
   "metadata": {},
   "source": [
    "# 2606 바이러스\n",
    "\n",
    "---\n",
    "\n",
    "신종 바이러스인 웜 바이러스는 네트워크를 통해 전파된다. 한 컴퓨터가 웜 바이러스에 걸리면 그 컴퓨터와 네트워크 상에서 연결되어 있는 모든 컴퓨터는 웜 바이러스에 걸리게 된다.\n",
    "\n",
    "예를 들어 7대의 컴퓨터가 <그림 1>과 같이 네트워크 상에서 연결되어 있다고 하자. 1번 컴퓨터가 웜 바이러스에 걸리면 웜 바이러스는 2번과 5번 컴퓨터를 거쳐 3번과 6번 컴퓨터까지 전파되어 2, 3, 5, 6 네 대의 컴퓨터는 웜 바이러스에 걸리게 된다. 하지만 4번과 7번 컴퓨터는 1번 컴퓨터와 네트워크상에서 연결되어 있지 않기 때문에 영향을 받지 않는다.\n",
    "\n",
    "어느 날 1번 컴퓨터가 웜 바이러스에 걸렸다. 컴퓨터의 수와 네트워크 상에서 서로 연결되어 있는 정보가 주어질 때, 1번 컴퓨터를 통해 웜 바이러스에 걸리게 되는 컴퓨터의 수를 출력하는 프로그램을 작성하시오.\n",
    "\n",
    "---\n",
    "\n",
    "입력\n",
    "\n",
    "첫째 줄에는 컴퓨터의 수가 주어진다. 컴퓨터의 수는 100 이하이고 각 컴퓨터에는 1번 부터 차례대로 번호가 매겨진다. 둘째 줄에는 네트워크 상에서 직접 연결되어 있는 컴퓨터 쌍의 수가 주어진다. 이어서 그 수만큼 한 줄에 한 쌍씩 네트워크 상에서 직접 연결되어 있는 컴퓨터의 번호 쌍이 주어진다.\n",
    "\n",
    "출력\n",
    "\n",
    "1번 컴퓨터가 웜 바이러스에 걸렸을 때, 1번 컴퓨터를 통해 웜 바이러스에 걸리게 되는 컴퓨터의 수를 첫째 줄에 출력한다.\n",
    "\n"
   ]
  },
  {
   "cell_type": "code",
   "execution_count": 10,
   "metadata": {},
   "outputs": [
    {
     "name": "stdout",
     "output_type": "stream",
     "text": [
      "4\n"
     ]
    }
   ],
   "source": [
    "from collections import deque\n",
    "\n",
    "N = int(input())\n",
    "M = int(input())\n",
    "graph = [[] for _ in range(N+1)]\n",
    "visited = [0] * (N + 1)\n",
    "cnt = 0\n",
    "\n",
    "for _ in range(M):\n",
    "    u, v = map(int, input().split())\n",
    "    graph[u].append(v)\n",
    "    graph[v].append(u)\n",
    "\n",
    "for i in range(1, len(graph)):\n",
    "    graph[i].sort(reverse=False)\n",
    "\n",
    "def bfs(v):\n",
    "    global cnt\n",
    "    queue = deque([v])\n",
    "    visited[v] = 1\n",
    "\n",
    "    while queue:\n",
    "        a = queue.popleft()\n",
    "\n",
    "        for i in graph[a]:\n",
    "            if visited[i] == 0:\n",
    "                queue.append(i)\n",
    "                visited[i] = 1 \n",
    "\n",
    "bfs(1)\n",
    "\n",
    "for i in visited[2:]:\n",
    "    if i == 1:\n",
    "        cnt += 1\n",
    "\n",
    "print(cnt)"
   ]
  },
  {
   "attachments": {},
   "cell_type": "markdown",
   "metadata": {},
   "source": [
    "# 1260 DFS와 BFS\n",
    "\n",
    "---\n",
    "\n",
    "그래프를 DFS로 탐색한 결과와 BFS로 탐색한 결과를 출력하는 프로그램을 작성하시오. 단, 방문할 수 있는 정점이 여러 개인 경우에는 정점 번호가 작은 것을 먼저 방문하고, 더 이상 방문할 수 있는 점이 없는 경우 종료한다. 정점 번호는 1번부터 N번까지이다.\n",
    "\n",
    "---\n",
    "\n",
    "입력\n",
    "\n",
    "첫째 줄에 정점의 개수 N(1 ≤ N ≤ 1,000), 간선의 개수 M(1 ≤ M ≤ 10,000), 탐색을 시작할 정점의 번호 V가 주어진다. 다음 M개의 줄에는 간선이 연결하는 두 정점의 번호가 주어진다. 어떤 두 정점 사이에 여러 개의 간선이 있을 수 있다. 입력으로 주어지는 간선은 양방향이다.\n",
    "\n",
    "출력\n",
    "\n",
    "첫째 줄에 DFS를 수행한 결과를, 그 다음 줄에는 BFS를 수행한 결과를 출력한다. V부터 방문된 점을 순서대로 출력하면 된다.\n",
    "\n"
   ]
  },
  {
   "cell_type": "code",
   "execution_count": 32,
   "metadata": {},
   "outputs": [
    {
     "name": "stdout",
     "output_type": "stream",
     "text": [
      "1000 999\n",
      "1000 999\n"
     ]
    },
    {
     "data": {
      "text/plain": [
       "'\\n스택과 큐를 사용해서 선입선출, 선입후출에 의해서 작은 원소부터 꺼내야 되는 조건을 위해서 sorted 함수를 걸어 설정.\\n'"
      ]
     },
     "execution_count": 32,
     "metadata": {},
     "output_type": "execute_result"
    }
   ],
   "source": [
    "from collections import deque\n",
    "\n",
    "N, M, R = map(int, input().split())\n",
    "graph = [[] for _ in range(N+1)]\n",
    "path = [[], []]\n",
    "visited_dfs = [0] * (N + 1)\n",
    "visited_bfs = [0] * (N + 1)\n",
    "\n",
    "\n",
    "for _ in range(M):\n",
    "    u, v = map(int, input().split())\n",
    "    graph[u].append(v)\n",
    "    graph[v].append(u)\n",
    "\n",
    "for i in range(1, len(graph)):\n",
    "    graph[i].sort(reverse=False)\n",
    "\n",
    "def dfs(v):\n",
    "    stack = []\n",
    "    stack.append(v)\n",
    "\n",
    "    while stack:\n",
    "        cur_node = stack.pop()\n",
    "\n",
    "        if visited_dfs[cur_node] == 0:\n",
    "            visited_dfs[cur_node] = 1\n",
    "            path[0].append(cur_node)\n",
    "\n",
    "        for next_node in sorted(graph[cur_node], reverse=True):\n",
    "            if visited_dfs[next_node] == 0:\n",
    "                stack.append(next_node)\n",
    "            \n",
    "def bfs(v):\n",
    "    queue = deque()\n",
    "    queue.append(v)\n",
    "\n",
    "    while queue:\n",
    "        a = queue.popleft()\n",
    "\n",
    "        if visited_bfs[a] == 0:\n",
    "            visited_bfs[a] = 1\n",
    "            path[1].append(a)\n",
    "\n",
    "        for i in graph[a]:\n",
    "            if visited_bfs[i] == 0:\n",
    "                queue.append(i)\n",
    "                \n",
    "\n",
    "dfs(R)\n",
    "bfs(R)\n",
    "\n",
    "# for idx, node in enumerate(path[0]):\n",
    "#     visited_dfs[node] = idx + 1\n",
    "\n",
    "# for idx, node in enumerate(path[1]):\n",
    "#     visited_bfs[node] = idx + 1\n",
    "\n",
    "print(*path[0], sep=' ')\n",
    "print(*path[1], sep=' ')\n",
    "\n",
    "\n",
    "\n",
    "# 스택과 큐를 사용해서 선입선출, 선입후출에 의해서 작은 원소부터 꺼내야 되는 조건을 위해서 sorted 함수를 걸어 설정."
   ]
  }
 ],
 "metadata": {
  "kernelspec": {
   "display_name": "study",
   "language": "python",
   "name": "python3"
  },
  "language_info": {
   "codemirror_mode": {
    "name": "ipython",
    "version": 3
   },
   "file_extension": ".py",
   "mimetype": "text/x-python",
   "name": "python",
   "nbconvert_exporter": "python",
   "pygments_lexer": "ipython3",
   "version": "3.6.13"
  },
  "orig_nbformat": 4,
  "vscode": {
   "interpreter": {
    "hash": "dfd8ba1571dc0e773ee2ef5af857650654dc48a2fa807e41858eacb8e0cb31d0"
   }
  }
 },
 "nbformat": 4,
 "nbformat_minor": 2
}
