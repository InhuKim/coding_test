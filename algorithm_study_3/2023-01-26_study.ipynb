{
 "cells": [
  {
   "attachments": {},
   "cell_type": "markdown",
   "metadata": {},
   "source": [
    "# 1874 스택 수열\n",
    "\n",
    "---\n",
    "\n",
    "스택 (stack)은 기본적인 자료구조 중 하나로, 컴퓨터 프로그램을 작성할 때 자주 이용되는 개념이다. 스택은 자료를 넣는 (push) 입구와 자료를 뽑는 (pop) 입구가 같아 제일 나중에 들어간 자료가 제일 먼저 나오는 (LIFO, Last in First out) 특성을 가지고 있다.\n",
    "\n",
    "1부터 n까지의 수를 스택에 넣었다가 뽑아 늘어놓음으로써, 하나의 수열을 만들 수 있다. 이때, 스택에 push하는 순서는 반드시 오름차순을 지키도록 한다고 하자. 임의의 수열이 주어졌을 때 스택을 이용해 그 수열을 만들 수 있는지 없는지, 있다면 어떤 순서로 push와 pop 연산을 수행해야 하는지를 알아낼 수 있다. 이를 계산하는 프로그램을 작성하라.\n",
    "\n",
    "---\n",
    "\n",
    "입력\n",
    "\n",
    "첫 줄에 n (1 ≤ n ≤ 100,000)이 주어진다. 둘째 줄부터 n개의 줄에는 수열을 이루는 1이상 n이하의 정수가 하나씩 순서대로 주어진다. 물론 같은 정수가 두 번 나오는 일은 없다.\n",
    "\n",
    "출력\n",
    "\n",
    "입력된 수열을 만들기 위해 필요한 연산을 한 줄에 한 개씩 출력한다. push연산은 +로, pop 연산은 -로 표현하도록 한다. 불가능한 경우 NO를 출력한다.\n",
    "\n"
   ]
  },
  {
   "cell_type": "code",
   "execution_count": 18,
   "metadata": {},
   "outputs": [
    {
     "name": "stdout",
     "output_type": "stream",
     "text": [
      "[1, 2, 3, 4]\n",
      "4 4\n",
      "[1, 2, 3]\n",
      "3 3\n",
      "[1, 2, 5, 6]\n",
      "6 6\n",
      "[1, 2, 5, 7, 8]\n",
      "8 8\n",
      "[1, 2, 5, 7]\n",
      "7 7\n",
      "[1, 2, 5]\n",
      "5 5\n",
      "[1, 2]\n",
      "2 2\n",
      "[1]\n",
      "1 1\n",
      "+\n",
      "+\n",
      "+\n",
      "+\n",
      "-\n",
      "-\n",
      "+\n",
      "+\n",
      "-\n",
      "+\n",
      "+\n",
      "-\n",
      "-\n",
      "-\n",
      "-\n",
      "-\n"
     ]
    }
   ],
   "source": [
    "N = int(input())\n",
    "result = []\n",
    "stack = []\n",
    "count = 1\n",
    "temp = True\n",
    "\n",
    "for _ in range(N):\n",
    "    check = int(input())\n",
    "\n",
    "    while count <= check:\n",
    "        stack.append(count)\n",
    "        result.append('+')\n",
    "        count +=1\n",
    "\n",
    "    if stack[-1] == check:\n",
    "        stack.pop()\n",
    "        result.append('-')\n",
    "\n",
    "    else:\n",
    "        temp = False\n",
    "        break\n",
    "\n",
    "if temp == False:\n",
    "    print('NO')\n",
    "else:\n",
    "    print(*result, sep='\\n')\n",
    "\n",
    "\n",
    "''' \n",
    "처음에는 숫자 리스트를 만들어 for 문으로 넘겨서 진행했는데 이런 경우 out of range가 발생해서 실패.\n",
    "count로 스택에 넣을 숫자들을 만들고 while문에서는 push만 담당하고 if문에서 완성되는 수열을 담당.\n",
    "'''"
   ]
  }
 ],
 "metadata": {
  "kernelspec": {
   "display_name": "study",
   "language": "python",
   "name": "python3"
  },
  "language_info": {
   "codemirror_mode": {
    "name": "ipython",
    "version": 3
   },
   "file_extension": ".py",
   "mimetype": "text/x-python",
   "name": "python",
   "nbconvert_exporter": "python",
   "pygments_lexer": "ipython3",
   "version": "3.6.13"
  },
  "orig_nbformat": 4,
  "vscode": {
   "interpreter": {
    "hash": "dfd8ba1571dc0e773ee2ef5af857650654dc48a2fa807e41858eacb8e0cb31d0"
   }
  }
 },
 "nbformat": 4,
 "nbformat_minor": 2
}
