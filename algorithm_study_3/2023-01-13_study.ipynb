{
 "cells": [
  {
   "attachments": {},
   "cell_type": "markdown",
   "metadata": {},
   "source": [
    "# 2667 단지번호붙이기\n",
    "\n",
    "---\n",
    "\n",
    "<그림 1>과 같이 정사각형 모양의 지도가 있다. 1은 집이 있는 곳을, 0은 집이 없는 곳을 나타낸다. 철수는 이 지도를 가지고 연결된 집의 모임인 단지를 정의하고, 단지에 번호를 붙이려 한다. 여기서 연결되었다는 것은 어떤 집이 좌우, 혹은 아래위로 다른 집이 있는 경우를 말한다. 대각선상에 집이 있는 경우는 연결된 것이 아니다. <그림 2>는 <그림 1>을 단지별로 번호를 붙인 것이다. 지도를 입력하여 단지수를 출력하고, 각 단지에 속하는 집의 수를 오름차순으로 정렬하여 출력하는 프로그램을 작성하시오.\n",
    "\n",
    "---\n",
    "\n",
    "입력\n",
    "\n",
    "첫 번째 줄에는 지도의 크기 N(정사각형이므로 가로와 세로의 크기는 같으며 5≤N≤25)이 입력되고, 그 다음 N줄에는 각각 N개의 자료(0혹은 1)가 입력된다.\n",
    "\n",
    "출력\n",
    "\n",
    "첫 번째 줄에는 총 단지수를 출력하시오. 그리고 각 단지내 집의 수를 오름차순으로 정렬하여 한 줄에 하나씩 출력하시오.\n",
    "\n"
   ]
  },
  {
   "cell_type": "code",
   "execution_count": 4,
   "metadata": {},
   "outputs": [
    {
     "name": "stdout",
     "output_type": "stream",
     "text": [
      "3\n",
      "7\n",
      "8\n",
      "9\n"
     ]
    }
   ],
   "source": [
    "from collections import deque\n",
    "\n",
    "N = int(input())\n",
    "graph = []\n",
    "\n",
    "\n",
    "for _ in range(N):\n",
    "    temp = list(map(int, input()))\n",
    "    graph.append(temp)\n",
    "\n",
    "def bfs(graph, y, x):\n",
    "    queue = deque()\n",
    "\n",
    "    # 상하좌우\n",
    "    # y= row, x=col ; [y][x]\n",
    "    vy = [-1, 1, 0, 0]\n",
    "    vx = [0, 0, -1, 1]\n",
    "\n",
    "    queue.append((y, x))\n",
    "    graph[y][x] = 0\n",
    "    cnt = 1\n",
    "\n",
    "    while queue:\n",
    "        y, x = queue.popleft()\n",
    "        \n",
    "        for i in range(4):\n",
    "            dy = y + vy[i]\n",
    "            dx = x + vx[i]\n",
    "\n",
    "            if dy < 0 or dx < 0 or dy >= N or dx >= N:\n",
    "                continue\n",
    "\n",
    "            if graph[dy][dx] == 1:\n",
    "                graph[dy][dx] = 0\n",
    "                queue.append((dy, dx))\n",
    "                cnt += 1\n",
    "\n",
    "    return cnt\n",
    "\n",
    "# bfs를 진행하면 graph의 1 값이 모두 0으로 변경되기 때문에 1로 if를 걸어 전체 탐색\n",
    "result = [bfs(graph, i, j) for i in range(N) for j in range(N) if graph[i][j] == 1]\n",
    "\n",
    "result.sort()\n",
    "\n",
    "print(len(result))\n",
    "print(*result, sep='\\n')"
   ]
  },
  {
   "attachments": {},
   "cell_type": "markdown",
   "metadata": {},
   "source": [
    "### trouble shooting\n",
    "\n",
    " - input(), sys.stdin.readline()의 차이점을 명확히 몰라 valueerror를 겪거나 예제를 잘못 입력하여 문제를 맞췄는지 모르는 경우가 생김.\n",
    " - .split()를 사용할 경우 리스트에 담겨 전달되는 것을 몰라 map()을 사용했더니 앞에 0값들이 사라져서 index out of range 발생.\n",
    " - split() 함수의 사용 시기를 명확히 확인할 필요가 있으며 sys로 읽을 경우 \\n 정규식이 같이 입력되는 경우 존재.\n",
    " \n",
    "  - sys의 경우\n",
    "  - split()을 사용하는 경우 줄바꿈 정규식이 들어가지 않는다. 하지만 map()을 이용하는 경우 int 형으로 형변환을 하는 경우에 typeerror 발생.\n",
    "  - 그대로 받는 경우 뒤에 줄바꿈 정규식이 들어간다. txt 파일을 열어서 생긴 문제로 보이고 백준에서는 일어나지 않는 문제다.\n",
    "  - 예제를 txt에 넣어서 돌려보기 위해서는 int가 필요한 경우 형변환을 시켜주는 코드를 따로 짤 필요가 있다."
   ]
  },
  {
   "cell_type": "code",
   "execution_count": 23,
   "metadata": {},
   "outputs": [
    {
     "name": "stdout",
     "output_type": "stream",
     "text": [
      "a : 0110100\n",
      "\n",
      "d : ['0110101']\n",
      "e : ['1110101\\n', '0000111\\n', '0100000\\n']\n",
      "f : [['0111110'], ['0111000'], ['0111110']]\n",
      "g : [[100000], [111], [1110101]]\n",
      "h : [['0', '1', '1', '0', '1', '0', '1', '\\n'], ['0', '1', '1', '0', '1', '0', '0', '\\n'], ['0', '0', '0', '0', '1', '1', '1', '\\n']]\n",
      "b : 0111110\n",
      "c : ['0111110']\n"
     ]
    }
   ],
   "source": [
    "import sys\n",
    "\n",
    "# 0110100\n",
    "\n",
    "sys.stdin = open(\"C:\\coding_test\\coding_test\\input.txt\", 'r')\n",
    "\n",
    "a = sys.stdin.readline()\n",
    "d = sys.stdin.readline().split()\n",
    "e = list(sys.stdin.readline() for _ in range(3))\n",
    "f = list(sys.stdin.readline().split() for _ in range(3))\n",
    "g = [list(map(int, sys.stdin.readline().split())) for _ in range(3)]\n",
    "# h = [list(map(int, sys.stdin.readline())) for _ in range(3)]\n",
    "# invalid literal for int() with base 10: '\\n' ; 계속 \\n 줄바꿈 정규식이 들어감.\n",
    "h = [list(map(str, sys.stdin.readline())) for _ in range(3)]\n",
    "b = input()\n",
    "c = input().split()\n",
    "\n",
    "\n",
    "print('a : {}'.format(a))\n",
    "print('d : {}'.format(d))\n",
    "print('e : {}'.format(e))\n",
    "print('f : {}'.format(f))\n",
    "print('g : {}'.format(g))\n",
    "print('h : {}'.format(h))\n",
    "print('b : {}'.format(b))\n",
    "print('c : {}'.format(c))"
   ]
  }
 ],
 "metadata": {
  "kernelspec": {
   "display_name": "study",
   "language": "python",
   "name": "python3"
  },
  "language_info": {
   "codemirror_mode": {
    "name": "ipython",
    "version": 3
   },
   "file_extension": ".py",
   "mimetype": "text/x-python",
   "name": "python",
   "nbconvert_exporter": "python",
   "pygments_lexer": "ipython3",
   "version": "3.6.13"
  },
  "orig_nbformat": 4,
  "vscode": {
   "interpreter": {
    "hash": "dfd8ba1571dc0e773ee2ef5af857650654dc48a2fa807e41858eacb8e0cb31d0"
   }
  }
 },
 "nbformat": 4,
 "nbformat_minor": 2
}
