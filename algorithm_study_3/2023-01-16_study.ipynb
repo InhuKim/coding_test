{
 "cells": [
  {
   "attachments": {},
   "cell_type": "markdown",
   "metadata": {},
   "source": [
    "# 1012 유기농 배추\n",
    "\n",
    "---\n",
    "\n",
    "차세대 영농인 한나는 강원도 고랭지에서 유기농 배추를 재배하기로 하였다. 농약을 쓰지 않고 배추를 재배하려면 배추를 해충으로부터 보호하는 것이 중요하기 때문에, 한나는 해충 방지에 효과적인 배추흰지렁이를 구입하기로 결심한다. 이 지렁이는 배추근처에 서식하며 해충을 잡아 먹음으로써 배추를 보호한다. 특히, 어떤 배추에 배추흰지렁이가 한 마리라도 살고 있으면 이 지렁이는 인접한 다른 배추로 이동할 수 있어, 그 배추들 역시 해충으로부터 보호받을 수 있다. 한 배추의 상하좌우 네 방향에 다른 배추가 위치한 경우에 서로 인접해있는 것이다.\n",
    "\n",
    "한나가 배추를 재배하는 땅은 고르지 못해서 배추를 군데군데 심어 놓았다. 배추들이 모여있는 곳에는 배추흰지렁이가 한 마리만 있으면 되므로 서로 인접해있는 배추들이 몇 군데에 퍼져있는지 조사하면 총 몇 마리의 지렁이가 필요한지 알 수 있다. 예를 들어 배추밭이 아래와 같이 구성되어 있으면 최소 5마리의 배추흰지렁이가 필요하다. 0은 배추가 심어져 있지 않은 땅이고, 1은 배추가 심어져 있는 땅을 나타낸다.\n",
    "\n",
    "---\n",
    "\n",
    "입력\n",
    "\n",
    "입력의 첫 줄에는 테스트 케이스의 개수 T가 주어진다. 그 다음 줄부터 각각의 테스트 케이스에 대해 첫째 줄에는 배추를 심은 배추밭의 가로길이 M(1 ≤ M ≤ 50)과 세로길이 N(1 ≤ N ≤ 50), 그리고 배추가 심어져 있는 위치의 개수 K(1 ≤ K ≤ 2500)이 주어진다. 그 다음 K줄에는 배추의 위치 X(0 ≤ X ≤ M-1), Y(0 ≤ Y ≤ N-1)가 주어진다. 두 배추의 위치가 같은 경우는 없다.\n",
    "\n",
    "출력\n",
    "\n",
    "각 테스트 케이스에 대해 필요한 최소의 배추흰지렁이 마리 수를 출력한다.\n",
    "\n"
   ]
  },
  {
   "cell_type": "code",
   "execution_count": 11,
   "metadata": {},
   "outputs": [
    {
     "name": "stdout",
     "output_type": "stream",
     "text": [
      "5\n",
      "1\n"
     ]
    }
   ],
   "source": [
    "from collections import deque\n",
    "import sys\n",
    "\n",
    "sys.stdin = open(\"C:\\coding_test\\coding_test\\input.txt\", 'r')\n",
    "\n",
    "T = int(sys.stdin.readline())\n",
    "result = []\n",
    "\n",
    "for _ in range(T):\n",
    "    M, N, K = map(int, sys.stdin.readline().split(' '))\n",
    "\n",
    "    graph = [[0 for i in range(M)] for _ in range(N)]\n",
    "\n",
    "    for _ in range(K):\n",
    "        x, y = map(int, sys.stdin.readline().split(' '))\n",
    "        graph[y][x] = 1\n",
    "\n",
    "\n",
    "    def bfs(graph, y, x):\n",
    "        queue = deque()\n",
    "        vy = [-1, 1, 0, 0]\n",
    "        vx = [0, 0, -1, 1]\n",
    "\n",
    "        graph[y][x] = 0\n",
    "        queue.append((y, x))\n",
    "        cnt = 1\n",
    "\n",
    "        while queue:\n",
    "            y, x = queue.popleft()\n",
    "\n",
    "            for i in range(4):\n",
    "                dy = y + vy[i]\n",
    "                dx = x + vx[i]\n",
    "\n",
    "                if dy < 0 or dy >= N or dx < 0 or dx >= M:\n",
    "                    continue\n",
    "\n",
    "                if graph[dy][dx] == 1:\n",
    "                    graph[dy][dx] = 0\n",
    "                    queue.append((dy, dx))\n",
    "                    cnt += 1\n",
    "\n",
    "        return cnt\n",
    "\n",
    "    \n",
    "\n",
    "\n",
    "    result.append(len([bfs(graph, i, j) for j in range(M) for i in range(N) if graph[i][j] == 1]))\n",
    "\n",
    "\n",
    "print(*result, sep='\\n')\n",
    "    "
   ]
  },
  {
   "attachments": {},
   "cell_type": "markdown",
   "metadata": {},
   "source": [
    "# 2178 미로 탐색\n",
    "\n",
    "---\n",
    "\n",
    "N×M크기의 배열로 표현되는 미로가 있다.\n",
    "\n",
    "미로에서 1은 이동할 수 있는 칸을 나타내고, 0은 이동할 수 없는 칸을 나타낸다. 이러한 미로가 주어졌을 때, (1, 1)에서 출발하여 (N, M)의 위치로 이동할 때 지나야 하는 최소의 칸 수를 구하는 프로그램을 작성하시오. 한 칸에서 다른 칸으로 이동할 때, 서로 인접한 칸으로만 이동할 수 있다.\n",
    "\n",
    "위의 예에서는 15칸을 지나야 (N, M)의 위치로 이동할 수 있다. 칸을 셀 때에는 시작 위치와 도착 위치도 포함한다.\n",
    "\n",
    "---\n",
    "\n",
    "입력\n",
    "\n",
    "첫째 줄에 두 정수 N, M(2 ≤ N, M ≤ 100)이 주어진다. 다음 N개의 줄에는 M개의 정수로 미로가 주어진다. 각각의 수들은 붙어서 입력으로 주어진다.\n",
    "\n",
    "출력\n",
    "\n",
    "첫째 줄에 지나야 하는 최소의 칸 수를 출력한다. 항상 도착위치로 이동할 수 있는 경우만 입력으로 주어진다.\n",
    "\n"
   ]
  },
  {
   "cell_type": "code",
   "execution_count": 15,
   "metadata": {},
   "outputs": [
    {
     "name": "stdout",
     "output_type": "stream",
     "text": [
      "[[1, 0, 1, 1, 1, 1], [1, 0, 1, 0, 1, 0], [1, 0, 1, 0, 1, 1], [1, 1, 1, 0, 1, 1]]\n",
      "15\n"
     ]
    }
   ],
   "source": [
    "from collections import deque\n",
    "import sys\n",
    "\n",
    "sys.stdin = open(\"C:\\coding_test\\coding_test\\input.txt\", 'r')\n",
    "\n",
    "N, M = map(int, sys.stdin.readline().split(' '))\n",
    "\n",
    "graph = [list(map(int, sys.stdin.readline().split('\\n')[0])) for _ in range(N)]\n",
    "\n",
    "def bfs(graph, y, x):\n",
    "    queue = deque()\n",
    "    # 상, 하, 우\n",
    "    vx = [0, 0, 1, -1]\n",
    "    vy = [1, -1, 0, 0]\n",
    "    queue.append((y, x))\n",
    "\n",
    "    while queue:\n",
    "        temp = []\n",
    "        y, x = queue.popleft()\n",
    "        for i in range(4):\n",
    "            dx = x + vx[i]\n",
    "            dy = y + vy[i]\n",
    "\n",
    "            if dy < 0 or dy >= N or dx < 0 or dx >= M:\n",
    "                continue\n",
    "\n",
    "\n",
    "        # 거리관계를 계산하여 목표와 가장 가까운 점을 찾으려고 했는데 미로에서 갇히는 경우가 발생.\n",
    "        # 갇히는 경우를 탈출하고 다시 찾는 코드는 너무 복잡하고 오래걸리기 때문에 미로 전체를 탐색하는 방식으로 변경.\n",
    "        #     ud = (m - dx) + (n - dy)\n",
    "        #     print(graph[dy][dx], dy, dx)\n",
    "        #     if graph[dy][dx] == 1:\n",
    "        #         temp.append([ud, dy, dx])\n",
    "\n",
    "\n",
    "        # print(temp)\n",
    "        # _, by, bx = sorted(temp)[0]\n",
    "\n",
    "            if graph[dy][dx] == 1:\n",
    "                graph[dy][dx] = graph[y][x] + 1\n",
    "                queue.append((dy, dx))\n",
    "\n",
    "\n",
    "    return graph[N -1][M-1]\n",
    "\n",
    "print(bfs(graph, 0, 0))\n",
    "\n",
    "        \n",
    "        \n",
    "# readline()을 사용하는 경우 연습환경과 백준 컴파일 환경이 달라 바꿔줘야 됨.\n",
    "# split()이 아닌 rstrip()을 써줘야 옳바르게 입력.\n"
   ]
  }
 ],
 "metadata": {
  "kernelspec": {
   "display_name": "study",
   "language": "python",
   "name": "python3"
  },
  "language_info": {
   "codemirror_mode": {
    "name": "ipython",
    "version": 3
   },
   "file_extension": ".py",
   "mimetype": "text/x-python",
   "name": "python",
   "nbconvert_exporter": "python",
   "pygments_lexer": "ipython3",
   "version": "3.6.13"
  },
  "orig_nbformat": 4,
  "vscode": {
   "interpreter": {
    "hash": "dfd8ba1571dc0e773ee2ef5af857650654dc48a2fa807e41858eacb8e0cb31d0"
   }
  }
 },
 "nbformat": 4,
 "nbformat_minor": 2
}
