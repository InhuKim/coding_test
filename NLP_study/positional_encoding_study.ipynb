{
 "cells": [
  {
   "attachments": {},
   "cell_type": "markdown",
   "metadata": {},
   "source": [
    "# Positional Encoding\n",
    "\n",
    " - positional encoding은 문자의 위치정보를 인코딩하는 것으로 sin, cos 함수를 이용\n",
    " - Transformer 모델에서 처음으로 접했는데 해당 알고리즘이 명확히 이해가 되지 않아 아래 링크의 블로그를 참고해서 추가적으로 공부.\n",
    " - https://machinelearningmastery.com/a-gentle-introduction-to-positional-encoding-in-transformer-models-part-1/\n",
    " - https://gaussian37.github.io/dl-concept-positional_encoding/"
   ]
  },
  {
   "attachments": {},
   "cell_type": "markdown",
   "metadata": {},
   "source": [
    "$P(k, 2i) = \\sin(\\frac{k}{n^{2i/d}})$\n",
    "$\\\\ P(k, 2i + 1) = \\cos(\\frac{k}{n^{2i/d}})$"
   ]
  },
  {
   "cell_type": "code",
   "execution_count": 2,
   "metadata": {},
   "outputs": [
    {
     "name": "stdout",
     "output_type": "stream",
     "text": [
      "[[ 0.          1.          0.          1.        ]\n",
      " [ 0.84147098  0.54030231  0.09983342  0.99500417]\n",
      " [ 0.90929743 -0.41614684  0.19866933  0.98006658]\n",
      " [ 0.14112001 -0.9899925   0.29552021  0.95533649]]\n"
     ]
    }
   ],
   "source": [
    "# Coding the Positional Encoding Matrix from Scratch\n",
    "\n",
    "import numpy as np\n",
    "import matplotlib.pyplot as plt\n",
    "\n",
    "def getPositionEncoding(seq_len, d, n=10000):\n",
    "    # P = [0, 0, 0, 0] X4\n",
    "    P = np.zeros((seq_len, d))\n",
    "\n",
    "    for k in range(seq_len):\n",
    "        for i in np.arange(int(d/2)):\n",
    "            denominator = np.power(n, 2*i/d)\n",
    "            P[k, 2*i] = np.sin(k/denominator)\n",
    "            P[k, 2*i+1] = np.cos(k/denominator)\n",
    "    return P\n",
    "\n",
    "# 문장길이 : 4, output size = 4, \n",
    "P = getPositionEncoding(seq_len=4, d=4, n=100)\n",
    "print(P)\n"
   ]
  },
  {
   "cell_type": "code",
   "execution_count": 15,
   "metadata": {},
   "outputs": [
    {
     "name": "stdout",
     "output_type": "stream",
     "text": [
      "[0 1]\n",
      "8.0\n"
     ]
    }
   ],
   "source": [
    "np.zeros((4, 4))\n",
    "print(np.arange(int(4/2)))\n",
    "print(np.power(4, 1.5))"
   ]
  }
 ],
 "metadata": {
  "kernelspec": {
   "display_name": "study",
   "language": "python",
   "name": "python3"
  },
  "language_info": {
   "codemirror_mode": {
    "name": "ipython",
    "version": 3
   },
   "file_extension": ".py",
   "mimetype": "text/x-python",
   "name": "python",
   "nbconvert_exporter": "python",
   "pygments_lexer": "ipython3",
   "version": "3.6.13"
  },
  "orig_nbformat": 4,
  "vscode": {
   "interpreter": {
    "hash": "dfd8ba1571dc0e773ee2ef5af857650654dc48a2fa807e41858eacb8e0cb31d0"
   }
  }
 },
 "nbformat": 4,
 "nbformat_minor": 2
}
